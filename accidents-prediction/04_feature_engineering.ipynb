{
 "cells": [
  {
   "cell_type": "markdown",
   "id": "e2f0c811-b522-44ee-90b4-8dfdd76a94f8",
   "metadata": {},
   "source": [
    "# Feature engineering"
   ]
  },
  {
   "cell_type": "code",
   "execution_count": 20,
   "id": "9a0aa101-8286-415a-8b15-f6759102c351",
   "metadata": {},
   "outputs": [],
   "source": [
    "import geohash\n",
    "import time\n",
    "import pandas as pd\n",
    "import numpy as np\n",
    "import matplotlib.pyplot as plt\n",
    "from datetime import datetime"
   ]
  },
  {
   "cell_type": "code",
   "execution_count": 21,
   "id": "c45486d3-1ec9-44a0-8530-45e1570bb609",
   "metadata": {},
   "outputs": [
    {
     "name": "stdout",
     "output_type": "stream",
     "text": [
      "Loaded dataset in 3.29s\n"
     ]
    }
   ],
   "source": [
    "start = time.time()\n",
    "\n",
    "#chunk_size=100000\n",
    "df = pd.read_csv(\"./data/accidents_before_eda_cleaned.csv\")\n",
    "merged_data = pd.DataFrame()\n",
    "\n",
    "end = time.time()\n",
    "\n",
    "#Subtract Start Time from The End Time\n",
    "total_time = end - start\n",
    "print(f\"Loaded dataset in {round(total_time, 2)}s\")"
   ]
  },
  {
   "cell_type": "code",
   "execution_count": 22,
   "id": "c117741e-3856-497e-b9b7-f09ad48bb971",
   "metadata": {},
   "outputs": [
    {
     "name": "stdout",
     "output_type": "stream",
     "text": [
      "<class 'pandas.core.frame.DataFrame'>\n",
      "RangeIndex: 2505924 entries, 0 to 2505923\n",
      "Data columns (total 30 columns):\n",
      " #   Column   Dtype  \n",
      "---  ------   -----  \n",
      " 0   an       int64  \n",
      " 1   mois     int64  \n",
      " 2   jour     int64  \n",
      " 3   hrmn     int64  \n",
      " 4   col      float64\n",
      " 5   lum      int64  \n",
      " 6   agg      int64  \n",
      " 7   int      int64  \n",
      " 8   atm      float64\n",
      " 9   catr     float64\n",
      " 10  circ     float64\n",
      " 11  nbv      float64\n",
      " 12  vosp     float64\n",
      " 13  prof     float64\n",
      " 14  plan     float64\n",
      " 15  surf     float64\n",
      " 16  infra    float64\n",
      " 17  situ     float64\n",
      " 18  senc     float64\n",
      " 19  catv     int64  \n",
      " 20  obs      float64\n",
      " 21  obsm     float64\n",
      " 22  choc     float64\n",
      " 23  manv     float64\n",
      " 24  place    float64\n",
      " 25  catu     int64  \n",
      " 26  sexe     int64  \n",
      " 27  an_nais  float64\n",
      " 28  trajet   float64\n",
      " 29  grav     float64\n",
      "dtypes: float64(20), int64(10)\n",
      "memory usage: 573.6 MB\n"
     ]
    }
   ],
   "source": [
    "df.info()"
   ]
  },
  {
   "cell_type": "markdown",
   "id": "97ad5f86-12ed-46de-b696-8f23e80e31be",
   "metadata": {},
   "source": [
    "## Encode predicted variable 'grav'"
   ]
  },
  {
   "cell_type": "code",
   "execution_count": 23,
   "id": "79feb13b-b1a0-4fd7-8363-d5ab606f8c48",
   "metadata": {},
   "outputs": [],
   "source": [
    "mapping = \"ordinal\"\n",
    "if mapping == \"ordinal\":\n",
    "    current_order = {\"1\": \"Uninjured\",\n",
    "                     \"2\": \"Killed\",\n",
    "                     \"3\": \"Minor injuries\",\n",
    "                     \"4\": \"Serious injuries\"}\n",
    "\n",
    "    new_mapping = {1: 1,\n",
    "                   2: 4,\n",
    "                   3: 2,\n",
    "                   4: 3}\n",
    "\n",
    "    df[\"grav\"].astype(int)\n",
    "    df[\"grav\"] = df[\"grav\"].map(new_mapping)\n",
    "\n",
    "    grav_order = [1, 2, 3, 4]\n",
    "    df[\"grav\"] = pd.Categorical(df[\"grav\"], categories=grav_order, ordered=True)\n",
    "\n",
    "elif mapping == \"binary\":\n",
    "    new_mapping = {1: 0,\n",
    "                   2: 1,\n",
    "                   3: 0,\n",
    "                   4: 1}\n",
    "\n",
    "    df[\"grav\"] = df[\"grav\"].map(new_mapping)\n",
    "\n",
    "    grav_order = [1, 2, 3, 4]\n",
    "    df[\"grav\"] = pd.Categorical(df[\"grav\"])\n"
   ]
  },
  {
   "cell_type": "markdown",
   "id": "fd086db1-bffc-4137-a4db-68d6cd4856c0",
   "metadata": {},
   "source": [
    "## Recreate codes commmunes"
   ]
  },
  {
   "cell_type": "code",
   "execution_count": 24,
   "id": "70588ee8-5de3-4905-bb4a-034ab46a374b",
   "metadata": {},
   "outputs": [],
   "source": [
    "recreate_commune_codes = False\n",
    "if recreate_commune_codes == True:\n",
    "    df[df[\"an\"] not in [2019, 2020, 2021]][\"code_commune\"] = df[df[\"an\"] not in [2019, 2020, 2021]]"
   ]
  },
  {
   "cell_type": "markdown",
   "id": "5b30c633-01ff-4ac9-b308-a8395f84c210",
   "metadata": {},
   "source": [
    "## Create geohash"
   ]
  },
  {
   "cell_type": "code",
   "execution_count": 25,
   "id": "4d4c0923-9853-4b70-8c9a-ca718a58e526",
   "metadata": {},
   "outputs": [],
   "source": [
    "geohash = False\n",
    "if geohash == True:\n",
    "    def fill_missing_lat_long(row):\n",
    "        if pd.notnull(row[\"lat\"]) and pd.notnull(row[\"long\"]):\n",
    "            return row[\"lat\"], row[\"long\"]\n",
    "        else:\n",
    "            city_code = row[\"com\"]\n",
    "            print(city_code)\n",
    "            print(type(city_code))\n",
    "            if city_code in codes_communes[\"code_commune\"].unique():\n",
    "                print(True)\n",
    "                latitude = codes_communes_latitudes[\"city_code\"]\n",
    "                longitude = codes_communes_longitudes[\"city_code\"]\n",
    "                return latitude, longitude\n",
    "            else:\n",
    "                return row[\"lat\"], row[\"long\"]  # Return original values if city code is not found\n",
    "\n",
    "    def create_geohash(row):\n",
    "        latitude = row[\"lat\"]\n",
    "        longitude = row[\"long\"]\n",
    "    \n",
    "        if pd.notna(latitude) and pd.notna(longitude):\n",
    "            if -90 <= latitude <= 90 and -180 <= longitude <= 180:\n",
    "                return geohash.encode(latitude, longitude)\n",
    "            else:\n",
    "                return np.nan\n",
    "        else:\n",
    "            return np.nan\n",
    "    codes_communes = pd.read_csv(\"./data/codes_communes.csv\", sep=\",\")\n",
    "    codes_communes[\"code_commune\"] = codes_communes[\"code_commune_INSEE\"].astype(str)\n",
    "    valid_codes = codes_communes[\"code_commune\"].unique()\n",
    "    df_missing = df[df[\"com\"].isin(valid_codes)]\n",
    "    df_missing = df[df[\"com\"].notna()]\n",
    "    \n",
    "    codes_communes_latitudes = (codes_communes[[\"code_commune\", \"longitude\"]]\n",
    "                                .dropna()\n",
    "                                .drop_duplicates(keep=\"first\")\n",
    "                                .set_index(\"code_commune\")\n",
    "                                .to_dict()\n",
    "                               )\n",
    "    \n",
    "    codes_communes_longitudes = (codes_communes[[\"code_commune\", \"longitude\"]]\n",
    "                                .dropna()\n",
    "                                .drop_duplicates(keep=\"first\")\n",
    "                                .set_index(\"code_commune\")\n",
    "                                .to_dict()\n",
    "                                )\n",
    "    #df[\"com\"] = df[\"com\"].astype(str)\n",
    "    #codes_communes[\"code_commune\"] = codes_communes[\"code_commune\"].astype(str)\n",
    "    \n",
    "    #codes_communes = codes_communes.set_index(\"code_commune\")[[\"latitude\", \"longitude\"]].to_dict(orient=\"index\")\n",
    "    \n",
    "    # Step 2: Update missing values in df using the city_code_mapping\n",
    "\n",
    "    \n",
    "    #Apply the custom function to create a new geohash column\n",
    "    #df = df.dropna(subset=[\"lat\", \"long\"])\n",
    "    df[\"geohash\"] = df.apply(create_geohash, axis=1)\n",
    "    print(df)\n",
    "\n",
    "    df_missing[[\"lat\", \"long\"]] = df_missing.apply(fill_missing_lat_long, axis=1, result_type=\"expand\")\n",
    "    df[\"geohash\"] = df.apply(create_geohash, axis=1)\n",
    "    print(df)"
   ]
  },
  {
   "cell_type": "markdown",
   "id": "105f8202-ae48-46bf-9f4d-a74dec9b0f7a",
   "metadata": {},
   "source": [
    "## Create column \"age\""
   ]
  },
  {
   "cell_type": "code",
   "execution_count": 26,
   "id": "7898fc71-da3c-423e-977e-be9c0215a23b",
   "metadata": {},
   "outputs": [],
   "source": [
    "df[\"age\"] = df[\"an_nais\"] - df[\"an\"]\n",
    "df =df.drop(columns=[\"an_nais\"])"
   ]
  },
  {
   "cell_type": "markdown",
   "id": "be90771f-937f-402a-8676-0a4528600a94",
   "metadata": {},
   "source": [
    "## Create temporal cyclical features (hour, day, month)"
   ]
  },
  {
   "cell_type": "code",
   "execution_count": 27,
   "id": "5d7509dc-b46a-4d89-bd10-426f3943c412",
   "metadata": {},
   "outputs": [],
   "source": [
    "# Step 1: Data Preprocessing\n",
    "df[\"hrmn\"] = df[\"hrmn\"].astype(str)\n",
    "df[\"hrmn\"] = df[\"hrmn\"].apply(lambda x: x.zfill(4))\n",
    "df[\"heure\"] = df[\"hrmn\"].str[:2].astype(int)\n",
    "df[\"minute\"] = df[\"hrmn\"].str[2:].astype(int)\n",
    "\n",
    "# Step 3: Sine and Cosine Transformations\n",
    "max_month = 12\n",
    "max_day_of_week = 7\n",
    "max_hour = 24\n",
    "\n",
    "# Sine and cosine transformations for time of the year (month)\n",
    "df[\"month_sin\"] = np.sin(2 * np.pi * df[\"mois\"] / max_month)\n",
    "df[\"month_cos\"] = np.cos(2 * np.pi * df[\"mois\"] / max_month)\n",
    "\n",
    "# Sine and cosine transformations for time of the week (day of the week)\n",
    "df[\"DayOfWeek_sin\"] = np.sin(2 * np.pi * df[\"jour\"] / max_day_of_week)\n",
    "df[\"DayOfWeek_cos\"] = np.cos(2 * np.pi * df[\"jour\"] / max_day_of_week)\n",
    "\n",
    "# Sine and cosine transformations for time of the day\n",
    "df[\"TimeOfDay_sin\"] = np.sin(2 * np.pi * (df[\"heure\"] * 60 + df[\"minute\"]) / (max_hour * 60))\n",
    "df[\"TimeOfDay_cos\"] = np.cos(2 * np.pi * (df[\"heure\"] * 60 + df[\"minute\"]) / (max_hour * 60))"
   ]
  },
  {
   "cell_type": "markdown",
   "id": "360789d7-ed61-4d3f-b205-a4ea5fe1dc11",
   "metadata": {},
   "source": [
    "## Create column timestamp"
   ]
  },
  {
   "cell_type": "code",
   "execution_count": 28,
   "id": "c5cda25f-9a0b-477c-931a-6506d78ba6d8",
   "metadata": {},
   "outputs": [],
   "source": [
    "columns_to_convert = [\"hrmn\"]\n",
    "\n",
    "df[\"timestamp_str\"] = df.apply(lambda row: f\"{row['an']:04d}-{row['mois']:02d}-{row['jour']:02d} {row['hrmn'][:2]}:{row['hrmn'][2:4]}:00\", axis=1)\n",
    "\n",
    "# Convert the \"timestamp_str\" column to datetime format\n",
    "df[\"timestamp\"] = pd.to_datetime(df[\"timestamp_str\"], format=\"%Y-%m-%d %H:%M:%S\")"
   ]
  },
  {
   "cell_type": "markdown",
   "id": "680fcbe9-2628-4df0-babf-6d1bda281ab1",
   "metadata": {},
   "source": [
    "## Reorder"
   ]
  },
  {
   "cell_type": "code",
   "execution_count": 29,
   "id": "75bae289-05f2-4b85-9eb6-abfe2e638df9",
   "metadata": {},
   "outputs": [],
   "source": [
    "df = df.sort_values(by=\"timestamp\")"
   ]
  },
  {
   "cell_type": "markdown",
   "id": "bf9cf6f9-e7b1-4d10-b3a2-455cfa283f18",
   "metadata": {},
   "source": [
    "## Drop date columns"
   ]
  },
  {
   "cell_type": "code",
   "execution_count": 30,
   "id": "f1ac0d5c-0b0a-4efb-ae7d-572439d46e21",
   "metadata": {},
   "outputs": [],
   "source": [
    "df = df.drop(columns=[\"timestamp_str\", \"timestamp\", \"an\", \"mois\", \"jour\", \"heure\", \"minute\", \"hrmn\"])"
   ]
  },
  {
   "cell_type": "markdown",
   "id": "347894c0-2a2e-4f63-b98f-2c8edbbeffed",
   "metadata": {},
   "source": [
    "## Additional cleaning - general EDA"
   ]
  },
  {
   "cell_type": "markdown",
   "id": "fb93df18-7bf9-4f56-9661-8d509a271192",
   "metadata": {},
   "source": [
    "- Most accidents happen because of a side crash, according to column 'col'\n",
    "- Most accidents happen in broad daylight, according to column 'lum'\n",
    "- About a third of accidents happen outside of urban areas, according to column column 'agg'\n",
    "- Most accidents happen outside of crossroads, according to column 'int'\n",
    "- Most accidents happen in normal atmospheric conditions, according to column 'atm'\n",
    "- Most accidents happen on small roads (departmental roads or municipal roads), according to column 'catr'\n",
    "- Most accidents happen on two-way roads, according to column 'nbv'\n",
    "- The vast majority of accidents happen on roads that don't have a reserved way on the side (e.g. bicycle path), according to column 'vosp'\n",
    "- The vast majority of accidents happen on flat roads, according to column 'prof'\n",
    "- The vast majority of accidents happen on straight roads, according to column 'plan'\n",
    "- One accident out of six happens on wet roads, and the vast majority of the rest five remaining sixth happens on dry roads, according to column 'surf'\n",
    "- The vast majority of accidents don't happen on a special or specific intrastructure (e.g. bridge, tunnel) according to column 'infra'\n",
    "- The vast majority of accidents happen right on the road (not on the sidewalk or bycicle path), according to column 'situ'\n",
    "- The circulation direction is unknown for most of the observations, and in almost equal ascending and descending order for observations that do have this information, according to column 'senc'.\n",
    "- Most accidents involve cars (\"LV\" means light vehicle), according to column 'catv'\n",
    "- According to columns 'obs' and 'obsm'\n",
    "- The column 'obs' doesn't apply in most of the observations\n",
    "- Most of the time, accidents happen when hitting another car. The next most frequent occurence is an accident without hitting anything, and the third most frequent is when hitting a pedestrian, according to the columns 'obsm'\n",
    "- Most crashes are frontal, according to column 'choc'\n",
    "- Most accidents happen without a specific manoeuver or change in direction, according to column 'manv'\n",
    "- The vast majority of people involved in accidents were the drivers, according to the column 'place'\n",
    "- About two thirds of people involved in an accident are male, according to column 'sexe'\n",
    "\n",
    "- About 60% of the accidents lead to no or minor injuries:\n",
    "    - 42.92% of the people involved in accidents end up uninjured\n",
    "    - 19.20% of the people involved in accidents end up with minor injuries\n",
    "    - 35.27% of the people involved in accidents end up with major injuries\n",
    "    - 2.61% of the people involved in accidents end up killed\n",
    "\n",
    "After EDA, we will drop the columns listed below:\n",
    "- The 'senc' column seems uninformative, on top of being an unlikely information to obtain during an emergency call.\n",
    "- The column 'place' is more detailed than the column 'catu', but the majority of the values provide information that is already contained in 'catu'. We are dropping 'place' and keeping 'catu'.\n",
    "- We are dropping 'trajet' as it contains too many missing values.\n",
    "- The column 'circ' is not supposed to have zero values, we are dropping the rows where this is the case."
   ]
  },
  {
   "cell_type": "code",
   "execution_count": 31,
   "id": "1c2136f1-bbc6-418e-943d-398b23ba9976",
   "metadata": {},
   "outputs": [],
   "source": [
    "df = df.drop([\"senc\", \"place\", \"trajet\"], axis=1, errors=\"ignore\")\n",
    "df = df[df[\"circ\"]!=0]"
   ]
  },
  {
   "cell_type": "code",
   "execution_count": 32,
   "id": "c84619bd-a6c1-4173-8976-8855de06c688",
   "metadata": {},
   "outputs": [
    {
     "name": "stdout",
     "output_type": "stream",
     "text": [
      "Wrote cleaned dataset in 154.14s\n",
      "Dataset has 2,401,090 rows after cleaning.\n"
     ]
    }
   ],
   "source": [
    "start = time.time()\n",
    "\n",
    "df.to_csv(\"./data/accidents_general_eda_engineered.csv\", index=False)\n",
    "\n",
    "end = time.time()\n",
    "\n",
    "total_time = end - start\n",
    "print(f\"Wrote cleaned dataset in {round(total_time, 2)}s\")\n",
    "print(f\"Dataset has {len(df):,} rows after cleaning.\")"
   ]
  },
  {
   "cell_type": "markdown",
   "id": "3bbf388f-20fb-4e6d-a765-b2cb03741b4c",
   "metadata": {},
   "source": [
    "## Additional cleaning - fatal vs benign crashes EDA\n",
    "- Frontal crashes are proportionally overrepresented in fatal accidents compared to benign ones, according to the column 'col'\n",
    "- Crashes happening during the night without public lighting are proportionally overrepresented in fatal accidents compared to benign ones, according to tge column 'lum'\n",
    "- Most benign crashes (one third) happen within urban centers. On the opposite, about three quarters of the fatal crashes happen outside of urban centers, according to column 'agg'.\n",
    "- The differentiating power of the type of intersection on gravity seems negligible, according to the column 'int'.\n",
    "- The differentiating power of the atmospheric conditions on gravity seems negligible, according to the column 'atm'.\n",
    "- The majority of fatal crashes happen on departmental roads, according to column 'catr'.\n",
    "- Most fatal accidents happen on one-way roads, according to column 'nbv'.\n",
    "- Bidirectional roads are slightly more represented in fatal crashes than unidirectional or separated roads, according to column 'circ'.\n",
    "- The differentiating power due to the presence or absence of special ways (e.g. sidewalk, bicycle path) seems negligible, according to the column 'vosp'.\n",
    "- Curves on the left or right are slightly more represented in fatal crashes than benign ones, according to column 'plan'.\n",
    "- The differentiating power of the state of the surface on gravity seems negligible, according to the column 'surf'.\n",
    "- The differentiating power of the presence or absence of special infratructure (e.g. bridge, tunnel) on gravity seems negligible, according to the column 'infra'.\n",
    "- Accidents located on the road shoulder are proportionally overrepresented in fatal accidents compared to benign ones, according to column 'situ'.\n",
    "- Motorcycles, bicycles and mopeds are proportionally overrepresented in fatal accidents compared to benign ones, according to column 'catv'.\n",
    "- If most fatal crashes don't involve an obstacle, trees, ditches, embankments, rock faces, buildings, walls, poles and bridge columns are types of obstacles that are proportionally overrepresented in fatal accidents compared to benign ones, according to column 'obs'. The vast majority of accidents leading to no injuries don't involve an obstacle at all.\n",
    "- Column 'obsm' is hard to interpret. it doesn't seem to bring any differentiating power, we will drop it.\n",
    "- Frontal collisions are proportionally overrepresented in fatal accidents compared to benign ones, according to column 'choc'.\n",
    "- Swerving left is proportionally overrepresented in fatal accidents compared to benign ones, according to column 'manv'. This makes sense as in France people driveo n the right side of the road, so to overtake (when you're usually speeding with limited visibility), you have to swerve left. On highways, left lanes are also more likely to have faster vehicles than right lanes, so there is a higher chance to be hit behind or on the side when moving into the left lane.\n",
    "- Pedestrians collisions are proportionally overrepresented in fatal accidents compared to benign ones, according to column 'catu'. This makes sense as pedestrians don't have a passenger compartment to absorb collisions and protect them.\n",
    "- Men are slightly proportionally overrepresented in fatal accidents compared to benign ones, according to column 'sexe'. It might be due to chance, but due to the siwe of our dataset, we doubt it and we do think this column has some differentiating power.\n",
    "- Older people are proportionally overrepresented in fatal accidents compared to benign ones, according to column 'age'. Younger people might be less experienced, but age being correlated with general health, it is not completely surprising to see that older poeple are less resistant to serious car crashes than younger ones.\n",
    "- It is hard to deduce anything visually from the cyclical feature graphs alone."
   ]
  },
  {
   "cell_type": "code",
   "execution_count": 33,
   "id": "7881c4d8-29ef-4094-b7f9-fc871e402ed9",
   "metadata": {},
   "outputs": [],
   "source": [
    "df = df.drop([\"int\", \"atm\", \"vosp\", \"surf\", \"infra\", \"obsm\"], axis=1, errors=\"ignore\")"
   ]
  },
  {
   "cell_type": "markdown",
   "id": "2504ebf2-126c-4445-94a8-fff1bc5f51c5",
   "metadata": {},
   "source": [
    "## Save"
   ]
  },
  {
   "cell_type": "code",
   "execution_count": 34,
   "id": "96f18615-fdac-4554-8fe7-deb1a3e9b089",
   "metadata": {
    "editable": true,
    "slideshow": {
     "slide_type": ""
    },
    "tags": []
   },
   "outputs": [
    {
     "name": "stdout",
     "output_type": "stream",
     "text": [
      "Wrote engineered ordinal dataset in 135.22s\n"
     ]
    }
   ],
   "source": [
    "start = time.time()\n",
    "\n",
    "df.to_csv(\"./data/accidents_engineered_ordinal.csv\", index=False)\n",
    "\n",
    "end = time.time()\n",
    "\n",
    "total_time = end - start\n",
    "print(f\"Wrote engineered ordinal dataset in {round(total_time, 2)}s\")"
   ]
  },
  {
   "cell_type": "code",
   "execution_count": 35,
   "id": "47badbfe-62b9-4cdc-b0ef-51b914ea0f65",
   "metadata": {
    "scrolled": true
   },
   "outputs": [
    {
     "data": {
      "text/plain": [
       "col              0.157387\n",
       "lum              0.000000\n",
       "agg              0.000000\n",
       "catr             0.000083\n",
       "circ             0.952526\n",
       "nbv              0.250511\n",
       "prof             0.184583\n",
       "plan             0.223898\n",
       "situ             0.478658\n",
       "catv             0.000000\n",
       "obs              0.047353\n",
       "choc             0.018533\n",
       "manv             0.021074\n",
       "catu             0.000000\n",
       "sexe             0.000000\n",
       "grav             0.000000\n",
       "age              0.220358\n",
       "month_sin        0.000000\n",
       "month_cos        0.000000\n",
       "DayOfWeek_sin    0.000000\n",
       "DayOfWeek_cos    0.000000\n",
       "TimeOfDay_sin    0.000000\n",
       "TimeOfDay_cos    0.000000\n",
       "dtype: float64"
      ]
     },
     "execution_count": 35,
     "metadata": {},
     "output_type": "execute_result"
    }
   ],
   "source": [
    "df.isna().sum() / len(df) * 100"
   ]
  },
  {
   "cell_type": "markdown",
   "id": "dc8ebd43-f748-4223-adb7-5668b14a9f1f",
   "metadata": {},
   "source": [
    "## Save binary"
   ]
  },
  {
   "cell_type": "code",
   "execution_count": 36,
   "id": "9900f0e1-422b-4f58-82e4-840d135a35c5",
   "metadata": {
    "editable": true,
    "slideshow": {
     "slide_type": ""
    },
    "tags": []
   },
   "outputs": [],
   "source": [
    "mapping = \"binary\"\n",
    "if mapping == \"binary\":\n",
    "    binary_mapping = {1: 0,\n",
    "                      2: 0,\n",
    "                      3: 1,\n",
    "                      4: 1}\n",
    "\n",
    "    df[\"grav\"] = df[\"grav\"].map(binary_mapping)\n",
    "    \n",
    "    grav_order = [1, 2, 3, 4]\n",
    "    df[\"grav\"] = pd.Categorical(df[\"grav\"])"
   ]
  },
  {
   "cell_type": "code",
   "execution_count": 37,
   "id": "223251d4-e464-41ab-8030-2eb4c2fd9156",
   "metadata": {},
   "outputs": [
    {
     "name": "stdout",
     "output_type": "stream",
     "text": [
      "Wrote engineered binary dataset in 136.07s\n"
     ]
    }
   ],
   "source": [
    "start = time.time()\n",
    "\n",
    "df.to_csv(\"./data/accidents_engineered_binary.csv\", index=False)\n",
    "\n",
    "end = time.time()\n",
    "\n",
    "total_time = end - start\n",
    "print(f\"Wrote engineered binary dataset in {round(total_time, 2)}s\")"
   ]
  },
  {
   "cell_type": "code",
   "execution_count": 38,
   "id": "74d1f023-e51a-48be-9013-1f3d1c6bf3c7",
   "metadata": {},
   "outputs": [
    {
     "name": "stdout",
     "output_type": "stream",
     "text": [
      "Last run at 02:47:32\n"
     ]
    }
   ],
   "source": [
    "now = datetime.now()\n",
    "current_time = now.strftime(\"%H:%M:%S\")\n",
    "print(f\"Last run at {current_time}\")"
   ]
  }
 ],
 "metadata": {
  "kernelspec": {
   "display_name": "Python 3 (ipykernel)",
   "language": "python",
   "name": "python3"
  },
  "language_info": {
   "codemirror_mode": {
    "name": "ipython",
    "version": 3
   },
   "file_extension": ".py",
   "mimetype": "text/x-python",
   "name": "python",
   "nbconvert_exporter": "python",
   "pygments_lexer": "ipython3",
   "version": "3.8.13"
  }
 },
 "nbformat": 4,
 "nbformat_minor": 5
}
