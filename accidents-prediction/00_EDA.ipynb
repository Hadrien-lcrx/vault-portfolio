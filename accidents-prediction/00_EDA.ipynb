{
 "cells": [
  {
   "cell_type": "markdown",
   "id": "1aacfaa6-a018-44da-a2ec-2ad415984bbf",
   "metadata": {},
   "source": [
    "# EDA / sandbox"
   ]
  },
  {
   "cell_type": "code",
   "execution_count": 4,
   "id": "d135646c-5505-444c-9b61-005c66c36491",
   "metadata": {},
   "outputs": [],
   "source": [
    "import random\n",
    "import time\n",
    "import numpy as np\n",
    "import pandas as pd\n",
    "import seaborn as sns\n",
    "import matplotlib.pyplot as plt\n",
    "import missingno as msno\n",
    "import statsmodels.api as sm\n",
    "from datetime import datetime\n",
    "\n",
    "sns.set_theme()"
   ]
  },
  {
   "cell_type": "code",
   "execution_count": 5,
   "id": "b9b64e6e-4d7a-4e6c-8a2d-327037b28aba",
   "metadata": {
    "editable": true,
    "slideshow": {
     "slide_type": ""
    },
    "tags": []
   },
   "outputs": [],
   "source": [
    "test = pd.read_csv(\"./data/accidents_engineered_binary.csv\")"
   ]
  },
  {
   "cell_type": "code",
   "execution_count": 12,
   "id": "384b6f30-3f9a-43cb-90f6-0267bae0bc6a",
   "metadata": {
    "editable": true,
    "slideshow": {
     "slide_type": ""
    },
    "tags": []
   },
   "outputs": [
    {
     "data": {
      "text/plain": [
       "0    0.609279\n",
       "1    0.390721\n",
       "Name: grav, dtype: float64"
      ]
     },
     "execution_count": 12,
     "metadata": {},
     "output_type": "execute_result"
    }
   ],
   "source": [
    "test.grav.value_counts(normalize=True)"
   ]
  },
  {
   "cell_type": "code",
   "execution_count": 3,
   "id": "88b5be00-0d53-4fc6-b1ef-0f8dd19da070",
   "metadata": {
    "editable": true,
    "slideshow": {
     "slide_type": ""
    },
    "tags": []
   },
   "outputs": [],
   "source": [
    "def print_random_cell_value(df, column_name):\n",
    "    column_values = df[column_name].dropna().values\n",
    "    if len(column_values) > 0:\n",
    "        random_value = random.choice(column_values)\n",
    "        print(f\"Random value from column '{column_name}': {random_value}\")\n",
    "    else:\n",
    "        print(f\"No valid values in column '{column_name}'\")\n",
    "\n",
    "def get_nan_percentage_in_col(df, col):\n",
    "    col = \"secu\"\n",
    "    proportion_na = round(df[col].isna().sum() / len(df) * 100, 2)\n",
    "    print(f\"{proportion_na}% of rows in column '{col}' with missing values.\")\n",
    "    return proportion_na\n",
    "\n",
    "def plot_missing_proportion_per_category(df, missing_column, category_column):\n",
    "    # Group the DataFrame by the category column and calculate the proportion of missing values\n",
    "    grouped = df.groupby(category_column)[missing_column].apply(lambda x: x.isnull().mean())\n",
    "\n",
    "    # Plot the bar chart\n",
    "    plt.figure(figsize=(10, 6))\n",
    "    plt.bar(grouped.index, grouped.values)\n",
    "    plt.xlabel(category_column)\n",
    "    plt.ylabel(\"Proportion of missing values\")\n",
    "    plt.title(f\"Proportion of missing values in '{missing_column}' per '{category_column}'\")\n",
    "    plt.xticks(rotation=45)\n",
    "    plt.tight_layout()\n",
    "    plt.show()\n",
    "\n",
    "def plot_unique_proportion_per_category(df, unique_column, category_column):\n",
    "    # Group the DataFrame by the category column and calculate the proportion of missing values\n",
    "    grouped = df.groupby(category_column)[unique_column].apply(lambda x: x.nunique())\n",
    "\n",
    "    # Plot the bar chart\n",
    "    plt.figure(figsize=(10, 6))\n",
    "    plt.bar(grouped.index, grouped.values)\n",
    "    plt.xlabel(unique_column)\n",
    "    plt.ylabel(\"Count of unique values\")\n",
    "    plt.title(f\"Count of unique values in '{unique_column}' per '{category_column}'\")\n",
    "    plt.xticks(rotation=45)\n",
    "    plt.tight_layout()\n",
    "    plt.show()\n",
    "\n",
    "def plot_unique_proportion_per_category(df, numeric_column, category_column, func, measure):\n",
    "    # Group the DataFrame by the category column and calculate the proportion of missing values\n",
    "    grouped = df.groupby(category_column)[numeric_column].apply(lambda x: func)\n",
    "\n",
    "    # Plot the bar chart\n",
    "    plt.figure(figsize=(10, 6))\n",
    "    plt.bar(grouped.index, grouped.values)\n",
    "    plt.xlabel(unique_column)\n",
    "    plt.ylabel(f\"{measure}{numeric_column} values\")\n",
    "    plt.title(f\"{measure }{numeric_column} per {category_column}\")\n",
    "    plt.xticks(rotation=45)\n",
    "    plt.tight_layout()\n",
    "    plt.show()\n",
    "\n",
    "def func(x):\n",
    "    return x.nunique()\n",
    "\n",
    "def plot_missing_value_proportion_by_column(df):\n",
    "    plot_df = df.isna().sum() / len(df) * 100\n",
    "    plot_df = plot_df[plot_df.values > 20]\n",
    "    \n",
    "    # Plot the bar chart\n",
    "    plt.figure(figsize=(10, 6))\n",
    "    plt.bar(plot_df.index, plot_df.values)\n",
    "    plt.xlabel(\"Columns\")\n",
    "    plt.ylabel(\"%\")\n",
    "    plt.title(f\"Percentage of missing values per column\")\n",
    "    plt.xticks(rotation=45)\n",
    "    plt.tight_layout()\n",
    "    plt.show()\n",
    "\n",
    "def plot_missing_value_matrix(missing_values_df):\n",
    "    fig, ax = plt.subplots(figsize=(10, 6))\n",
    "\n",
    "    # Create a heatmap of missing values\n",
    "    cax = ax.imshow(missing_values_df, cmap=\"gray\", aspect=\"auto\")\n",
    "\n",
    "    # Add color bar legend\n",
    "    cbar = fig.colorbar(cax, ticks=[0, 1], orientation=\"vertical\", ax=ax)\n",
    "    cbar.ax.set_yticklabels([\"Present\", \"Missing\"])\n",
    "\n",
    "    # Set x and y axis labels\n",
    "    ax.set_xticks(np.arange(len(missing_values_df.columns)))\n",
    "    ax.set_yticks(np.arange(len(missing_values_df.index)))\n",
    "    ax.set_xticklabels(missing_values_df.columns, rotation=90)\n",
    "    ax.set_yticklabels(missing_values_df.index)\n",
    "\n",
    "    # Hide grid lines\n",
    "    ax.grid(False)\n",
    "\n",
    "    # Set plot title\n",
    "    ax.set_title(\"Missing Value Matrix\")\n",
    "\n",
    "    # Show the plot\n",
    "    plt.tight_layout()\n",
    "    plt.show()\n"
   ]
  },
  {
   "cell_type": "code",
   "execution_count": 4,
   "id": "12b3a2d1-25b9-41f4-92f0-c0ccbadbc992",
   "metadata": {},
   "outputs": [
    {
     "name": "stderr",
     "output_type": "stream",
     "text": [
      "/tmp/ipykernel_22270/2097944010.py:4: DtypeWarning: Columns (1,14,25,32,33,35,36,44,50,52,53,54,55) have mixed types. Specify dtype option on import or set low_memory=False.\n",
      "  merged_df = pd.read_csv(\"./data/accidents.csv\")\n"
     ]
    },
    {
     "name": "stdout",
     "output_type": "stream",
     "text": [
      "Loaded dataset in 19.55s\n"
     ]
    }
   ],
   "source": [
    "start = time.time()\n",
    "\n",
    "df = pd.read_csv(\"./data/accidents_preprocessed.csv\")\n",
    "merged_df = pd.read_csv(\"./data/accidents.csv\")\n",
    "\n",
    "end = time.time()\n",
    "\n",
    "#Subtract Start Time from The End Time\n",
    "total_time = end - start\n",
    "print(f\"Loaded dataset in {round(total_time, 2)}s\")"
   ]
  },
  {
   "cell_type": "code",
   "execution_count": 7,
   "id": "6fc34177-a116-4710-98bf-0b455b61d53a",
   "metadata": {
    "editable": true,
    "slideshow": {
     "slide_type": ""
    },
    "tags": []
   },
   "outputs": [
    {
     "data": {
      "image/png": "[encoded data removed]",
      "text/plain": [
       "<Figure size 1800x720 with 2 Axes>"
      ]
     },
     "metadata": {
      "needs_background": "light"
     },
     "output_type": "display_data"
    }
   ],
   "source": [
    "%matplotlib inline\n",
    "msno.matrix(merged_df)\n",
    "#missing_values_df = merged_df.isna()\n",
    "#plot_missing_value_matrix(missing_values_df)\n",
    "plt.title(\"Missing values matrix\")\n",
    "plt.savefig(\"./plots/missing_values_matrix.png\")#, dpi=150)\n",
    "plt.show()"
   ]
  },
  {
   "cell_type": "markdown",
   "id": "fc6d9652-dc9e-446c-8bbd-00bb0b560780",
   "metadata": {
    "editable": true,
    "slideshow": {
     "slide_type": ""
    },
    "tags": []
   },
   "source": [
    "## Create cross-tabulations between each categorical feature and the target variable"
   ]
  },
  {
   "cell_type": "code",
   "execution_count": null,
   "id": "8826bddc-dbb7-4fc8-9f2a-5d8e4d5b5bff",
   "metadata": {
    "editable": true,
    "slideshow": {
     "slide_type": ""
    },
    "tags": []
   },
   "outputs": [],
   "source": [
    "for cat_feature in df.select_dtypes(include='object'):\n",
    "    cross_tab = pd.crosstab(df[cat_feature], df['grav'])\n",
    "    print(cross_tab)\n",
    "\n",
    "    # Perform Chi-square test for independence\n",
    "    chi2, p, dof, expected = chi2_contingency(cross_tab)\n",
    "    print(\"Chi-square:\", chi2)\n",
    "    print(\"P-value:\", p)"
   ]
  },
  {
   "cell_type": "markdown",
   "id": "fded3eb7-8bfc-4cac-81e2-4139267a4388",
   "metadata": {
    "editable": true,
    "slideshow": {
     "slide_type": ""
    },
    "tags": []
   },
   "source": [
    "## Convert predicted column"
   ]
  },
  {
   "cell_type": "code",
   "execution_count": null,
   "id": "badcd7ef-122a-43a9-b4a0-e5cb3f4cafd5",
   "metadata": {},
   "outputs": [],
   "source": [
    "mapping = \"binary\"\n",
    "if mapping == \"binary\":\n",
    "    binary_mapping = {1: 0,\n",
    "                      2: 0,\n",
    "                      3: 1,\n",
    "                      4: 1}\n",
    "\n",
    "    df[\"grav\"] = df[\"grav\"].map(binary_mapping)\n",
    "    \n",
    "    grav_order = [1, 2, 3, 4]\n",
    "    df[\"grav\"] = pd.Categorical(df[\"grav\"])\n",
    "\n",
    "if mapping == \"ordinal\":\n",
    "    grav_order = [1, 2, 3, 4]\n",
    "    df[\"grav\"] = pd.Categorical(df[\"grav\"], categories=grav_order, ordered=True)"
   ]
  },
  {
   "cell_type": "markdown",
   "id": "23d02774-ecd7-4f41-8bef-f7de8b7aaf59",
   "metadata": {},
   "source": [
    "## Convert columns to categorical"
   ]
  },
  {
   "cell_type": "code",
   "execution_count": 15,
   "id": "f31ac27f-fb8c-4872-b80c-d7be74310d95",
   "metadata": {},
   "outputs": [],
   "source": [
    "cat_columns = [\"col\", \"prof\", \"plan\", \"situ\", \"obs\", \"choc\", \"manv\",\n",
    "               \"lum\", \"agg\", \"catr\", \"circ\", \"catv\", \"catu\", \"sexe\"]\n",
    "\n",
    "for col in cat_columns:\n",
    "    df[col] = df[col].astype(\"category\")"
   ]
  },
  {
   "cell_type": "code",
   "execution_count": null,
   "id": "52bc3021-951b-4ab5-81ff-e5bd6ba38a00",
   "metadata": {},
   "outputs": [],
   "source": [
    "#baseline_accuracy_score = pred_df[1] / pred_df.values.sum()\n",
    "#baseline_accuracy_score"
   ]
  },
  {
   "cell_type": "code",
   "execution_count": null,
   "id": "a25aa6b9-4e28-47b3-a22d-e6fe00e3b0b7",
   "metadata": {},
   "outputs": [],
   "source": [
    "df.info()"
   ]
  },
  {
   "cell_type": "code",
   "execution_count": null,
   "id": "b9a056df-374d-498e-9df4-db77a1889140",
   "metadata": {},
   "outputs": [],
   "source": [
    "df.grav.value_counts(normalize=True).sort_index()"
   ]
  },
  {
   "cell_type": "markdown",
   "id": "f95d5048-661b-424f-9595-dfcbacb04bac",
   "metadata": {},
   "source": [
    "## Sandbox"
   ]
  },
  {
   "cell_type": "code",
   "execution_count": null,
   "id": "97fd8346-2ec8-4478-a563-4bcf73184feb",
   "metadata": {},
   "outputs": [],
   "source": [
    "from pandas_profiling import ProfileReport\n",
    "profile = ProfileReport(df, title=\"EDA Report\", explorative=True)\n",
    "\n",
    "# Save the report to an HTML file\n",
    "profile.to_file(\"eda_report_preprocessed.html\")"
   ]
  },
  {
   "cell_type": "code",
   "execution_count": null,
   "id": "bdd624a6-1a5b-4dd1-b2d4-3acc2f4d3bfa",
   "metadata": {},
   "outputs": [],
   "source": [
    "df_killed = df[df[\"grav\"]==4]\n",
    "profile = ProfileReport(df_killed, title=\"EDA Report\", explorative=True, minimal=True)\n",
    "\n",
    "# Save the report to an HTML file\n",
    "profile.to_file(\"eda_report_killed.html\")"
   ]
  },
  {
   "cell_type": "code",
   "execution_count": null,
   "id": "dc3ecfcd-a8ab-43f2-8fe2-53ac6f3beb7b",
   "metadata": {},
   "outputs": [],
   "source": [
    "df_uninjured = df[df[\"grav\"]==1]\n",
    "profile = ProfileReport(df_uninjured, title=\"EDA Report\", explorative=True, minimal=True)\n",
    "\n",
    "# Save the report to an HTML file\n",
    "profile.to_file(\"eda_report_uninjured.html\")"
   ]
  },
  {
   "cell_type": "code",
   "execution_count": null,
   "id": "1902ab43-8815-4d19-87c7-86890908db90",
   "metadata": {},
   "outputs": [],
   "source": [
    "import pandas as pd\n",
    "import numpy as np\n",
    "from scipy.stats import chi2_contingency\n",
    "\n",
    "# Function to calculate Cramér's V\n",
    "def cramers_v(confusion_matrix):\n",
    "    chi2 = chi2_contingency(confusion_matrix)[0]\n",
    "    n = confusion_matrix.sum()\n",
    "    phi2 = chi2 / n\n",
    "    r, k = confusion_matrix.shape\n",
    "    phi2corr = max(0, phi2 - ((k - 1) * (r - 1)) / (n - 1))\n",
    "    r_corr = r - ((r - 1) ** 2) / (n - 1)\n",
    "    k_corr = k - ((k - 1) ** 2) / (n - 1)\n",
    "    return np.sqrt(phi2corr / min((k_corr - 1), (r_corr - 1)))\n",
    "\n",
    "# Perform Chi-Square Test\n",
    "def chi_square_test(df, feature, target):\n",
    "    confusion_matrix = pd.crosstab(df[feature], df[target])\n",
    "    chi2, p, dof, expected = chi2_contingency(confusion_matrix)\n",
    "    return chi2, p\n",
    "\n",
    "# Calculate Cramér's V for a given feature and target\n",
    "def cramers_v_for_feature(df, feature, target):\n",
    "    confusion_matrix = pd.crosstab(df[feature], df[target])\n",
    "    return cramers_v(confusion_matrix)\n",
    "\n",
    "# Usage example:\n",
    "target = \"grav\"\n",
    "for feature in df.columns:\n",
    "    if feature != target:\n",
    "        chi2, p = chi_square_test(df, feature, target)\n",
    "        cramers_v_value = cramers_v_for_feature(df, feature, target)\n",
    "        print(f\"Feature: '{feature}', Chi-Square: {chi2}, p-value: {p}, Cramér's V: {cramers_v_value}\")\n"
   ]
  },
  {
   "cell_type": "code",
   "execution_count": null,
   "id": "b81523dd-62b9-4c62-b317-cf65bb72c9b9",
   "metadata": {},
   "outputs": [],
   "source": [
    "print_random_cell_value(df, \"hrmn\")"
   ]
  },
  {
   "cell_type": "markdown",
   "id": "1280b83a-8f97-4ed3-afa1-98c8e744cb3f",
   "metadata": {},
   "source": [
    "## Numerical EDA"
   ]
  },
  {
   "cell_type": "code",
   "execution_count": null,
   "id": "687bc309-3ec1-48da-a2e1-77383a5984be",
   "metadata": {},
   "outputs": [],
   "source": [
    "df.isna().sum() / len(df) * 100"
   ]
  },
  {
   "cell_type": "code",
   "execution_count": null,
   "id": "d9040ca5-352b-4c28-afd6-85a62018d18c",
   "metadata": {},
   "outputs": [],
   "source": [
    "get_nan_percentage_in_col(df, \"grav\")"
   ]
  },
  {
   "cell_type": "code",
   "execution_count": null,
   "id": "728a724d-9ffb-4455-8ae4-063a56d5fa9c",
   "metadata": {},
   "outputs": [],
   "source": [
    "# Plot the proportion of missing values in 'Value' per 'Category'\n",
    "plot_missing_proportion_per_category(df, 'grav', 'an')"
   ]
  },
  {
   "cell_type": "code",
   "execution_count": null,
   "id": "c69fa283-7d42-4a1f-8d8d-7bf54f91cf61",
   "metadata": {},
   "outputs": [],
   "source": [
    "## Check for Independence of Observations (not applicable in this synthetic example)\n",
    "## Correlation matrix\n",
    "## Drop any rows with missing values to ensure proper correlation analysis\n",
    "#df.dropna(inplace=True)\n",
    "#\n",
    "## Compute the correlation matrix\n",
    "#correlation_matrix = df.corr()\n",
    "#\n",
    "## Check for Multicollinearity (Correlation Plot)\n",
    "#correlation_matrix = df.corr()\n",
    "#\n",
    "#plt.figure(figsize=(6, 5))\n",
    "#sns.heatmap(correlation_matrix, annot=True, cmap='coolwarm', fmt=\".2f\")\n",
    "#plt.title(\"Correlation Plot for Multicollinearity Check\")\n",
    "#plt.show()\n",
    "#\n",
    "## Plot the correlation matrix as a heatmap\n",
    "#plt.figure(figsize=(10, 8))\n",
    "#sns.heatmap(correlation_matrix, annot=True, cmap='coolwarm', fmt=\".2f\")\n",
    "#plt.title(\"Correlation Plot\")\n",
    "#plt.show()\n",
    "#\n",
    "## Check for Linearity\n",
    "#plt.figure(figsize=(10, 5))\n",
    "#plt.scatter(df['x1'], df['y'], label='x1 vs y', color='b')\n",
    "#plt.scatter(df['x2'], df['y'], label='x2 vs y', color='r')\n",
    "#plt.xlabel('x1 and x2')\n",
    "#plt.ylabel('y')\n",
    "#plt.legend()\n",
    "#plt.title('Scatter Plot for Linearity Check')\n",
    "#plt.show()\n",
    "#\n",
    "## Check for Homoscedasticity (Residuals vs. Predicted)\n",
    "#X = df[['x1', 'x2']]\n",
    "#y = df['y']\n",
    "#X = sm.add_constant(X)  # Adding constant for intercept in statsmodels\n",
    "#model = sm.OLS(y, X).fit()\n",
    "#residuals = model.resid\n",
    "#\n",
    "#plt.figure(figsize=(8, 5))\n",
    "#plt.scatter(model.predict(), residuals)\n",
    "#plt.axhline(y=0, color='r', linestyle='dashed')\n",
    "#plt.xlabel('Predicted Values')\n",
    "#plt.ylabel('Residuals')\n",
    "#plt.title('Residuals vs. Predicted for Homoscedasticity Check')\n",
    "#plt.show()\n",
    "#\n",
    "## Check for Normality of Residuals (Histogram and Q-Q plot)\n",
    "#plt.figure(figsize=(10, 4))\n",
    "#\n",
    "#plt.subplot(1, 2, 1)\n",
    "#plt.hist(residuals, bins=15, edgecolor='black')\n",
    "#plt.xlabel('Residuals')\n",
    "#plt.ylabel('Frequency')\n",
    "#plt.title('Histogram of Residuals')\n",
    "#\n",
    "#plt.subplot(1, 2, 2)\n",
    "#sm.qqplot(residuals, line='s', color='g')\n",
    "#plt.title('Q-Q Plot of Residuals')\n",
    "#\n",
    "#plt.tight_layout()\n",
    "#plt.show()\n",
    "#\n",
    "## Check for Multicollinearity (Correlation Plot)\n",
    "#correlation_matrix = df.corr()\n",
    "#\n",
    "#plt.figure(figsize=(6, 5))\n",
    "#sns.heatmap(correlation_matrix, annot=True, cmap='coolwarm', fmt=\".2f\")\n",
    "#plt.title(\"Correlation Plot for Multicollinearity Check\")\n",
    "#plt.show()\n",
    "#\n",
    "## Check for Outliers (Box Plot)\n",
    "#plt.figure(figsize=(8, 5))\n",
    "#df.boxplot(column=['x1', 'x2', 'y'])\n",
    "#plt.title(\"Box Plot for Outliers Check\")\n",
    "plt.show()"
   ]
  },
  {
   "cell_type": "code",
   "execution_count": null,
   "id": "f645c00a-6fd9-43bb-bc72-ddd84f240709",
   "metadata": {},
   "outputs": [],
   "source": [
    "plot_missing_value_proportion_by_column(df)"
   ]
  },
  {
   "cell_type": "code",
   "execution_count": null,
   "id": "9a40ed12-12e8-436a-9f36-ece1dd2eb1ea",
   "metadata": {},
   "outputs": [],
   "source": [
    "plt.figure(figsize=(8, 6))\n",
    "sns.heatmap(df.isnull(), cbar=False)\n",
    "plt.show()"
   ]
  },
  {
   "cell_type": "code",
   "execution_count": null,
   "id": "4bc80926-01f6-4b25-8996-2cb4b90e2e23",
   "metadata": {},
   "outputs": [],
   "source": [
    "## Grpahical EDA"
   ]
  },
  {
   "cell_type": "code",
   "execution_count": null,
   "id": "bcdc5c60-ea65-480c-83da-4f8b1d0f33de",
   "metadata": {},
   "outputs": [],
   "source": [
    "fig_size = (8, 4)\n",
    "ax = df.grav.value_counts(normalize=True).sort_index().plot(kind=\"bar\", figsize=fig_size)\n",
    "ax.set_ylim(0, 1)\n",
    "ax.set_xlabel(\"Gravity category\")\n",
    "ax.set_ylabel(\"Proportion of occurences\")\n",
    "ax.set_title(\"Gravity category distribution\")\n",
    "\n",
    "# Replace x ticks (optional)\n",
    "# In this example, I'm assuming you want to replace the tick labels\n",
    "# 'Low', 'Medium', and 'High' with 'L', 'M', and 'H', respectively.\n",
    "new_tick_labels = {\"1\": \"Unharmed\", \"2\": \"Minor injuries\", \"3\": \"Serious injuries\", \"4\": \"Killed\"}\n",
    "ax.set_xticklabels([new_tick_labels[label.get_text()] for label in ax.get_xticklabels()],\n",
    "                    rotation=0)\n",
    "plt.show()"
   ]
  },
  {
   "cell_type": "code",
   "execution_count": null,
   "id": "85e11e00-114a-4cbf-89e8-03b2e922ab5e",
   "metadata": {},
   "outputs": [],
   "source": [
    "category_proportions = df[\"grav\"].value_counts(normalize=True)\n",
    "\n",
    "import seaborn as sns\n",
    "\n",
    "# Plotting the proportions using Seaborn\n",
    "plt.figure(figsize=(10, 6))  # Optional: Adjust the figure size as needed\n",
    "sns.barplot(x=category_proportions.index, y=category_proportions.values)\n",
    "plt.xlabel(\"Categories\")\n",
    "plt.ylabel(\"Proportion\")\n",
    "plt.title(\"Proportion of Each Category\")\n",
    "plt.xticks(rotation=45)  # Optional: Rotate x-axis labels if needed\n",
    "plt.grid(axis=\"y\", linestyle=\"--\", alpha=0.7)  # Optional: Add grid lines\n",
    "plt.tight_layout()\n",
    "plt.show()\n",
    "\n"
   ]
  },
  {
   "cell_type": "code",
   "execution_count": 6,
   "id": "a469c4ad-88a3-48f4-bade-7c2877d961fe",
   "metadata": {
    "editable": true,
    "slideshow": {
     "slide_type": ""
    },
    "tags": []
   },
   "outputs": [
    {
     "name": "stdout",
     "output_type": "stream",
     "text": [
      "Loaded dataset in 9.8s\n",
      "<class 'pandas.core.frame.DataFrame'>\n",
      "RangeIndex: 2355812 entries, 0 to 2355811\n",
      "Data columns (total 23 columns):\n",
      " #   Column         Dtype   \n",
      "---  ------         -----   \n",
      " 0   col            category\n",
      " 1   lum            category\n",
      " 2   agg            category\n",
      " 3   catr           category\n",
      " 4   circ           category\n",
      " 5   nbv            float64 \n",
      " 6   prof           category\n",
      " 7   plan           category\n",
      " 8   situ           category\n",
      " 9   catv           category\n",
      " 10  obs            category\n",
      " 11  choc           category\n",
      " 12  manv           category\n",
      " 13  catu           category\n",
      " 14  sexe           category\n",
      " 15  grav           category\n",
      " 16  age            float64 \n",
      " 17  month_sin      float64 \n",
      " 18  month_cos      float64 \n",
      " 19  DayOfWeek_sin  float64 \n",
      " 20  DayOfWeek_cos  float64 \n",
      " 21  TimeOfDay_sin  float64 \n",
      " 22  TimeOfDay_cos  float64 \n",
      "dtypes: category(15), float64(8)\n",
      "memory usage: 177.5 MB\n"
     ]
    }
   ],
   "source": [
    "start = time.time()\n",
    "\n",
    "df = pd.read_csv(\"./data/accidents_preprocessed.csv\")\n",
    "\n",
    "end = time.time()\n",
    "\n",
    "cat_columns = [\"col\", \"prof\", \"plan\", \"situ\", \"obs\", \"choc\", \"manv\",\n",
    "               \"lum\", \"agg\", \"catr\", \"circ\", \"catv\", \"catu\", \"sexe\"]\n",
    "\n",
    "for col in cat_columns:\n",
    "    df[col] = df[col].astype(\"category\")\n",
    "\n",
    "mapping = \"binary\"\n",
    "if mapping == \"binary\":\n",
    "    binary_mapping = {1: 0,\n",
    "                      2: 0,\n",
    "                      3: 1,\n",
    "                      4: 1}\n",
    "\n",
    "    df[\"grav\"] = df[\"grav\"].map(binary_mapping)\n",
    "    \n",
    "    grav_order = [1, 2, 3, 4]\n",
    "    df[\"grav\"] = pd.Categorical(df[\"grav\"])\n",
    "\n",
    "mapping = \"binary\"\n",
    "if mapping == \"ordinal\":\n",
    "    grav_order = [1, 2, 3, 4]\n",
    "    df[\"grav\"] = pd.Categorical(df[\"grav\"], categories=grav_order, ordered=True)\n",
    "if mapping == \"binary\":\n",
    "    df[\"grav\"] = pd.Categorical(df[\"grav\"])\n",
    "\n",
    "#Subtract Start Time from The End Time\n",
    "total_time = end - start\n",
    "print(f\"Loaded dataset in {round(total_time, 2)}s\")\n",
    "df.info()"
   ]
  },
  {
   "cell_type": "code",
   "execution_count": 16,
   "id": "d6acfa14-c6d1-477c-a5e0-56f2f58e3199",
   "metadata": {
    "editable": true,
    "slideshow": {
     "slide_type": ""
    },
    "tags": []
   },
   "outputs": [],
   "source": [
    "plot_df = pd.read_csv(\"./data/metrics.csv\", sep=\";\")"
   ]
  },
  {
   "cell_type": "code",
   "execution_count": 18,
   "id": "7728d638-a752-4960-82d2-6f209d7afcf2",
   "metadata": {
    "editable": true,
    "slideshow": {
     "slide_type": ""
    },
    "tags": []
   },
   "outputs": [
    {
     "data": {
      "text/html": [
       "<div>\n",
       "<style scoped>\n",
       "    .dataframe tbody tr th:only-of-type {\n",
       "        vertical-align: middle;\n",
       "    }\n",
       "\n",
       "    .dataframe tbody tr th {\n",
       "        vertical-align: top;\n",
       "    }\n",
       "\n",
       "    .dataframe thead th {\n",
       "        text-align: right;\n",
       "    }\n",
       "</style>\n",
       "<table border=\"1\" class=\"dataframe\">\n",
       "  <thead>\n",
       "    <tr style=\"text-align: right;\">\n",
       "      <th></th>\n",
       "      <th>Model</th>\n",
       "      <th>Best Model Parameters</th>\n",
       "      <th>Dataset</th>\n",
       "      <th>F1-score</th>\n",
       "      <th>Precision</th>\n",
       "      <th>Recall</th>\n",
       "      <th>ROC-AUC</th>\n",
       "      <th>Training Time</th>\n",
       "    </tr>\n",
       "  </thead>\n",
       "  <tbody>\n",
       "    <tr>\n",
       "      <th>0</th>\n",
       "      <td>Logistic Regression</td>\n",
       "      <td>{'clf__C': 10, 'clf__solver': 'lbfgs'}</td>\n",
       "      <td>Validation Set</td>\n",
       "      <td>0.3818</td>\n",
       "      <td>0.5921</td>\n",
       "      <td>0.2818</td>\n",
       "      <td>0.5807</td>\n",
       "      <td>0.83s</td>\n",
       "    </tr>\n",
       "    <tr>\n",
       "      <th>1</th>\n",
       "      <td>Logistic Regression</td>\n",
       "      <td>{'clf__C': 10, 'clf__solver': 'lbfgs'}</td>\n",
       "      <td>Test Set</td>\n",
       "      <td>0.3703</td>\n",
       "      <td>0.5816</td>\n",
       "      <td>0.2716</td>\n",
       "      <td>0.5734</td>\n",
       "      <td>NaN</td>\n",
       "    </tr>\n",
       "    <tr>\n",
       "      <th>2</th>\n",
       "      <td>XGBoost</td>\n",
       "      <td>{'clf__learning_rate': 0.3, 'clf__max_depth': ...</td>\n",
       "      <td>Validation Set</td>\n",
       "      <td>0.8236</td>\n",
       "      <td>0.8781</td>\n",
       "      <td>0.7754</td>\n",
       "      <td>0.8543</td>\n",
       "      <td>19.32s</td>\n",
       "    </tr>\n",
       "    <tr>\n",
       "      <th>3</th>\n",
       "      <td>XGBoost</td>\n",
       "      <td>{'clf__learning_rate': 0.3, 'clf__max_depth': ...</td>\n",
       "      <td>Test Set</td>\n",
       "      <td>0.5666</td>\n",
       "      <td>0.6127</td>\n",
       "      <td>0.5269</td>\n",
       "      <td>0.6570</td>\n",
       "      <td>NaN</td>\n",
       "    </tr>\n",
       "    <tr>\n",
       "      <th>4</th>\n",
       "      <td>Random Forest</td>\n",
       "      <td>{'clf__class_weight': {0: 1, 1: 3}, 'clf__max_...</td>\n",
       "      <td>Validation Set</td>\n",
       "      <td>0.6524</td>\n",
       "      <td>0.5024</td>\n",
       "      <td>0.9301</td>\n",
       "      <td>0.6796</td>\n",
       "      <td>518.10s</td>\n",
       "    </tr>\n",
       "    <tr>\n",
       "      <th>5</th>\n",
       "      <td>Random Forest</td>\n",
       "      <td>{'clf__class_weight': {0: 1, 1: 3}, 'clf__max_...</td>\n",
       "      <td>Test Set</td>\n",
       "      <td>0.6157</td>\n",
       "      <td>0.4676</td>\n",
       "      <td>0.9009</td>\n",
       "      <td>0.6228</td>\n",
       "      <td>NaN</td>\n",
       "    </tr>\n",
       "    <tr>\n",
       "      <th>6</th>\n",
       "      <td>Support Vector Machine</td>\n",
       "      <td>{'clf__C': 10, 'clf__gamma': 0.1, 'clf__kernel...</td>\n",
       "      <td>Validation Set</td>\n",
       "      <td>0.9710</td>\n",
       "      <td>0.9764</td>\n",
       "      <td>0.9656</td>\n",
       "      <td>0.9756</td>\n",
       "      <td>4173.83s</td>\n",
       "    </tr>\n",
       "    <tr>\n",
       "      <th>7</th>\n",
       "      <td>Support Vector Machine</td>\n",
       "      <td>{'clf__C': 10, 'clf__gamma': 0.1, 'clf__kernel...</td>\n",
       "      <td>Test Set</td>\n",
       "      <td>0.5064</td>\n",
       "      <td>0.5324</td>\n",
       "      <td>0.4829</td>\n",
       "      <td>0.6059</td>\n",
       "      <td>NaN</td>\n",
       "    </tr>\n",
       "  </tbody>\n",
       "</table>\n",
       "</div>"
      ],
      "text/plain": [
       "                    Model                              Best Model Parameters  \\\n",
       "0     Logistic Regression             {'clf__C': 10, 'clf__solver': 'lbfgs'}   \n",
       "1     Logistic Regression             {'clf__C': 10, 'clf__solver': 'lbfgs'}   \n",
       "2                 XGBoost  {'clf__learning_rate': 0.3, 'clf__max_depth': ...   \n",
       "3                 XGBoost  {'clf__learning_rate': 0.3, 'clf__max_depth': ...   \n",
       "4           Random Forest  {'clf__class_weight': {0: 1, 1: 3}, 'clf__max_...   \n",
       "5           Random Forest  {'clf__class_weight': {0: 1, 1: 3}, 'clf__max_...   \n",
       "6  Support Vector Machine  {'clf__C': 10, 'clf__gamma': 0.1, 'clf__kernel...   \n",
       "7  Support Vector Machine  {'clf__C': 10, 'clf__gamma': 0.1, 'clf__kernel...   \n",
       "\n",
       "          Dataset  F1-score  Precision  Recall  ROC-AUC Training Time  \n",
       "0  Validation Set    0.3818     0.5921  0.2818   0.5807         0.83s  \n",
       "1        Test Set    0.3703     0.5816  0.2716   0.5734           NaN  \n",
       "2  Validation Set    0.8236     0.8781  0.7754   0.8543        19.32s  \n",
       "3        Test Set    0.5666     0.6127  0.5269   0.6570           NaN  \n",
       "4  Validation Set    0.6524     0.5024  0.9301   0.6796       518.10s  \n",
       "5        Test Set    0.6157     0.4676  0.9009   0.6228           NaN  \n",
       "6  Validation Set    0.9710     0.9764  0.9656   0.9756      4173.83s  \n",
       "7        Test Set    0.5064     0.5324  0.4829   0.6059           NaN  "
      ]
     },
     "execution_count": 18,
     "metadata": {},
     "output_type": "execute_result"
    }
   ],
   "source": [
    "plot_df[\"Dataset\"]"
   ]
  },
  {
   "cell_type": "code",
   "execution_count": 45,
   "id": "874b0b3c-09b2-4125-960b-9f2f6fe360b3",
   "metadata": {},
   "outputs": [],
   "source": [
    "valid_df = plot_df[plot_df[\"Dataset\"]==\"Validation Set\"]\n",
    "test_df = plot_df[plot_df[\"Dataset\"]==\"Test Set\"]"
   ]
  },
  {
   "cell_type": "code",
   "execution_count": 59,
   "id": "e75ae804-3632-4981-91ec-5a18ca8d2baa",
   "metadata": {},
   "outputs": [
    {
     "data": {
      "image/png": "[encoded data removed]",
      "text/plain": [
       "<Figure size 1080x432 with 2 Axes>"
      ]
     },
     "metadata": {},
     "output_type": "display_data"
    }
   ],
   "source": [
    "import pandas as pd\n",
    "import seaborn as sns\n",
    "import matplotlib.pyplot as plt\n",
    "\n",
    "# Sample data (replace this with your actual data)\n",
    "data = {\n",
    "    'Model': ['Logistic Regression', 'Logistic Regression', 'XGBoost', 'XGBoost', 'Random Forest', 'Random Forest', 'Support Vector Machine', 'Support Vector Machine'],\n",
    "    'Dataset': ['Validation Set', 'Test Set', 'Validation Set', 'Test Set', 'Validation Set', 'Test Set', 'Validation Set', 'Test Set'],\n",
    "    'F1-score': [0.3818, 0.3703, 0.8236, 0.5666, 0.6524, 0.6157, 0.9710, 0.5064],\n",
    "    'Precision': [0.5921, 0.5816, 0.8781, 0.6127, 0.5024, 0.4676, 0.9764, 0.5324],\n",
    "    'Recall': [0.2818, 0.2716, 0.7754, 0.5269, 0.9301, 0.9009, 0.9656, 0.4829],\n",
    "    'ROC-AUC': [0.5807, 0.5734, 0.8543, 0.6570, 0.6796, 0.6228, 0.9756, 0.6059],\n",
    "    'Training Time': ['0.83s', None, '19.32s', None, '518.10s', None, '4173.83s', None]\n",
    "}\n",
    "\n",
    "df = pd.DataFrame(data)\n",
    "\n",
    "# Filter dataframes for validation and test sets\n",
    "valid_df = df[df['Dataset'] == 'Validation Set']\n",
    "test_df = df[df['Dataset'] == 'Test Set']\n",
    "\n",
    "# Melt the dataframes to combine metrics into one column and scores into another\n",
    "valid_melted = valid_df.melt(id_vars=['Model'], value_vars=['F1-score', 'Precision', 'Recall', 'ROC-AUC'], var_name='Metric', value_name='Score')\n",
    "test_melted = test_df.melt(id_vars=['Model'], value_vars=['F1-score', 'Precision', 'Recall', 'ROC-AUC'], var_name='Metric', value_name='Score')\n",
    "\n",
    "# Combine both dataframes for plotting\n",
    "combined_df = pd.concat([valid_melted, test_melted])\n",
    "\n",
    "# Create a subplot with two plots side by side\n",
    "fig, axs = plt.subplots(1, 2, figsize=(15, 6))\n",
    "\n",
    "# Plot the validation set scores on the left subplot\n",
    "sns.scatterplot(x='Metric', y='Score', hue='Model', data=valid_melted, s=100, ax=axs[0])\n",
    "axs[0].set_title('Validation set results')\n",
    "axs[0].set_ylim(0, 1)\n",
    "axs[0].set_xlabel('Metric')\n",
    "axs[0].set_ylabel('Score')\n",
    "axs[0].legend(title='Model', loc='upper left', bbox_to_anchor=(1, 1))\n",
    "axs[0].tick_params(axis='x', rotation=45)\n",
    "\n",
    "# Plot the test set scores on the right subplot\n",
    "sns.scatterplot(x='Metric', y='Score', hue='Model', data=test_melted, s=100, ax=axs[1])\n",
    "axs[1].set_title('Test set results')\n",
    "axs[1].set_ylim(0, 1)\n",
    "axs[1].set_xlabel('Metric')\n",
    "axs[1].set_ylabel('')\n",
    "axs[1].legend(title='Model', loc='upper left', bbox_to_anchor=(1, 1))\n",
    "axs[1].tick_params(axis='x', rotation=45)\n",
    "\n",
    "# Adjust the layout for better visualization\n",
    "plt.tight_layout()\n",
    "plt.savefig(\"./plots/validation_vs_testing_metrics.png\")\n",
    "plt.show()\n"
   ]
  },
  {
   "cell_type": "code",
   "execution_count": 56,
   "id": "10dbeb5d-681e-4ab0-a365-c74283828419",
   "metadata": {},
   "outputs": [
    {
     "data": {
      "image/png": "[encoded data removed]",
      "text/plain": [
       "<Figure size 1080x432 with 2 Axes>"
      ]
     },
     "metadata": {},
     "output_type": "display_data"
    }
   ],
   "source": [
    "import pandas as pd\n",
    "import matplotlib.pyplot as plt\n",
    "import seaborn as sns\n",
    "\n",
    "# Your DataFrame (I'll assume it's already loaded)\n",
    "\n",
    "# Define the metrics and datasets\n",
    "metrics = ['F1-score', 'Precision', 'Recall', 'ROC-AUC']\n",
    "datasets = ['Validation Set', 'Test Set']\n",
    "\n",
    "# Create a subplot with two plots (one for each dataset)\n",
    "fig, axes = plt.subplots(1, 2, figsize=(15, 6), sharey=True)\n",
    "sns.set_palette(\"Set1\")\n",
    "\n",
    "# Plot the metric performances for each model on each dataset\n",
    "for i, dataset in enumerate(datasets):\n",
    "    ax = axes[i]\n",
    "\n",
    "    # Filter data to get only the rows for the current dataset\n",
    "    data_subset = plot_df[plot_df['Dataset'] == dataset]\n",
    "\n",
    "    # Create the strip plot for the current dataset\n",
    "    for j, metric in enumerate(metrics):\n",
    "        sns.stripplot(x=metric, y=metric, data=data_subset, ax=ax, jitter=True, dodge=True, hue='Model')\n",
    "\n",
    "    ax.set_xticklabels(metrics, rotation=45, ha='right')\n",
    "    ax.set_xlabel('Metrics')\n",
    "    ax.set_ylabel('')  # Remove y-axis label\n",
    "    ax.set_title(f'{dataset} Model Performances')\n",
    "\n",
    "# Remove y-axis ticks and labels from the right plot (Test Set)\n",
    "axes[1].set_yticks([])\n",
    "\n",
    "plt.tight_layout()\n",
    "plt.show()\n"
   ]
  },
  {
   "cell_type": "code",
   "execution_count": 30,
   "id": "2eb55292-3f13-40b2-9281-33f58a432425",
   "metadata": {},
   "outputs": [
    {
     "data": {
      "text/html": [
       "<div>\n",
       "<style scoped>\n",
       "    .dataframe tbody tr th:only-of-type {\n",
       "        vertical-align: middle;\n",
       "    }\n",
       "\n",
       "    .dataframe tbody tr th {\n",
       "        vertical-align: top;\n",
       "    }\n",
       "\n",
       "    .dataframe thead th {\n",
       "        text-align: right;\n",
       "    }\n",
       "</style>\n",
       "<table border=\"1\" class=\"dataframe\">\n",
       "  <thead>\n",
       "    <tr style=\"text-align: right;\">\n",
       "      <th></th>\n",
       "      <th>Model</th>\n",
       "      <th>Best Model Parameters</th>\n",
       "      <th>Dataset</th>\n",
       "      <th>F1-score</th>\n",
       "      <th>Precision</th>\n",
       "      <th>Recall</th>\n",
       "      <th>ROC-AUC</th>\n",
       "      <th>Training Time</th>\n",
       "    </tr>\n",
       "  </thead>\n",
       "  <tbody>\n",
       "    <tr>\n",
       "      <th>0</th>\n",
       "      <td>Logistic Regression</td>\n",
       "      <td>{'clf__C': 10, 'clf__solver': 'lbfgs'}</td>\n",
       "      <td>Validation Set</td>\n",
       "      <td>0.3818</td>\n",
       "      <td>0.5921</td>\n",
       "      <td>0.2818</td>\n",
       "      <td>0.5807</td>\n",
       "      <td>0.83s</td>\n",
       "    </tr>\n",
       "    <tr>\n",
       "      <th>2</th>\n",
       "      <td>XGBoost</td>\n",
       "      <td>{'clf__learning_rate': 0.3, 'clf__max_depth': ...</td>\n",
       "      <td>Validation Set</td>\n",
       "      <td>0.8236</td>\n",
       "      <td>0.8781</td>\n",
       "      <td>0.7754</td>\n",
       "      <td>0.8543</td>\n",
       "      <td>19.32s</td>\n",
       "    </tr>\n",
       "    <tr>\n",
       "      <th>4</th>\n",
       "      <td>Random Forest</td>\n",
       "      <td>{'clf__class_weight': {0: 1, 1: 3}, 'clf__max_...</td>\n",
       "      <td>Validation Set</td>\n",
       "      <td>0.6524</td>\n",
       "      <td>0.5024</td>\n",
       "      <td>0.9301</td>\n",
       "      <td>0.6796</td>\n",
       "      <td>518.10s</td>\n",
       "    </tr>\n",
       "    <tr>\n",
       "      <th>6</th>\n",
       "      <td>Support Vector Machine</td>\n",
       "      <td>{'clf__C': 10, 'clf__gamma': 0.1, 'clf__kernel...</td>\n",
       "      <td>Validation Set</td>\n",
       "      <td>0.9710</td>\n",
       "      <td>0.9764</td>\n",
       "      <td>0.9656</td>\n",
       "      <td>0.9756</td>\n",
       "      <td>4173.83s</td>\n",
       "    </tr>\n",
       "  </tbody>\n",
       "</table>\n",
       "</div>"
      ],
      "text/plain": [
       "                    Model                              Best Model Parameters  \\\n",
       "0     Logistic Regression             {'clf__C': 10, 'clf__solver': 'lbfgs'}   \n",
       "2                 XGBoost  {'clf__learning_rate': 0.3, 'clf__max_depth': ...   \n",
       "4           Random Forest  {'clf__class_weight': {0: 1, 1: 3}, 'clf__max_...   \n",
       "6  Support Vector Machine  {'clf__C': 10, 'clf__gamma': 0.1, 'clf__kernel...   \n",
       "\n",
       "          Dataset  F1-score  Precision  Recall  ROC-AUC Training Time  \n",
       "0  Validation Set    0.3818     0.5921  0.2818   0.5807         0.83s  \n",
       "2  Validation Set    0.8236     0.8781  0.7754   0.8543        19.32s  \n",
       "4  Validation Set    0.6524     0.5024  0.9301   0.6796       518.10s  \n",
       "6  Validation Set    0.9710     0.9764  0.9656   0.9756      4173.83s  "
      ]
     },
     "execution_count": 30,
     "metadata": {},
     "output_type": "execute_result"
    }
   ],
   "source": [
    "plot_df[plot_df['Dataset'] == dataset]"
   ]
  },
  {
   "cell_type": "code",
   "execution_count": 26,
   "id": "af6b1bc7-e8cc-4616-9f53-eb2cbfc6b805",
   "metadata": {},
   "outputs": [
    {
     "data": {
      "text/html": [
       "<div>\n",
       "<style scoped>\n",
       "    .dataframe tbody tr th:only-of-type {\n",
       "        vertical-align: middle;\n",
       "    }\n",
       "\n",
       "    .dataframe tbody tr th {\n",
       "        vertical-align: top;\n",
       "    }\n",
       "\n",
       "    .dataframe thead th {\n",
       "        text-align: right;\n",
       "    }\n",
       "</style>\n",
       "<table border=\"1\" class=\"dataframe\">\n",
       "  <thead>\n",
       "    <tr style=\"text-align: right;\">\n",
       "      <th></th>\n",
       "      <th>Model</th>\n",
       "      <th>Dataset</th>\n",
       "      <th>Metric</th>\n",
       "      <th>Score</th>\n",
       "    </tr>\n",
       "  </thead>\n",
       "  <tbody>\n",
       "  </tbody>\n",
       "</table>\n",
       "</div>"
      ],
      "text/plain": [
       "Empty DataFrame\n",
       "Columns: [Model, Dataset, Metric, Score]\n",
       "Index: []"
      ]
     },
     "execution_count": 26,
     "metadata": {},
     "output_type": "execute_result"
    }
   ],
   "source": [
    "df[df['Dataset'] == \"Validation Set\"]"
   ]
  },
  {
   "cell_type": "code",
   "execution_count": null,
   "id": "62343767-5144-4158-80aa-d31189cc5a1e",
   "metadata": {},
   "outputs": [],
   "source": []
  }
 ],
 "metadata": {
  "kernelspec": {
   "display_name": "Python 3 (ipykernel)",
   "language": "python",
   "name": "python3"
  },
  "language_info": {
   "codemirror_mode": {
    "name": "ipython",
    "version": 3
   },
   "file_extension": ".py",
   "mimetype": "text/x-python",
   "name": "python",
   "nbconvert_exporter": "python",
   "pygments_lexer": "ipython3",
   "version": "3.8.13"
  }
 },
 "nbformat": 4,
 "nbformat_minor": 5
}
