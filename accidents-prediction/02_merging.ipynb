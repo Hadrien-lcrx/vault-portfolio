{
 "cells": [
  {
   "cell_type": "markdown",
   "id": "c1358edb-6e32-4ca3-899b-1fd023b153a7",
   "metadata": {},
   "source": [
    "# Merging"
   ]
  },
  {
   "cell_type": "code",
   "execution_count": 1,
   "id": "c3d1e631-a33d-45a3-bdc6-524d19067758",
   "metadata": {},
   "outputs": [],
   "source": [
    "import time\n",
    "import pandas as pd\n",
    "from datetime import datetime"
   ]
  },
  {
   "cell_type": "markdown",
   "id": "183a56be-a2d1-49a1-ad09-b0cf89551280",
   "metadata": {
    "editable": true,
    "slideshow": {
     "slide_type": ""
    },
    "tags": []
   },
   "source": [
    "1. La rubrique CARACTERISTIQUES qui décrit les circonstances générales de l’accident\n",
    "2. La rubrique LIEUX qui décrit le lieu principal de l’accident même si celui-ci s’est déroulé à une\n",
    "intersection\n",
    "3. La rubrique VEHICULES impliqués\n",
    "4. La rubrique USAGERS impliqués\n",
    "\n",
    "Le n° d'identifiant de l’accident (Cf. \"Num_Acc\") présent dans ces 4 rubriques permet d'établir\n",
    "un lien entre toutes les variables qui décrivent un accident. Quand un accident comporte plusieurs\n",
    "véhicules, il faut aussi pouvoir relier chaque véhicule à ses occupants. Ce lien est fait par la variable\n",
    "id_vehicule. \n",
    "\n",
    "**Charateristics:**\n",
    "- `Num_Acc`: Accident unique ID\n",
    "- `an`: Year the accident happened\n",
    "- `mois`: Month the accident happened\n",
    "- `jour`: Day the accident happened\n",
    "- `hrmn`: Hour and minute\n",
    "- `lum`: Lumière : conditions d’éclairage dans lesquelles l'accident s'est produit :\n",
    "    - 1 – Plein jour\n",
    "    - 2 – Crépuscule ou aube\n",
    "    - 3 – Nuit sans éclairage public\n",
    "    - 4 – Nuit avec éclairage public non allumé\n",
    "    - 5 – Nuit avec éclairage public allumé\n",
    "- `agg`: Localisation :\n",
    "    - 1 – Hors agglomération\n",
    "    - 2 – En agglomération \n",
    "- `int`: Intersection :\n",
    "    - 1 – Hors intersection\n",
    "    - 2 – Intersection en X\n",
    "    - 3 – Intersection en T\n",
    "    - 4 – Intersection en Y\n",
    "    - 5 – Intersection à plus de 4 branches\n",
    "    - 6 – Giratoire\n",
    "    - 7 – Place\n",
    "    - 8 – Passage à niveau\n",
    "    - 9 – Autre intersection \n",
    "- `atm`: Conditions atmosphériques :\n",
    "    - -1 – Non renseigné\n",
    "    - 1 – Normale\n",
    "    - 2 – Pluie légère\n",
    "    - 3 – Pluie forte\n",
    "    - 4 – Neige - grêle\n",
    "    - 5 – Brouillard - fumée\n",
    "    - 6 – Vent fort - tempête\n",
    "    - 7 – Temps éblouissant\n",
    "    - 8 – Temps couvert\n",
    "    - 9 – Autre \n",
    "- `col`:\n",
    "    - Type de collision :\n",
    "    - -1 – Non renseigné\n",
    "    - 1 – Deux véhicules - frontale\n",
    "    - 2 – Deux véhicules – par l’arrière\n",
    "    - 3 – Deux véhicules – par le coté\n",
    "    - 4 – Trois véhicules et plus – en chaîne\n",
    "    - 5 – Trois véhicules et plus - collisions multiples\n",
    "    - 6 – Autre collision\n",
    "    - 7 – Sans collision \n",
    "- `com`: Code INSEE de la commune (peut-être code postal)\n",
    "- `adr`: Adresse postale : variable renseignée pour les accidents survenus en agglomération.\n",
    "- `gps`:\n",
    "    - 1 caractère indiquant la zone :\n",
    "    - M = Métropole\n",
    "    - A = Antilles (Martinique ou Guadeloupe)\n",
    "    - G = Guyane\n",
    "    - R = Réunion\n",
    "    - S = St Pierre et Miquelon\n",
    "    - Y = Mayotte\n",
    "    - P = Polynésie française\n",
    "    - W = Wallis et Futuna\n",
    "    - C = Nouvelle Calédonie\n",
    "    - T = Terres austr. et antarct. Françaises \n",
    "- `lat`: Latitude\n",
    "- `long`: Longitude\n",
    "- `dep`: Code INSEE du département suivi d'un 0 (sauf 02A et 02B) \n",
    "\n",
    "**Locations:**\n",
    "- `Num_Acc`: Accident unique ID\n",
    "- `catr`:\n",
    "    - 1 - Autoroute\n",
    "    - 2 - Route Nationale\n",
    "    - 3 - Route Départementale\n",
    "    - 4 - Voie Communale\n",
    "    - 5 - Hors réseau public\n",
    "    - 6 - Parc de stationnement ouvert à la circulation publique\n",
    "    - 9 – autre\n",
    "- `voie`: Numéro de la route\n",
    "- `v1`: Indice numérique du numéro de route (exemple : 2 bis, 3 ter etc)\n",
    "- `v2`: Indice alphanumérique de la route\n",
    "- `circ`: Régime de circulation :\n",
    "    - -1 – Non renseigné\n",
    "    - 1 – A sens unique\n",
    "    - 2 – Bidirectionnelle\n",
    "    - 3 – A chaussées séparées\n",
    "    - 4 – Avec voies d’affectation variable\n",
    "- `nbv`: Nombre total de voies de circulation. \n",
    "- `vosp`: Signale l’existence d’une voie réservée, indépendamment du fait que l’accident ait lieu ou non sur\n",
    "cette voie.\n",
    "    - -1 – Non renseigné\n",
    "    - 0 – Sans objet\n",
    "    - 1 – Piste cyclable\n",
    "    - 2 – Bande cyclable\n",
    "    - 3 – Voie réservée \n",
    "- `prof`: Profil en long décrit la déclivité de la route à l'endroit de l'accident :\n",
    "    - -1 – Non renseigné\n",
    "    - 1 – Plat\n",
    "    - 2 – Pente\n",
    "    - 3 – Sommet de côte\n",
    "    - 4 – Bas de côte \n",
    "- `pr`: Numéro du PR de rattachement (numéro de la borne amont). La valeur -1 signifie que le PR n’est pas\n",
    "renseigné. \n",
    "- `pr1`: Distance en mètres au PR (par rapport à la borne amont). La valeur -1 signifie que le PR n’est pas\n",
    "renseigné. \n",
    "- `plan`: Tracé en plan :\n",
    "    - -1 – Non renseigné\n",
    "    - 1 – Partie rectiligne\n",
    "    - 2 – En courbe à gauche\n",
    "    - 3 – En courbe à droite\n",
    "    - 4 – En « S »\n",
    "- `lartpc`: Largeur du terre-plein central (TPC) s'il existe (en m). \n",
    "- `larrout`: Largeur de la chaussée affectée à la circulation des véhicules ne sont pas compris les bandes d'arrêt\n",
    "d'urgence, les TPC et les places de stationnement (en m). \n",
    "- `surf`: Etat de la surface :\n",
    "    - -1 – Non renseigné\n",
    "    - 1 – Normale\n",
    "    - 2 – Mouillée\n",
    "    - 3 – Flaques\n",
    "    - 4 – Inondée\n",
    "    - 5 – Enneigée\n",
    "    - 6 – Boue\n",
    "    - 7 – Verglacée\n",
    "    - 8 – Corps gras – huile\n",
    "    - 9 – Autre \n",
    "- `intra`:\n",
    "    - Aménagement - Infrastructure :\n",
    "    - -1 – Non renseigné\n",
    "    - 0 – Aucun\n",
    "    - 1 – Souterrain - tunnel\n",
    "    - 2 – Pont - autopont\n",
    "    - 3 – Bretelle d’échangeur ou de raccordement\n",
    "    - 4 – Voie ferrée\n",
    "    - 5 – Carrefour aménagé\n",
    "    - 6 – Zone piétonne\n",
    "    - 7 – Zone de péage\n",
    "    - 8 – Chantier\n",
    "    - 9 – Autres \n",
    "- `situ`:\n",
    "    - Situation de l’accident :\n",
    "    - -1 – Non renseigné\n",
    "    - 0 – Aucun\n",
    "    - 1 – Sur chaussée\n",
    "    - 2 – Sur bande d’arrêt d’urgence\n",
    "    - 3 – Sur accotement\n",
    "    - 4 – Sur trottoir\n",
    "    - 5 – Sur piste cyclable\n",
    "    - 6 – Sur autre voie spéciale\n",
    "    - 8 – Autres \n",
    "- `vma`: Vitesse maximale autorisée sur le lieu et au moment de l’accident\n",
    "\n",
    "**Users:**\n",
    "- `Num_Acc`: Identifiant de l’accident identique à celui du fichier \"rubrique CARACTERISTIQUES\" repris pour chacun\n",
    "des véhicules décrits impliqués dans l’accident\n",
    "- id_usagers\n",
    "- `id_vehicule`: Identifiant unique du véhicule repris pour chacun des usagers occupant ce véhicule (y compris les\n",
    "piétons qui sont rattachés aux véhicules qui les ont heurtés) – Code numérique. \n",
    "- `num_veh`: Identifiant du véhicule repris pour chacun des usagers occupant ce véhicule (y compris les piétons qui\n",
    "sont rattachés aux véhicules qui les ont heurtés) – Code alphanumérique. \n",
    "- `place`: Permet de situer la place occupée dans le véhicule par l'usager au moment de l'accident. Le\n",
    "détail est donné par l’illustration ci-dessous :\n",
    "    - (check drawing)\n",
    "    - 10 – Piéton (non applicable) \n",
    "- `catu`: Catégorie d'usager :\n",
    "    - 1 – Conducteur\n",
    "    - 2 – Passager\n",
    "    - 3 – Piéton \n",
    "- `grav`: Gravité de blessure de l'usager, les usagers accidentés sont classés en trois catégories de\n",
    "victimes plus les indemnes :\n",
    "    - 1 – Indemne\n",
    "    - 2 – Tué\n",
    "    - 3 – Blessé hospitalisé\n",
    "    - 4 – Blessé léger \n",
    "- `sexe`: Sexe de l'usager :\n",
    "    - 1 – Masculin\n",
    "    - 2 – Féminin \n",
    "- `an_nais`:\n",
    "    - Année de naissance de l'usager. \n",
    "- `trajet`: Motif du déplacement au moment de l’accident :\n",
    "    - -1 – Non renseigné\n",
    "    - 0 – Non renseigné\n",
    "    - 1 – Domicile – travail\n",
    "    - 2 – Domicile – école\n",
    "    - 3 – Courses – achats\n",
    "    - 4 – Utilisation professionnelle\n",
    "    - 5 – Promenade – loisirs\n",
    "    - 9 – Autre\n",
    "- `secu`: Les équipements de sécurité jusqu’en 2018 étaient en 2 variables :\n",
    "    - existence\n",
    "    - utilisation\n",
    "- `secu1`: Le renseignement du caractère indique la présence et l’utilisation de l’équipement de sécurité :\n",
    "    - -1 – Non renseigné\n",
    "    - 0 – Aucun équipement\n",
    "    - 1 – Ceinture\n",
    "    - 2 – Casque\n",
    "    - 3 – Dispositif enfants\n",
    "    - 4 – Gilet réfléchissant\n",
    "    - 5 – Airbag (2RM/3RM)\n",
    "    - 6 – Gants (2RM/3RM)\n",
    "    - 7 – Gants + Airbag (2RM/3RM)\n",
    "    - 8 – Non déterminable\n",
    "    - 9 – Autre \n",
    "- `secu2`: Le renseignement du caractère indique la présence et l’utilisation de l’équipement de sécurité :\n",
    "    - -1 – Non renseigné\n",
    "    - 0 – Aucun équipement\n",
    "    - 1 – Ceinture\n",
    "    - 2 – Casque\n",
    "    - 3 – Dispositif enfants\n",
    "    - 4 – Gilet réfléchissant\n",
    "    - 5 – Airbag (2RM/3RM)\n",
    "    - 6 – Gants (2RM/3RM)\n",
    "    - 7 – Gants + Airbag (2RM/3RM)\n",
    "    - 8 – Non déterminable\n",
    "    - 9 – Autre \n",
    "- `secu3`: Le renseignement du caractère indique la présence et l’utilisation de l’équipement de sécurité :\n",
    "    - -1 – Non renseigné\n",
    "    - 0 – Aucun équipement\n",
    "    - 1 – Ceinture\n",
    "    - 2 – Casque\n",
    "    - 3 – Dispositif enfants\n",
    "    - 4 – Gilet réfléchissant\n",
    "    - 5 – Airbag (2RM/3RM)\n",
    "    - 6 – Gants (2RM/3RM)\n",
    "    - 7 – Gants + Airbag (2RM/3RM)\n",
    "    - 8 – Non déterminable\n",
    "    - 9 – Autre \n",
    "- `locp`: Localisation du piéton :\n",
    "    - -1 – Non renseigné\n",
    "    - 0 – Sans objet\n",
    "    - 1 – Sur chaussée à +50m du passage piéton\n",
    "    - 2 – Sur chaussée à -50m du passage piéton\n",
    "    - 3 – Sur passage piéton sans signalisation lumineuse\n",
    "    - 4 – Sur passage piéton avec signalisation lumineuse\n",
    "    - 5 – Sur trottoir\n",
    "    - 6 – Sur accotement\n",
    "    - 7 – Sur refuge ou BAU\n",
    "    - 8 – Sur contre allée\n",
    "    - 9 – Inconnue \n",
    "- `actp`: Action du piéton :\n",
    "    - -1 – Non renseigné\n",
    "    - 0 – Non renseigné ou sans objet\n",
    "    - 1 – Sens véhicule heurtant\n",
    "    - 2 – Sens inverse du véhicule\n",
    "    - 3 – Traversant\n",
    "    - 4 – Masqué\n",
    "    - 5 – Jouant – courant\n",
    "    - 6 – Avec animal\n",
    "    - 9 – Autre\n",
    "    - A – Monte/descend du véhicule\n",
    "    - B – Inconnue \n",
    "- `etatp`: Cette variable permet de préciser si le piéton accidenté était seul ou non :\n",
    "    - -1 – Non renseigné\n",
    "    - 1 – Seul\n",
    "    - 2 – Accompagné\n",
    "    - 3 – En groupe \n",
    "\n",
    "**Vehicles:**\n",
    "- `Num_Acc`: Identifiant de l’accident identique à celui du fichier \"rubrique CARACTERISTIQUES\" repris pour chacun\n",
    "des véhicules décrits impliqués dans l’acciden\n",
    "- `id_vehicule`: Identifiant unique du véhicule repris pour chacun des usagers occupant ce véhicule (y compris les\n",
    "piétons qui sont rattachés aux véhicules qui les ont heurtés) – Code numérique. \n",
    "- `num_veh`: Identifiant du véhicule repris pour chacun des usagers occupant ce véhicule (y compris les piétons qui\n",
    "sont rattachés aux véhicules qui les ont heurtés) – Code alphanumérique. \n",
    "- `senc`: Sens de circulation :\n",
    "    - -1 – Non renseigné\n",
    "    - 0 – Inconnu\n",
    "    - 1 – PK ou PR ou numéro d’adresse postale croissant\n",
    "    - 2 – PK ou PR ou numéro d’adresse postale décroissant\n",
    "    - 3 – Absence de repère \n",
    "- `catv`: Catégorie du véhicule :\n",
    "    - 00 – Indéterminable\n",
    "    - 01 – Bicyclette\n",
    "    - 02 – Cyclomoteur <50cm3\n",
    "    - 03 – Voiturette (Quadricycle à moteur carrossé) (anciennement \"voiturette ou tricycle à moteur\")\n",
    "    - 04 – Référence inutilisée depuis 2006 (scooter immatriculé)\n",
    "    - 05 – Référence inutilisée depuis 2006 (motocyclette)\n",
    "    - 06 – Référence inutilisée depuis 2006 (side-car)\n",
    "    - 07 – VL seul\n",
    "    - 08 – Référence inutilisée depuis 2006 (VL + caravane)\n",
    "    - 09 – Référence inutilisée depuis 2006 (VL + remorque)\n",
    "    - 10 – VU seul 1,5T <= PTAC <= 3,5T avec ou sans remorque (anciennement VU seul 1,5T <= PTAC\n",
    "    - <= 3,5T)\n",
    "    - 11 – Référence inutilisée depuis 2006 (VU (10) + caravane)\n",
    "    - 12 – Référence inutilisée depuis 2006 (VU (10) + remorque)\n",
    "    - 13 – PL seul 3,5T <PTCA <= 7,5T\n",
    "    - 14 – PL seul > 7,5T\n",
    "    - 15 – PL > 3,5T + remorque\n",
    "    - 16 – Tracteur routier seul\n",
    "    - 17 – Tracteur routier + semi-remorque\n",
    "    - 18 – Référence inutilisée depuis 2006 (transport en commun)\n",
    "    - 19 – Référence inutilisée depuis 2006 (tramway)\n",
    "    - 20 – Engin spécial\n",
    "    - 21 – Tracteur agricole\n",
    "    - 30 – Scooter < 50 cm3\n",
    "    - 31 – Motocyclette > 50 cm3 et <= 125 cm3\n",
    "    - 32 – Scooter > 50 cm3 et <= 125 cm3\n",
    "    - 33 – Motocyclette > 125 cm3\n",
    "    - 34 – Scooter > 125 cm3\n",
    "    - 35 – Quad léger <= 50 cm3 (Quadricycle à moteur non carrossé)\n",
    "    - 36 – Quad lourd > 50 cm3 (Quadricycle à moteur non carrossé)\n",
    "    - 37 – Autobus\n",
    "    - 38 – Autocar\n",
    "    - 39 – Train\n",
    "    - 40 – Tramway\n",
    "    - 41 – 3RM <= 50 cm3\n",
    "    - 42 – 3RM > 50 cm3 <= 125 cm3\n",
    "    - 43 – 3RM > 125 cm3\n",
    "    - 50 – EDP à moteur\n",
    "    - 60 – EDP sans moteur\n",
    "    - 80 – VAE\n",
    "    - 99 – Autre véhicule \n",
    "- `obs`: Obstacle fixe heurté :\n",
    "    - -1 – Non renseigné\n",
    "    - 0 – Sans objet\n",
    "    - 1 – Véhicule en stationnement\n",
    "    - 2 – Arbre\n",
    "    - 3 – Glissière métallique\n",
    "    - 4 – Glissière béton\n",
    "    - 5 – Autre glissière\n",
    "    - 6 – Bâtiment, mur, pile de pont\n",
    "    - 7 – Support de signalisation verticale ou poste d’appel d’urgence\n",
    "    - 8 – Poteau\n",
    "    - 9 – Mobilier urbain\n",
    "    - 10 – Parapet\n",
    "    - 11 – Ilot, refuge, borne haute\n",
    "    - 12 – Bordure de trottoir\n",
    "    - 13 – Fossé, talus, paroi rocheuse\n",
    "    - 14 – Autre obstacle fixe sur chaussée\n",
    "    - 15 – Autre obstacle fixe sur trottoir ou accotement\n",
    "    - 16 – Sortie de chaussée sans obstacle\n",
    "    - 17 – Buse – tête d’aqueduc \n",
    "- `obsm`: Obstacle mobile heurté :\n",
    "    - -1 – Non renseigné\n",
    "    - 0 – Aucun\n",
    "    - 1 – Piéton\n",
    "    - 2 – Véhicule\n",
    "    - 4 – Véhicule sur rail\n",
    "    - 5 – Animal domestique\n",
    "    - 6 – Animal sauvage\n",
    "    - 9 – Autre \n",
    "- `choc`:\n",
    "    - Point de choc initial :\n",
    "    - -1 – Non renseigné\n",
    "    - 0 – Aucun\n",
    "    - 1 – Avant\n",
    "    - 2 – Avant droit\n",
    "    - 3 – Avant gauche\n",
    "    - 4 – Arrière\n",
    "    - 5 – Arrière droit\n",
    "    - 6 – Arrière gauche\n",
    "    - 7 – Côté droit\n",
    "    - 8 – Côté gauche\n",
    "    - 9 – Chocs multiples (tonneaux) \n",
    "- `manv`: Manoeuvre principale avant l'accident\n",
    "    - -1 – Non renseigné\n",
    "    - 0 – Inconnue\n",
    "    - 1 – Sans changement de direction\n",
    "    - 2 – Même sens, même file\n",
    "    - 3 – Entre 2 files\n",
    "    - 4 – En marche arrière \n",
    "    - 5 – A contresens\n",
    "    - 6 – En franchissant le terre-plein central\n",
    "    - 7 – Dans le couloir bus, dans le même sens\n",
    "    - 8 – Dans le couloir bus, dans le sens inverse\n",
    "    - 9 – En s’insérant\n",
    "    - 10 – En faisant demi-tour sur la chaussée\n",
    "    - 11 – Changeant de file à gauche\n",
    "    - 12 – Changeant de file à droite\n",
    "    - 13 – Déporté à gauche\n",
    "    - 14 – Déporté à droite\n",
    "    - 15 – Tournant à gauche\n",
    "    - 16 – Tournant à droite\n",
    "    - 17 – Dépassant à gauche\n",
    "    - 18 – Dépassant à droite\n",
    "    - 19 – Traversant la chaussée\n",
    "    - 20 – Manœuvre de stationnement\n",
    "    - 21 – Manœuvre d’évitement\n",
    "    - 22 – Ouverture de porte\n",
    "    - 23 – Arrêté (hors stationnement)\n",
    "    - 24 – En stationnement (avec occupants\n",
    "    - 25 – Circulant sur trottoir\n",
    "    - 26 – Autres manœuvres \n",
    "- `motor`: Type de motorisation du véhicule :\n",
    "    - -1 – Non renseigné\n",
    "    - 0 – Inconnue\n",
    "    - 1 – Hydrocarbures\n",
    "    - 2 – Hybride électrique\n",
    "    - 3 – Electrique\n",
    "    - 4 – Hydrogène\n",
    "    - 5 – Humaine\n",
    "    - 6 – Autre \n",
    "- `occutc`: Nombre d’occupants dans le transport en commun. "
   ]
  },
  {
   "cell_type": "code",
   "execution_count": 2,
   "id": "73a8dd52-003f-4a31-b8e0-6f9f4efb4bab",
   "metadata": {
    "editable": true,
    "slideshow": {
     "slide_type": ""
    },
    "tags": []
   },
   "outputs": [
    {
     "name": "stderr",
     "output_type": "stream",
     "text": [
      "/tmp/ipykernel_18936/1407459310.py:1: DtypeWarning: Columns (4,10,12,13,14,15) have mixed types. Specify dtype option on import or set low_memory=False.\n",
      "  characteristics = pd.read_csv(\"./data/characteristics.csv\")\n",
      "/tmp/ipykernel_18936/1407459310.py:2: DtypeWarning: Columns (2,9,10,12,13) have mixed types. Specify dtype option on import or set low_memory=False.\n",
      "  locations = pd.read_csv(\"./data/locations.csv\")\n",
      "/tmp/ipykernel_18936/1407459310.py:3: DtypeWarning: Columns (1,14) have mixed types. Specify dtype option on import or set low_memory=False.\n",
      "  users = pd.read_csv(\"./data/users.csv\")\n"
     ]
    },
    {
     "name": "stdout",
     "output_type": "stream",
     "text": [
      "There are 2,509,620 users.\n",
      "There are 1,914,902 vehicles.\n",
      "There are 1,121,571 locations.\n",
      "There are 1,121,571 characteristics.\n"
     ]
    },
    {
     "name": "stderr",
     "output_type": "stream",
     "text": [
      "/tmp/ipykernel_18936/1407459310.py:4: DtypeWarning: Columns (1) have mixed types. Specify dtype option on import or set low_memory=False.\n",
      "  vehicles = pd.read_csv(\"./data/vehicles.csv\")\n"
     ]
    }
   ],
   "source": [
    "characteristics = pd.read_csv(\"./data/characteristics.csv\")\n",
    "locations = pd.read_csv(\"./data/locations.csv\")\n",
    "users = pd.read_csv(\"./data/users.csv\")\n",
    "vehicles = pd.read_csv(\"./data/vehicles.csv\")\n",
    "\n",
    "print(f\"There are {len(users):,} users.\")\n",
    "print(f\"There are {len(vehicles):,} vehicles.\")\n",
    "print(f\"There are {len(locations):,} locations.\")\n",
    "print(f\"There are {len(characteristics):,} characteristics.\")"
   ]
  },
  {
   "cell_type": "code",
   "execution_count": 3,
   "id": "e9cbf29b-03f0-4674-92b9-d99121843325",
   "metadata": {},
   "outputs": [
    {
     "data": {
      "text/plain": [
       "Index(['Num_Acc', 'an', 'mois', 'jour', 'hrmn', 'lum', 'agg', 'int', 'atm',\n",
       "       'col', 'com', 'adr', 'gps', 'lat', 'long', 'dep'],\n",
       "      dtype='object')"
      ]
     },
     "execution_count": 3,
     "metadata": {},
     "output_type": "execute_result"
    }
   ],
   "source": [
    "characteristics.columns"
   ]
  },
  {
   "cell_type": "code",
   "execution_count": 4,
   "id": "16464f68-157a-47fc-a2cf-9583651a93ad",
   "metadata": {},
   "outputs": [
    {
     "data": {
      "text/plain": [
       "Index(['Num_Acc', 'catr', 'voie', 'v1', 'v2', 'circ', 'nbv', 'vosp', 'prof',\n",
       "       'pr', 'pr1', 'plan', 'lartpc', 'larrout', 'surf', 'infra', 'situ',\n",
       "       'vma'],\n",
       "      dtype='object')"
      ]
     },
     "execution_count": 4,
     "metadata": {},
     "output_type": "execute_result"
    }
   ],
   "source": [
    "locations.columns"
   ]
  },
  {
   "cell_type": "code",
   "execution_count": 5,
   "id": "0a77d673-7ae4-4792-a929-c38894dc366d",
   "metadata": {},
   "outputs": [
    {
     "data": {
      "text/plain": [
       "Index(['Num_Acc', 'id_vehicule', 'num_veh', 'place', 'catu', 'grav', 'sexe',\n",
       "       'an_nais', 'trajet', 'secu', 'secu1', 'secu2', 'secu3', 'locp', 'actp',\n",
       "       'etatp'],\n",
       "      dtype='object')"
      ]
     },
     "execution_count": 5,
     "metadata": {},
     "output_type": "execute_result"
    }
   ],
   "source": [
    "users.columns"
   ]
  },
  {
   "cell_type": "code",
   "execution_count": 6,
   "id": "318c8fcf-3303-4aee-b616-bb0dae200867",
   "metadata": {},
   "outputs": [
    {
     "data": {
      "text/plain": [
       "Index(['Num_Acc', 'id_vehicule', 'num_veh', 'senc', 'catv', 'obs', 'obsm',\n",
       "       'choc', 'manv', 'motor', 'occutc'],\n",
       "      dtype='object')"
      ]
     },
     "execution_count": 6,
     "metadata": {},
     "output_type": "execute_result"
    }
   ],
   "source": [
    "vehicles.columns"
   ]
  },
  {
   "cell_type": "code",
   "execution_count": 7,
   "id": "92c0e5d4-87f6-42f1-961f-cc22331d4faa",
   "metadata": {},
   "outputs": [
    {
     "name": "stdout",
     "output_type": "stream",
     "text": [
      "\n",
      "Merged users with vehicles in 0.84s\n"
     ]
    }
   ],
   "source": [
    "start = time.time()\n",
    "\n",
    "merged_df = users.merge(vehicles, on=[\"Num_Acc\", \"id_vehicule\", \"num_veh\"])\n",
    "\n",
    "end = time.time()\n",
    "\n",
    "#Subtract Start Time from The End Time\n",
    "total_time = end - start\n",
    "print(f\"\\nMerged users with vehicles in {round(total_time, 2)}s\")"
   ]
  },
  {
   "cell_type": "code",
   "execution_count": 8,
   "id": "fb8d044e-e9dc-4ad0-b475-2766286a883b",
   "metadata": {},
   "outputs": [
    {
     "name": "stdout",
     "output_type": "stream",
     "text": [
      "\n",
      "Merged locations with df in 0.53s\n"
     ]
    }
   ],
   "source": [
    "start = time.time()\n",
    "\n",
    "merged_df = merged_df.merge(locations, on=[\"Num_Acc\"])\n",
    "\n",
    "end = time.time()\n",
    "\n",
    "#Subtract Start Time from The End Time\n",
    "total_time = end - start\n",
    "print(f\"\\nMerged locations with df in {round(total_time, 2)}s\")"
   ]
  },
  {
   "cell_type": "code",
   "execution_count": 9,
   "id": "8bc6afb9-9d31-4328-aa99-30ebb3ab5098",
   "metadata": {},
   "outputs": [
    {
     "name": "stdout",
     "output_type": "stream",
     "text": [
      "\n",
      "Merged characteristics with df in 1.41s\n",
      "Users df has 2,509,620 rows.\n",
      "Final df has 2,509,598 rows.\n"
     ]
    }
   ],
   "source": [
    "start = time.time()\n",
    "\n",
    "merged_df = merged_df.merge(characteristics, on=[\"Num_Acc\"])\n",
    "\n",
    "end = time.time()\n",
    "\n",
    "#Subtract Start Time from The End Time\n",
    "total_time = end - start\n",
    "print(f\"\\nMerged characteristics with df in {round(total_time, 2)}s\")\n",
    "print(f\"Users df has {len(users):,} rows.\")\n",
    "print(f\"Final df has {len(merged_df):,} rows.\")"
   ]
  },
  {
   "cell_type": "code",
   "execution_count": 10,
   "id": "a090069c-e994-4369-b7a8-489d872707ef",
   "metadata": {},
   "outputs": [
    {
     "name": "stdout",
     "output_type": "stream",
     "text": [
      "Wrote merged df in 182.0s\n"
     ]
    }
   ],
   "source": [
    "start = time.time()\n",
    "\n",
    "merged_df.to_csv(\"./data/accidents.csv\", index=False)\n",
    "\n",
    "end = time.time()\n",
    "\n",
    "#Subtract Start Time from The End Time\n",
    "total_time = end - start\n",
    "print(f\"Wrote merged df in {round(total_time, 2)}s\")"
   ]
  },
  {
   "cell_type": "code",
   "execution_count": 11,
   "id": "f15aca72-473c-49a9-b044-0521896585f1",
   "metadata": {},
   "outputs": [
    {
     "name": "stdout",
     "output_type": "stream",
     "text": [
      "Last run at 01:54:24\n"
     ]
    }
   ],
   "source": [
    "now = datetime.now()\n",
    "current_time = now.strftime(\"%H:%M:%S\")\n",
    "print(f\"Last run at {current_time}\")"
   ]
  }
 ],
 "metadata": {
  "kernelspec": {
   "display_name": "Python 3 (ipykernel)",
   "language": "python",
   "name": "python3"
  },
  "language_info": {
   "codemirror_mode": {
    "name": "ipython",
    "version": 3
   },
   "file_extension": ".py",
   "mimetype": "text/x-python",
   "name": "python",
   "nbconvert_exporter": "python",
   "pygments_lexer": "ipython3",
   "version": "3.8.13"
  }
 },
 "nbformat": 4,
 "nbformat_minor": 5
}
