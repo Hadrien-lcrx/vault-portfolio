{
 "cells": [
  {
   "cell_type": "markdown",
   "id": "2711fde0-4006-4da4-ab4f-cbc13f27a7cb",
   "metadata": {},
   "source": [
    "# Cleaning"
   ]
  },
  {
   "cell_type": "code",
   "execution_count": 1,
   "id": "c49805f7-2d85-41ea-b802-2e63df29ae16",
   "metadata": {},
   "outputs": [],
   "source": [
    "import time\n",
    "import matplotlib.pyplot as plt\n",
    "import numpy as np\n",
    "import pandas as pd\n",
    "from datetime import datetime"
   ]
  },
  {
   "cell_type": "code",
   "execution_count": 2,
   "id": "c13caa58-99b5-4c2a-a9cc-6bc81aa670aa",
   "metadata": {},
   "outputs": [],
   "source": [
    "def count_unique_combinations(df, columns):\n",
    "    # Create a new column containing the concatenated values of selected columns\n",
    "    df[\"combined_values\"] = df[columns].apply(lambda row: \"_\".join(row.values.astype(str)), axis=1)\n",
    "    \n",
    "    # Count the number of unique combinations in the new column\n",
    "    unique_combinations_count = df[\"combined_values\"].nunique()\n",
    "    \n",
    "    # Drop the temporary column\n",
    "    df.drop(\"combined_values\", axis=1, inplace=True)\n",
    "    \n",
    "    return unique_combinations_count"
   ]
  },
  {
   "cell_type": "code",
   "execution_count": 3,
   "id": "57d6a31f-a3eb-433a-b79b-74b25c882cdb",
   "metadata": {
    "editable": true,
    "slideshow": {
     "slide_type": ""
    },
    "tags": []
   },
   "outputs": [
    {
     "name": "stderr",
     "output_type": "stream",
     "text": [
      "/tmp/ipykernel_19052/3313402184.py:3: DtypeWarning: Columns (1,14,25,32,33,35,36,44,50,52,53,54,55) have mixed types. Specify dtype option on import or set low_memory=False.\n",
      "  df = pd.read_csv(\"./data/accidents.csv\")\n"
     ]
    },
    {
     "name": "stdout",
     "output_type": "stream",
     "text": [
      "Loaded dataset in 29.24s\n",
      "Number of accidents: 1,121,571\n",
      "Number of vehicles involved: 275,146\n",
      "Number of people involved: 2,509,598\n",
      "Number of years covered: 17\n",
      "Dataset has 2,509,598 rows before cleaning.\n"
     ]
    }
   ],
   "source": [
    "start = time.time()\n",
    "\n",
    "df = pd.read_csv(\"./data/accidents.csv\")\n",
    "\n",
    "end = time.time()\n",
    "\n",
    "#Subtract Start Time from The End Time\n",
    "total_time = end - start\n",
    "print(f\"Loaded dataset in {round(total_time, 2)}s\")\n",
    "\n",
    "\n",
    "order = [\"Num_Acc\", \"id_vehicule\", \"num_veh\", \"an\", \"mois\", \"jour\", \"hrmn\",\n",
    "         \"lat\", \"long\", \"col\", \"com\", \"adr\", \"gps\",\n",
    "         \"lum\", \"agg\", \"int\", \"atm\", \"dep\", \"catr\", \"voie\", \"v1\",\n",
    "         \"v2\", \"circ\", \"nbv\", \"vosp\", \"prof\", \"pr\", \"pr1\", \"plan\", \"lartpc\",\n",
    "         \"larrout\", \"surf\", \"infra\", \"situ\", \"vma\",\n",
    "         \"senc\", \"catv\", \"obs\", \"obsm\", \"choc\", \"manv\", \"motor\", \"occutc\",\n",
    "         \"place\", \"catu\", \"sexe\", \"an_nais\", \"trajet\", \"secu\", \"secu1\",\n",
    "         \"secu2\", \"secu3\", \"locp\", \"actp\", \"etatp\", \"grav\"]\n",
    "\n",
    "df = df[order]\n",
    "\n",
    "print(f\"Number of accidents: {df['Num_Acc'].nunique():,}\")\n",
    "print(f\"Number of vehicles involved: {df['id_vehicule'].nunique():,}\")\n",
    "print(f\"Number of people involved: {len(df):,}\")\n",
    "print(f\"Number of years covered: {df['an'].nunique():,}\")\n",
    "print(f\"Dataset has {len(df):,} rows before cleaning.\")"
   ]
  },
  {
   "cell_type": "markdown",
   "id": "98bad705-0d18-4478-adc0-d42e0e4f77c6",
   "metadata": {},
   "source": [
    "## Encode all years in YYYY format"
   ]
  },
  {
   "cell_type": "code",
   "execution_count": 4,
   "id": "2d4b9abc-c8a0-432d-ba15-42df32c82846",
   "metadata": {},
   "outputs": [],
   "source": [
    "def format_years(year):\n",
    "    return f\"20{year:02}\" if int(year) <= 18 else str(year)\n",
    "\n",
    "# Apply the custom function to the Series\n",
    "df[\"an\"] =df[\"an\"].apply(format_years)"
   ]
  },
  {
   "cell_type": "markdown",
   "id": "037c9348-8f07-46a1-a6f4-fae83db0df75",
   "metadata": {},
   "source": [
    "## Encode all hrmn in military format"
   ]
  },
  {
   "cell_type": "code",
   "execution_count": 5,
   "id": "469d4885-07bb-4884-8b2a-9efdf1f27cb2",
   "metadata": {},
   "outputs": [],
   "source": [
    "df[\"hrmn\"] = df[\"hrmn\"].astype(str)\n",
    "df[\"hrmn\"] = df[\"hrmn\"].str.replace(\":\", \"\")"
   ]
  },
  {
   "cell_type": "markdown",
   "id": "a9913360-aa3e-49df-bc0c-4c372e5aaf21",
   "metadata": {},
   "source": [
    "## Encode -1 as missing"
   ]
  },
  {
   "cell_type": "code",
   "execution_count": 6,
   "id": "64277363-20eb-42c6-a440-203433de99d5",
   "metadata": {
    "editable": true,
    "slideshow": {
     "slide_type": ""
    },
    "tags": []
   },
   "outputs": [],
   "source": [
    "# Define columns where you want to replace -1 with np.nan\n",
    "columns_to_replace = [\"atm\", \"col\", \"circ\", \"vosp\", \"prof\", \"pr\", \"pr1\", \"plan\", \"surf\", \"infra\", \"situ\",\n",
    "                      \"senc\", \"obs\", \"obsm\", \"choc\", \"manv\", \"motor\", \"trajet\", \n",
    "                      \"secu1\", \"secu2\", \"secu3\", \"locp\", \"actp\", \"etatp\", \"grav\"]\n",
    "# Convert -1 to np.nan in the specified columns\n",
    "df[columns_to_replace] = df[columns_to_replace].replace(-1, np.nan)\n",
    "\n",
    "# Column 'trajet' also has 0 values encoded as missing\n",
    "df[\"trajet\"] = df[\"trajet\"].replace(0, np.nan)"
   ]
  },
  {
   "cell_type": "markdown",
   "id": "b2240585-5649-45c8-b980-b8520f2ca244",
   "metadata": {},
   "source": [
    "## Encode categories"
   ]
  },
  {
   "cell_type": "code",
   "execution_count": 7,
   "id": "25d9e554-b320-4dc9-b802-ab4c47a22c58",
   "metadata": {},
   "outputs": [],
   "source": [
    "columns_to_convert = [\"an\", \"lum\", \"dep\", \"com\", \"agg\", \"int\", \"catr\", \"pr\", \"catv\", \"place\", \"catu\", \"sexe\"] \\\n",
    "                    + columns_to_replace\n",
    "\n",
    "for col in columns_to_convert:\n",
    "    df[col] = df[col].astype(\"category\")"
   ]
  },
  {
   "cell_type": "markdown",
   "id": "83de9543-174f-41c1-a7cf-13b75536b060",
   "metadata": {},
   "source": [
    "## Encode numbers"
   ]
  },
  {
   "cell_type": "code",
   "execution_count": 8,
   "id": "ea8f14a6-ef61-4fda-81a6-febaf476df78",
   "metadata": {},
   "outputs": [],
   "source": [
    "columns_to_convert = [\"lartpc\", \"larrout\"]\n",
    "\n",
    "for col in columns_to_convert:\n",
    "    df[col] = df[col].str.replace(\",\", \".\")\n",
    "    df[col] = pd.to_numeric(df[col])"
   ]
  },
  {
   "cell_type": "markdown",
   "id": "486013ec-a2ff-4508-a0ae-201ab54cc5d1",
   "metadata": {},
   "source": [
    "## Encode latitude and longitude"
   ]
  },
  {
   "cell_type": "code",
   "execution_count": 9,
   "id": "46d8f414-4d14-4755-ba4a-c5ca0d641441",
   "metadata": {},
   "outputs": [],
   "source": [
    "# Convert latitude and longitude to numeric values\n",
    "df[\"lat\"] = pd.to_numeric(df[\"lat\"].str.replace(\",\", \".\"), errors=\"coerce\")\n",
    "df[\"long\"] = pd.to_numeric(df[\"long\"].str.replace(\",\", \".\"), errors=\"coerce\")"
   ]
  },
  {
   "cell_type": "markdown",
   "id": "34f8fdff-de2d-4d68-88f6-68210ee0176e",
   "metadata": {},
   "source": [
    "## Drop ID columns"
   ]
  },
  {
   "cell_type": "markdown",
   "id": "328b1d94-334d-4bcb-ae16-1913ceb5ab72",
   "metadata": {},
   "source": [
    "Dropping columns:\n",
    "- \"Num_Acc\": ID column, irrelevant for modeling\n",
    "- \"id_vehicule\": ID column, irrelevant for modeling\n",
    "- \"gps\": 56% missing values\n",
    "- \"v1\": 56.45% missing values\n",
    "- \"v2\": 95.25% missing values\n",
    "- \"adr\": too many different categorical values\n",
    "- \"voie\": too many different categorical values?\n",
    "- \"pr\": irrelevant\n",
    "- \"pr1\": irrelevant\n",
    "- \"lat\": 84.90% missing values\n",
    "- \"long\": 81.75% missing values\n",
    "- \"com\": irrelevant\n",
    "- \"dep\": irrelevant\n",
    "- \"num_veh\": identifies the vehicle if more than one vehicle is involved in an accident\n",
    "- \"lartpc\": 99.98% missing values\n",
    "- \"larrout\": 90.64% missing values\n",
    "- \"vma\": 85.35% missing values\n",
    "- \"motor\": 85.38% missing values\n",
    "- \"occutc\": 14.48% missing values, only for public transport\n",
    "- \"secu\": 16.90% values, only for some observations\n",
    "- \"secu1\": 85.47% values, only for some observations\n",
    "- \"secu2\": 90.72% missing values, only for some observations\n",
    "- \"secu3\": 99.83% too many missing values, only for some observations\n",
    "- \"locp\": few missing values, but only for pedestrians\n",
    "- \"actp\": few missing values, but only for pedestrians\n",
    "- \"etatp\": few missing values, but only for pedestrians"
   ]
  },
  {
   "cell_type": "code",
   "execution_count": 10,
   "id": "f3d3c29b-f537-4e66-894b-84c10c50c92e",
   "metadata": {},
   "outputs": [],
   "source": [
    "df = df.drop(\n",
    "    columns=[\n",
    "        \"Num_Acc\", \"id_vehicule\", \"gps\", \"v1\", \"v2\", \"adr\", \"voie\", \"pr\", \"pr1\",\n",
    "        \"lat\", \"long\", \"com\", \"dep\", \"num_veh\", \"lartpc\", \"larrout\", \"vma\", \"motor\",\n",
    "        \"occutc\", \"secu\", \"secu1\", \"secu2\", \"secu3\", \"locp\", \"actp\", \"etatp\"\n",
    "    ]\n",
    ")"
   ]
  },
  {
   "cell_type": "code",
   "execution_count": 11,
   "id": "7cd620f8-a946-4872-bb2f-20dce119e2d4",
   "metadata": {},
   "outputs": [
    {
     "name": "stdout",
     "output_type": "stream",
     "text": [
      "<class 'pandas.core.frame.DataFrame'>\n",
      "RangeIndex: 2509598 entries, 0 to 2509597\n",
      "Data columns (total 30 columns):\n",
      " #   Column   Dtype   \n",
      "---  ------   -----   \n",
      " 0   an       category\n",
      " 1   mois     int64   \n",
      " 2   jour     int64   \n",
      " 3   hrmn     object  \n",
      " 4   col      category\n",
      " 5   lum      category\n",
      " 6   agg      category\n",
      " 7   int      category\n",
      " 8   atm      category\n",
      " 9   catr     category\n",
      " 10  circ     category\n",
      " 11  nbv      float64 \n",
      " 12  vosp     category\n",
      " 13  prof     category\n",
      " 14  plan     category\n",
      " 15  surf     category\n",
      " 16  infra    category\n",
      " 17  situ     category\n",
      " 18  senc     category\n",
      " 19  catv     category\n",
      " 20  obs      category\n",
      " 21  obsm     category\n",
      " 22  choc     category\n",
      " 23  manv     category\n",
      " 24  place    category\n",
      " 25  catu     category\n",
      " 26  sexe     category\n",
      " 27  an_nais  float64 \n",
      " 28  trajet   category\n",
      " 29  grav     category\n",
      "dtypes: category(25), float64(2), int64(2), object(1)\n",
      "memory usage: 155.6+ MB\n"
     ]
    }
   ],
   "source": [
    "df.info()"
   ]
  },
  {
   "cell_type": "markdown",
   "id": "20589cf3-a36f-41f3-a419-6701f6fa7ecd",
   "metadata": {},
   "source": [
    "## Drop dupicates"
   ]
  },
  {
   "cell_type": "code",
   "execution_count": 12,
   "id": "b2bea057-d5d8-49de-a08c-d248886d7a30",
   "metadata": {},
   "outputs": [],
   "source": [
    "df = df.drop_duplicates(keep=\"first\")"
   ]
  },
  {
   "cell_type": "markdown",
   "id": "6c7a2014-4d71-4667-abdb-d20a31e0f8a2",
   "metadata": {},
   "source": [
    "## Drop rows without predictive power"
   ]
  },
  {
   "cell_type": "markdown",
   "id": "d42eafa1-9bbb-457f-a99c-a63950a08646",
   "metadata": {},
   "source": [
    "- Columns 'dep', 'id_vehicle' and 'num_veh' don't convey any predictive power, or are duplicates of information found elsewhere."
   ]
  },
  {
   "cell_type": "code",
   "execution_count": 13,
   "id": "32aad233-5ac1-41c8-9021-ac13ae9ad585",
   "metadata": {},
   "outputs": [],
   "source": [
    "df = df.drop([\"dep\", \"id_vehicule\", \"num_veh\"], axis=1, errors=\"ignore\")"
   ]
  },
  {
   "cell_type": "markdown",
   "id": "b8ab49c3-860e-47b1-8f87-4d48922f7595",
   "metadata": {},
   "source": [
    "## Drop rows with missing predicted variable"
   ]
  },
  {
   "cell_type": "code",
   "execution_count": 14,
   "id": "ee6decbc-1f74-4646-abab-3e57851b5318",
   "metadata": {},
   "outputs": [],
   "source": [
    "df = df[df[\"grav\"].notna()]"
   ]
  },
  {
   "cell_type": "code",
   "execution_count": 15,
   "id": "863b764e-8494-4570-9cd1-f21a3b123cf6",
   "metadata": {
    "editable": true,
    "slideshow": {
     "slide_type": ""
    },
    "tags": []
   },
   "outputs": [
    {
     "name": "stdout",
     "output_type": "stream",
     "text": [
      "Wrote cleaned dataset in 92.84s\n",
      "Dataset has 2,505,924 rows after cleaning.\n"
     ]
    }
   ],
   "source": [
    "start = time.time()\n",
    "\n",
    "df.to_csv(\"./data/accidents_before_eda_cleaned.csv\", index=False)\n",
    "\n",
    "end = time.time()\n",
    "\n",
    "total_time = end - start\n",
    "print(f\"Wrote cleaned dataset in {round(total_time, 2)}s\")\n",
    "print(f\"Dataset has {len(df):,} rows after cleaning.\")"
   ]
  },
  {
   "cell_type": "code",
   "execution_count": 16,
   "id": "d01699be-9f27-4614-8753-8836b1a8ece9",
   "metadata": {},
   "outputs": [
    {
     "name": "stdout",
     "output_type": "stream",
     "text": [
      "Last run at 02:01:21\n"
     ]
    }
   ],
   "source": [
    "now = datetime.now()\n",
    "current_time = now.strftime(\"%H:%M:%S\")\n",
    "print(f\"Last run at {current_time}\")"
   ]
  }
 ],
 "metadata": {
  "kernelspec": {
   "display_name": "Python 3 (ipykernel)",
   "language": "python",
   "name": "python3"
  },
  "language_info": {
   "codemirror_mode": {
    "name": "ipython",
    "version": 3
   },
   "file_extension": ".py",
   "mimetype": "text/x-python",
   "name": "python",
   "nbconvert_exporter": "python",
   "pygments_lexer": "ipython3",
   "version": "3.8.13"
  }
 },
 "nbformat": 4,
 "nbformat_minor": 5
}
