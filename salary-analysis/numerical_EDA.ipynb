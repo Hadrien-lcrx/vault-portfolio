{
 "cells": [
  {
   "cell_type": "markdown",
   "id": "tough-issue",
   "metadata": {},
   "source": [
    "## Imports"
   ]
  },
  {
   "cell_type": "code",
   "execution_count": 1,
   "id": "golden-mortality",
   "metadata": {},
   "outputs": [],
   "source": [
    "import time\n",
    "\n",
    "import numpy as np\n",
    "import pandas as pd\n",
    "\n",
    "import matplotlib.pyplot as plt\n",
    "import seaborn as sns\n",
    "\n",
    "from helpers.eda import plot_imbalance\n",
    "\n",
    "\n",
    "teal = '#01ACA5'\n",
    "purple = '#BF40BF'\n",
    "sns.set_palette(sns.color_palette([teal, purple]))\n",
    "white_median = dict(color='yellow')\n",
    "\n",
    "pd.set_option('display.max_columns', 9)\n",
    "\n",
    "import warnings\n",
    "warnings.filterwarnings('ignore')"
   ]
  },
  {
   "cell_type": "code",
   "execution_count": 2,
   "id": "b2f96710-2874-446d-9cf9-4f6f9d2f9cea",
   "metadata": {},
   "outputs": [],
   "source": [
    "start = time.time()"
   ]
  },
  {
   "cell_type": "markdown",
   "id": "renewable-topic",
   "metadata": {},
   "source": [
    "## Numerical EDA"
   ]
  },
  {
   "cell_type": "code",
   "execution_count": 3,
   "id": "clinical-breakfast",
   "metadata": {},
   "outputs": [],
   "source": [
    "header = ['age', 'class_of_worker', 'industry_code', 'occupation_code', 'education', 'wage_per_hour',\n",
    "          'enrolled_in_edu_inst_last_wk', 'marital_status', 'major_industry_code',\n",
    "          'major_occupation_code', 'race', 'hispanic_origin', 'sex', 'member_of_a_labor_union',\n",
    "          'reason_for_unemployment', 'full_or_part_time_employment_stat', 'capital_gains', 'capital_losses',\n",
    "          'divdends_from_stocks', 'tax_filer_status', 'region_of_previous_residence',\n",
    "          'state_of_previous_residence', 'detailed_household_and_family_stat',\n",
    "          'detailed_household_summary_in_household', 'unknown_column', 'migration_code_change_in_msa',\n",
    "          'migration_code_change_in_reg', 'migration_code_move_within_reg', 'live_in_this_house_1_year_ago',\n",
    "          'migration_prev_res_in_sunbelt',  'num_persons_worked_for_employer', 'family_members_under_18',\n",
    "          'country_of_birth_father', 'country_of_birth_mother', 'country_of_birth_self',\n",
    "          'citizenship', 'own_business_or_self_employed', 'fill_inc_questionnaire_for_veterans_admin',\n",
    "          'veterans_benefits', 'weeks_worked_in_year', 'year', 'taxable_income_amount']\n",
    "\n",
    "otrain = pd.read_csv('./data/census_income_learn.csv', names=header, sep=', ')\n",
    "otest = pd.read_csv('./data/census_income_test.csv', names=header, sep=', ')\n",
    "\n",
    "train = pd.read_csv('./data/census_income_learn.csv', names=header, sep=', ')\n",
    "test = pd.read_csv('./data/census_income_test.csv', names=header, sep=', ')"
   ]
  },
  {
   "cell_type": "code",
   "execution_count": 4,
   "id": "metropolitan-contact",
   "metadata": {},
   "outputs": [
    {
     "data": {
      "text/plain": [
       "42"
      ]
     },
     "execution_count": 4,
     "metadata": {},
     "output_type": "execute_result"
    }
   ],
   "source": [
    "len(header)"
   ]
  },
  {
   "cell_type": "markdown",
   "id": "4faead44-f62d-4386-b48c-f5739478d791",
   "metadata": {},
   "source": [
    "There are 42 columns according to the metadata information."
   ]
  },
  {
   "cell_type": "code",
   "execution_count": 5,
   "id": "competitive-hypothesis",
   "metadata": {},
   "outputs": [
    {
     "data": {
      "text/plain": [
       "(199523, 42)"
      ]
     },
     "execution_count": 5,
     "metadata": {},
     "output_type": "execute_result"
    }
   ],
   "source": [
    "train.shape"
   ]
  },
  {
   "cell_type": "markdown",
   "id": "05b0741f-3219-47eb-9346-40cbe3b63da9",
   "metadata": {},
   "source": [
    "There are 199523 observations in the train dataset."
   ]
  },
  {
   "cell_type": "code",
   "execution_count": 6,
   "id": "photographic-contamination",
   "metadata": {},
   "outputs": [
    {
     "data": {
      "text/plain": [
       "(99762, 42)"
      ]
     },
     "execution_count": 6,
     "metadata": {},
     "output_type": "execute_result"
    }
   ],
   "source": [
    "test.shape"
   ]
  },
  {
   "cell_type": "markdown",
   "id": "55c1c09d-577d-481d-abbe-62c07c35e250",
   "metadata": {},
   "source": [
    "There are 99762 observations in the train dataset."
   ]
  },
  {
   "cell_type": "markdown",
   "id": "permanent-omaha",
   "metadata": {},
   "source": [
    "### Cleaning"
   ]
  },
  {
   "cell_type": "markdown",
   "id": "inner-feature",
   "metadata": {},
   "source": [
    "#### Dependent variable to boolean"
   ]
  },
  {
   "cell_type": "code",
   "execution_count": 7,
   "id": "specific-vessel",
   "metadata": {},
   "outputs": [
    {
     "data": {
      "text/plain": [
       "array(['- 50000.', '50000+.'], dtype=object)"
      ]
     },
     "execution_count": 7,
     "metadata": {},
     "output_type": "execute_result"
    }
   ],
   "source": [
    "train.taxable_income_amount.unique()"
   ]
  },
  {
   "cell_type": "markdown",
   "id": "1949f897-dbf5-400d-ba63-fd30a60605de",
   "metadata": {},
   "source": [
    "There are two possible values in the dependent variable:  \n",
    "- individuals earning less than \\\\$50K per year\n",
    "- individuals earning more than \\\\$50K per year\n",
    "\n",
    "We are going to remap these values. Since our goal is to identify if an individual earns more than \\\\$50K per year:\n",
    "- individuals earning less than \\\\$50K per year will be 0\n",
    "- individuals earning more than \\\\$50K per year will be 1"
   ]
  },
  {
   "cell_type": "code",
   "execution_count": 8,
   "id": "pursuant-baking",
   "metadata": {},
   "outputs": [],
   "source": [
    "boolean_map = {'- 50000.': 0, \n",
    "               '50000+.': 1}\n",
    "\n",
    "train.taxable_income_amount.replace(boolean_map, inplace=True)"
   ]
  },
  {
   "cell_type": "code",
   "execution_count": 9,
   "id": "synthetic-envelope",
   "metadata": {},
   "outputs": [
    {
     "data": {
      "text/plain": [
       "array([0, 1])"
      ]
     },
     "execution_count": 9,
     "metadata": {},
     "output_type": "execute_result"
    }
   ],
   "source": [
    "train.taxable_income_amount.unique()"
   ]
  },
  {
   "cell_type": "markdown",
   "id": "whole-bride",
   "metadata": {},
   "source": [
    "#### Certain data leakage"
   ]
  },
  {
   "cell_type": "markdown",
   "id": "87bf1f07-78d9-4597-9195-5a6ee2e7e726",
   "metadata": {},
   "source": [
    "Some quantitative columns contain explicit income value and therefore present a data leakage risk. We will remove these."
   ]
  },
  {
   "cell_type": "code",
   "execution_count": 10,
   "id": "peaceful-circular",
   "metadata": {},
   "outputs": [],
   "source": [
    "train.drop(columns=['wage_per_hour', 'capital_gains', 'capital_losses', 'divdends_from_stocks'], inplace=True)"
   ]
  },
  {
   "cell_type": "markdown",
   "id": "thorough-polls",
   "metadata": {},
   "source": [
    "#### Potential data leakage"
   ]
  },
  {
   "cell_type": "markdown",
   "id": "816f30b5-cdc7-4eb0-a4fb-9ec27f9a6daf",
   "metadata": {},
   "source": [
    "There is a quantitative column containing a lot of different values that look like a salary. We have no certainty what this column is, so we drop it."
   ]
  },
  {
   "cell_type": "code",
   "execution_count": 11,
   "id": "3968d223-344e-4423-953f-eea14c027a2b",
   "metadata": {},
   "outputs": [
    {
     "data": {
      "image/png": "[encoded data removed]",
      "text/plain": [
       "<Figure size 1080x576 with 1 Axes>"
      ]
     },
     "metadata": {
      "needs_background": "light"
     },
     "output_type": "display_data"
    }
   ],
   "source": [
    "train.unknown_column.plot.hist(bins=20, figsize=(15,8), alpha=0.6)\n",
    "\n",
    "plt.axvline(train.unknown_column.median(),\n",
    "            color='yellow',\n",
    "            linestyle='--',\n",
    "            linewidth=2,\n",
    "            label='median')\n",
    "\n",
    "plt.axvline(train.unknown_column.mean(),\n",
    "            color='white',\n",
    "            linestyle='--',\n",
    "            linewidth=2,\n",
    "            label='mean')\n",
    "\n",
    "plt.legend(loc='upper right')\n",
    "plt.title(\"Unknown column histrogram on the raw training set\")\n",
    "plt.show()"
   ]
  },
  {
   "cell_type": "code",
   "execution_count": 12,
   "id": "pacific-antarctica",
   "metadata": {},
   "outputs": [],
   "source": [
    "train.drop(columns=['unknown_column'], inplace=True)"
   ]
  },
  {
   "cell_type": "markdown",
   "id": "marine-jacob",
   "metadata": {},
   "source": [
    "#### Missing values"
   ]
  },
  {
   "cell_type": "markdown",
   "id": "86f7ecc8-8a70-415e-a297-e3be06b34463",
   "metadata": {},
   "source": [
    "Some cells have a 'Not in universe.' value: this corresponds to the way missing values are encoded. We will replace these by NaN values, that pandas can handle more efficiently."
   ]
  },
  {
   "cell_type": "code",
   "execution_count": 13,
   "id": "provincial-subject",
   "metadata": {},
   "outputs": [],
   "source": [
    "train.replace(to_replace='Not in universe.*', value=np.nan, regex=True, inplace=True)"
   ]
  },
  {
   "cell_type": "markdown",
   "id": "5c646112-f9f5-49de-9ec5-9d1a64c0ca55",
   "metadata": {},
   "source": [
    "Other missing values were encoded using the '?' character. Again, we will replace these by NaN values, that pandas can handle more efficiently."
   ]
  },
  {
   "cell_type": "code",
   "execution_count": 14,
   "id": "aa2c8ea5-356a-48f9-88d3-40a7736f0272",
   "metadata": {},
   "outputs": [],
   "source": [
    "train.replace(to_replace='\\?', value=np.nan, regex=True, inplace=True)"
   ]
  },
  {
   "cell_type": "code",
   "execution_count": 15,
   "id": "peaceful-portuguese",
   "metadata": {},
   "outputs": [
    {
     "data": {
      "text/plain": [
       "age                                          0.000000\n",
       "class_of_worker                              0.502423\n",
       "industry_code                                0.000000\n",
       "occupation_code                              0.000000\n",
       "education                                    0.000000\n",
       "enrolled_in_edu_inst_last_wk                 0.936950\n",
       "marital_status                               0.000000\n",
       "major_industry_code                          0.504624\n",
       "major_occupation_code                        0.504624\n",
       "race                                         0.000000\n",
       "hispanic_origin                              0.004380\n",
       "sex                                          0.000000\n",
       "member_of_a_labor_union                      0.904452\n",
       "reason_for_unemployment                      0.969577\n",
       "full_or_part_time_employment_stat            0.000000\n",
       "tax_filer_status                             0.000000\n",
       "region_of_previous_residence                 0.920946\n",
       "state_of_previous_residence                  0.924495\n",
       "detailed_household_and_family_stat           0.000000\n",
       "detailed_household_summary_in_household      0.000000\n",
       "migration_code_change_in_msa                 0.507270\n",
       "migration_code_change_in_reg                 0.507270\n",
       "migration_code_move_within_reg               0.507270\n",
       "live_in_this_house_1_year_ago                0.507270\n",
       "migration_prev_res_in_sunbelt                0.920946\n",
       "num_persons_worked_for_employer              0.000000\n",
       "family_members_under_18                      0.722884\n",
       "country_of_birth_father                      0.033645\n",
       "country_of_birth_mother                      0.030668\n",
       "country_of_birth_self                        0.017006\n",
       "citizenship                                  0.000000\n",
       "own_business_or_self_employed                0.000000\n",
       "fill_inc_questionnaire_for_veterans_admin    0.990056\n",
       "veterans_benefits                            0.000000\n",
       "weeks_worked_in_year                         0.000000\n",
       "year                                         0.000000\n",
       "taxable_income_amount                        0.000000\n",
       "dtype: float64"
      ]
     },
     "execution_count": 15,
     "metadata": {},
     "output_type": "execute_result"
    }
   ],
   "source": [
    "train.isnull().mean()"
   ]
  },
  {
   "cell_type": "markdown",
   "id": "e407ea8e-2def-4739-89c1-ba55c069d7e6",
   "metadata": {},
   "source": [
    "There are a few columns with high rates of missing values. We will get rid of any column that displays a missing value ratio greater than 30%."
   ]
  },
  {
   "cell_type": "code",
   "execution_count": 16,
   "id": "plain-bracelet",
   "metadata": {},
   "outputs": [
    {
     "data": {
      "text/plain": [
       "15"
      ]
     },
     "execution_count": 16,
     "metadata": {},
     "output_type": "execute_result"
    }
   ],
   "source": [
    "nan_proportion_by_col = train.isnull().mean()\n",
    "high_nan_columns = nan_proportion_by_col[nan_proportion_by_col > 0.30].index\n",
    "len(high_nan_columns)"
   ]
  },
  {
   "cell_type": "markdown",
   "id": "c33a8565-bf25-4fdb-a2cb-148c40330a5b",
   "metadata": {},
   "source": [
    "There are a 12 columns with high rates of missing values. We get rid of them."
   ]
  },
  {
   "cell_type": "code",
   "execution_count": 17,
   "id": "marked-gothic",
   "metadata": {},
   "outputs": [],
   "source": [
    "train.drop(columns=high_nan_columns, inplace=True)"
   ]
  },
  {
   "cell_type": "markdown",
   "id": "victorian-third",
   "metadata": {},
   "source": [
    "Major industry code and major occupation code are duplicates anyway: they are a less precise version of indsutry code and occupation code."
   ]
  },
  {
   "cell_type": "markdown",
   "id": "91171bda-acf0-45d0-9809-a4f69a75ab67",
   "metadata": {},
   "source": [
    "There are also children in the dataset. Just by looking at the value counts, we see that children are almost always individuals earning less than \\\\$50K per year. There are only two occurences of individuals lower than 18 earning more than \\\\$50K. So we get rid of any individual less than 18 years old."
   ]
  },
  {
   "cell_type": "code",
   "execution_count": 18,
   "id": "comic-balloon",
   "metadata": {},
   "outputs": [
    {
     "data": {
      "text/plain": [
       "0    55990\n",
       "1        2\n",
       "Name: taxable_income_amount, dtype: int64"
      ]
     },
     "execution_count": 18,
     "metadata": {},
     "output_type": "execute_result"
    }
   ],
   "source": [
    "lower_18 = train[train.age < 18]\n",
    "lower_18.taxable_income_amount.value_counts()"
   ]
  },
  {
   "cell_type": "code",
   "execution_count": 19,
   "id": "southwest-tuner",
   "metadata": {},
   "outputs": [],
   "source": [
    "train = train[train.age >= 18]"
   ]
  },
  {
   "cell_type": "markdown",
   "id": "d7a08111-2e59-4884-b07c-6ad0ec94848e",
   "metadata": {},
   "source": [
    "There are also people not engaged in the labor force. Among these, only 1% earn more than \\\\$50K. We can drop this column as well."
   ]
  },
  {
   "cell_type": "code",
   "execution_count": 20,
   "id": "a3adfd10-9b02-448b-8dc2-b64cef47bb7e",
   "metadata": {},
   "outputs": [
    {
     "data": {
      "text/plain": [
       "0    0.980583\n",
       "1    0.019417\n",
       "Name: taxable_income_amount, dtype: float64"
      ]
     },
     "execution_count": 20,
     "metadata": {},
     "output_type": "execute_result"
    }
   ],
   "source": [
    "not_in_labor = train[train.full_or_part_time_employment_stat == 'Not in labor force']\n",
    "not_in_labor.taxable_income_amount.value_counts(normalize=True)"
   ]
  },
  {
   "cell_type": "code",
   "execution_count": 21,
   "id": "considerable-increase",
   "metadata": {},
   "outputs": [],
   "source": [
    "train = train[train.full_or_part_time_employment_stat != 'Not in labor force']"
   ]
  },
  {
   "cell_type": "markdown",
   "id": "occupational-bridge",
   "metadata": {},
   "source": [
    "##### Duplicate columns"
   ]
  },
  {
   "cell_type": "code",
   "execution_count": 22,
   "id": "comparative-cradle",
   "metadata": {},
   "outputs": [
    {
     "data": {
      "text/plain": [
       "0     24021\n",
       "33    15516\n",
       "43     8145\n",
       "4      5893\n",
       "42     4593\n",
       "45     4420\n",
       "29     4175\n",
       "41     3949\n",
       "37     3931\n",
       "32     3547\n",
       "35     3344\n",
       "39     2858\n",
       "34     2747\n",
       "44     2442\n",
       "2      2056\n",
       "11     1753\n",
       "50     1684\n",
       "47     1636\n",
       "38     1583\n",
       "40     1490\n",
       "24     1442\n",
       "12     1347\n",
       "19     1331\n",
       "30     1172\n",
       "31     1170\n",
       "25     1078\n",
       "9       986\n",
       "22      945\n",
       "13      894\n",
       "36      810\n",
       "1       778\n",
       "48      645\n",
       "27      621\n",
       "49      604\n",
       "3       560\n",
       "6       551\n",
       "21      551\n",
       "8       549\n",
       "5       546\n",
       "16      534\n",
       "23      521\n",
       "18      482\n",
       "15      450\n",
       "7       421\n",
       "14      293\n",
       "46      182\n",
       "17      156\n",
       "28      140\n",
       "26      126\n",
       "51       34\n",
       "20       32\n",
       "10        4\n",
       "Name: industry_code, dtype: int64"
      ]
     },
     "execution_count": 22,
     "metadata": {},
     "output_type": "execute_result"
    }
   ],
   "source": [
    "train.industry_code.value_counts()"
   ]
  },
  {
   "cell_type": "markdown",
   "id": "infrared-silence",
   "metadata": {},
   "source": [
    "Major industry code is similar to industry code, just less precise: we drop."
   ]
  },
  {
   "cell_type": "code",
   "execution_count": 23,
   "id": "narrow-light",
   "metadata": {},
   "outputs": [],
   "source": [
    "x = train.taxable_income_amount.value_counts(normalize=True).index\n",
    "y = train.taxable_income_amount.value_counts(normalize=True)"
   ]
  },
  {
   "cell_type": "code",
   "execution_count": 24,
   "id": "a8ca9416-9e63-4734-a2c8-71b2f9319809",
   "metadata": {},
   "outputs": [
    {
     "name": "stdout",
     "output_type": "stream",
     "text": [
      "<class 'pandas.core.frame.DataFrame'>\n",
      "Int64Index: 119738 entries, 1 to 199522\n",
      "Data columns (total 22 columns):\n",
      " #   Column                                   Non-Null Count   Dtype \n",
      "---  ------                                   --------------   ----- \n",
      " 0   age                                      119738 non-null  int64 \n",
      " 1   industry_code                            119738 non-null  int64 \n",
      " 2   occupation_code                          119738 non-null  int64 \n",
      " 3   education                                119738 non-null  object\n",
      " 4   marital_status                           119738 non-null  object\n",
      " 5   race                                     119738 non-null  object\n",
      " 6   hispanic_origin                          119152 non-null  object\n",
      " 7   sex                                      119738 non-null  object\n",
      " 8   full_or_part_time_employment_stat        119738 non-null  object\n",
      " 9   tax_filer_status                         119738 non-null  object\n",
      " 10  detailed_household_and_family_stat       119738 non-null  object\n",
      " 11  detailed_household_summary_in_household  119738 non-null  object\n",
      " 12  num_persons_worked_for_employer          119738 non-null  int64 \n",
      " 13  country_of_birth_father                  115596 non-null  object\n",
      " 14  country_of_birth_mother                  116012 non-null  object\n",
      " 15  country_of_birth_self                    117355 non-null  object\n",
      " 16  citizenship                              119738 non-null  object\n",
      " 17  own_business_or_self_employed            119738 non-null  int64 \n",
      " 18  veterans_benefits                        119738 non-null  int64 \n",
      " 19  weeks_worked_in_year                     119738 non-null  int64 \n",
      " 20  year                                     119738 non-null  int64 \n",
      " 21  taxable_income_amount                    119738 non-null  int64 \n",
      "dtypes: int64(9), object(13)\n",
      "memory usage: 21.0+ MB\n"
     ]
    }
   ],
   "source": [
    "train.info()"
   ]
  },
  {
   "cell_type": "code",
   "execution_count": 25,
   "id": "8cbaff30-8492-4b5e-9c55-2693ef0e5da8",
   "metadata": {},
   "outputs": [
    {
     "data": {
      "image/png": "[encoded data removed]",
      "text/plain": [
       "<Figure size 432x288 with 1 Axes>"
      ]
     },
     "metadata": {
      "needs_background": "light"
     },
     "output_type": "display_data"
    }
   ],
   "source": [
    "fig = plot_imbalance(train)\n",
    "plt.show()"
   ]
  },
  {
   "cell_type": "code",
   "execution_count": 26,
   "id": "9a28026b-6b62-4067-af01-64bd6fcea2e9",
   "metadata": {},
   "outputs": [
    {
     "name": "stdout",
     "output_type": "stream",
     "text": [
      "Numerical EDA took 47 seconds to execute.\n"
     ]
    }
   ],
   "source": [
    "end = time.time()\n",
    "execution = round(end - start)\n",
    "print(f'Numerical EDA took {execution} seconds to execute.')"
   ]
  }
 ],
 "metadata": {
  "kernelspec": {
   "display_name": "Python 3",
   "language": "python",
   "name": "python3"
  },
  "language_info": {
   "codemirror_mode": {
    "name": "ipython",
    "version": 3
   },
   "file_extension": ".py",
   "mimetype": "text/x-python",
   "name": "python",
   "nbconvert_exporter": "python",
   "pygments_lexer": "ipython3",
   "version": "3.9.6"
  }
 },
 "nbformat": 4,
 "nbformat_minor": 5
}
