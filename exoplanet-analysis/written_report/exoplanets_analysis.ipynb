{
 "cells": [
  {
   "cell_type": "markdown",
   "id": "loose-ecuador",
   "metadata": {},
   "source": [
    "# Identifying exoplanets"
   ]
  },
  {
   "cell_type": "markdown",
   "id": "8aab8c9a-caaa-4f0d-b35f-8330566ba0da",
   "metadata": {},
   "source": [
    "- Name: Hadrien Lacroix\n",
    "- Last 3 digits of student ID: 129\n",
    "- Email: hlacroix3@gatech.edu\n",
    "- Submission date: 2021-12-02\n",
    "- Course name: Data Mining and Statistical Learning\n",
    "- Course number: ISYE 7406"
   ]
  },
  {
   "cell_type": "markdown",
   "id": "00d4ffde-2cbf-4d7d-8b04-dfb2c6d75113",
   "metadata": {},
   "source": [
    "## Abstract"
   ]
  },
  {
   "cell_type": "markdown",
   "id": "20eb97c2-0d34-4eba-bc2d-0750b8e4af5f",
   "metadata": {},
   "source": [
    "## Introduction"
   ]
  },
  {
   "cell_type": "markdown",
   "id": "d4854b71-ac49-4b5a-89c1-514f0075ec12",
   "metadata": {},
   "source": [
    "Exoplanets are planets outside of our solar system. Despite a first possible evidence for the\n",
    "existence of exoplanets in 1917, their existence has only been officially confirmed in 1992.\n",
    "Since then, thousands of exoplanets and planetary systems have been identified. In a nutshell,\n",
    "exoplanets are detected by observing the luminosity of stars and seeing whether or not they dim\n",
    "at a regular interval. If so, it's possible that this dim is caused by a planet orbiting around it.\n",
    "Identifying exoplanets is the first step to then potentially finding life outside of our solar system. Such a dim would create a sinusoidal pattern in the light intensity measurements."
   ]
  },
  {
   "cell_type": "markdown",
   "id": "fd7d51c9-0cd1-47d6-867d-e31840baa633",
   "metadata": {},
   "source": [
    "![sinusoidal pattern](./assets/sinusoidal_pattern.png)"
   ]
  },
  {
   "cell_type": "markdown",
   "id": "ee7dde16-b756-44c5-8170-9b9a9ae0115e",
   "metadata": {},
   "source": [
    "As proposed by the [Drake equation](https://en.wikipedia.org/wiki/Drake_equation), once planets are identified, we can investigate whether they could support life, have actually developed it, potentially an intelligent form, and potentially one that can release signals into space.\n",
    "\n",
    "The goal of this project is to identify stars that are orbited by exoplanets. This will be a\n",
    "classification project, and our goal will be to test different methods and algorithms to obtain the\n",
    "best accuracy possible for predicting whether a star is orbited by planets or not. This will be a\n",
    "classification problem.\n",
    "\n",
    "One of the main disadvantages of such a project is how heavily imbalanced the dataset is. Most stars are\n",
    "unfortunately not orbited by a planet, so most of our dataset will consist of non-exoplanet stars.\n",
    "We will need to research and implement methods to deal with this imbalance in order to\n",
    "minimize its impact on our model. Otherwise, the model could systematically predict that a star\n",
    "is not orbited by an exoplanet and still boast an incredibly high accuracy score - while remaining\n",
    "completely useless and failing to be of any help in future identification efforts."
   ]
  },
  {
   "cell_type": "markdown",
   "id": "282ec07b-8f78-4d18-812d-0a6f8b82be79",
   "metadata": {},
   "source": [
    "![imbalance](./assets/imbalance.png)"
   ]
  },
  {
   "cell_type": "markdown",
   "id": "36faf36e-2d81-45a5-a41e-5facbbd36ebf",
   "metadata": {},
   "source": [
    "We normalized the data, and then dealt with this imbalance using a technique called [SMOTE](https://www.jair.org/index.php/jair/article/view/10302) (more on this in the proposed methodology part), and also tried [ADASYNC](https://ieeexplore.ieee.org/document/4633969) without noticeable improvements.\n",
    "\n",
    "We then tested a few models individually to assess their performance and find parameters that worked best, and then opted for an ensemble method approach. Most models were unhelpful, and we ended up selecting a Random Forest and running a Grid Search to find the best parameters. We obtained very good results on the SMOTE testing set, but terrible results on the original testing set. We then tried to find a model that could at least reduce the amount of non-exoplanets star, to speed up the process of human review and to provide a less-imbalanced dataset for future training.\n",
    "\n",
    "In the end, we believe the training and testing sets we used are too small to train an efficient model, but we believe that we have a solid basis for a model that could work if fed more data from the Kepler mission. We also provide alternative ways to go about this search (image analysis, feature enrichment) detailed in the *Conclusions* section."
   ]
  },
  {
   "cell_type": "markdown",
   "id": "190c1023-9ab7-4b45-a4f1-1eed1b143157",
   "metadata": {},
   "source": [
    "## Data\n",
    "The dataset used was made available [here](https://www.kaggle.com/keplersmachines/kepler-labelled-time-series-data) by Winter Delta.\n",
    "\n",
    "The training set counts 5087 observations and 3198 columns. Each observation is a star. The first column is the label of the star: 1 if it's not orbitted by a planet, 2 if it is. We replaced 1 by 0 and 2 by 1. The rest of the columns consists of light intensity measurements at different times. The training set counts only 37 stars orbitted by an exoplanet.  \n",
    "\n",
    "The testing set counts 570 observations and 3198 columns as well. Just like for the training set, each observation is a star. The first column is the label of the star: 1 if it's not orbitted by a planet, 2 if it is. We replaced 1 by 0 and 2 by 1. The rest of the columns consists of light intensity measurements at different times. The training set counts only 5 stars orbitted by an exoplanet."
   ]
  },
  {
   "cell_type": "markdown",
   "id": "96f99903-c0cd-4a12-89f8-bb648fcdf702",
   "metadata": {},
   "source": [
    "## Proposed methodology"
   ]
  },
  {
   "cell_type": "markdown",
   "id": "545504a5-84b2-4892-8798-5b194b10f88b",
   "metadata": {},
   "source": [
    "We first normalized all of the luminosity values.\n",
    "\n",
    "The priority was then to deal with the imbalance in the dataset. With a baseline model predicting that none of the stars are orbitted by an exoplanet, we could achieve a 99.12% accuracy. But this model completely fails in our objective to actually identify exoplanets.\n",
    "\n",
    "We don't care about accuracy. We care about [recall](https://en.wikipedia.org/wiki/Precision_and_recall), i.e. how many relevant items are retrieved. If we care about recall, then our baseline model has a recall of 0, which sounds a lot less impressive.  \n",
    "\n",
    "$$recall = \\frac{True\\ Positives}{(True\\ Positives + False\\ Negatives)}$$\n",
    "\n",
    "However, we still need to pay attention to out negative classes. We would be OK identifying a few stars as orbitted by exoplanets when in reality they aren't, as these can be analyzed by expert astrophysicists further after the algorithm offered a first selection, but we wouldn't want to miss out on an exoplanet. That being said, we shouldn't be too lenient as we don't want to send half of the stars back for human analysis. So we also need to pay attention to [specificity](https://en.wikipedia.org/wiki/Sensitivity_and_specificity).  \n",
    "\n",
    "$$specificity = \\frac{True\\ Negatives}{(True\\ Negatives + False\\ Positives)}$$\n",
    "\n",
    "To address the imbalance, undersampling would be useless. We don't care about reducing the number of negative observations; we care about increasing the number of positive ones so that the algorithm can better learn the corresponding features (light intensity patterns). Oversampling by simply copying the existing positive observations would probably help, but we would be duplicating existing data.  \n",
    "\n",
    "We decided to implement the SMOTE (Synthetic Minority Oversampling Technique) approach. SMOTE consists in creating new instances of the minority class. Notice these new instances are not simple copies: the algorithm takes samples of the feature space for the target class and its nearest neighbors, and combines the features of the target class with the features of its neighbors to create new instances."
   ]
  },
  {
   "cell_type": "markdown",
   "id": "29413b8a-61a5-4ec3-90e0-10fb1e7473c8",
   "metadata": {},
   "source": [
    "![imbalance_solved](./assets/imbalance_solved.png)"
   ]
  },
  {
   "cell_type": "markdown",
   "id": "eddcda98-3ccb-400b-aad1-58ea16f16499",
   "metadata": {},
   "source": [
    "We split this dataset, keeping 67% of the data for training and 33% for testing. However, we actually don't care about testing on the SMOTE test set. What we're interested in is the original test set, which has a lot less observations corresponding to stars orbitted by an exoplanet. Training on the SMOTE train set however provided the advantage of feeding the model with a lot more examples of stars orbitted by exoplanets. \n",
    "\n",
    "**Note:** Moving forward, we will refer to the SMOTE datasets as the *SMOTE* training and testing sets, and to the training and testing sets introduced in the data section as the *original* training and testing sets).\n",
    "\n",
    "**Note:** We also implemented an oversampling technique called [ADASYN](https://ieeexplore.ieee.org/document/4633969), which is derived from SMOTE, to see if we would get better results trqining our model on such a dataset. We didn't witness any noticeable improvement.\n",
    "\n",
    "We then set a random seed equal to 42 to use in the models where appropriate, and tried different classifiers. Considering the state of the dataset, it was difficult to assess which classifier would work and which wouldn't. We ran different models to see which ones provided encouraging results. Most classifiers completely failed: standard Support Vector Machines, K-Nearest Neighbor, Quadratic Discriminant Analysis, Adaboost, or even neural net displayed a very low recall. Logistic Regression, Decision Tree and Random Forest provided encouraging results, with a recall ranging from 0.4 to 0.6. We decided to favor an ensemble model, as they tend to display better performance overall and also robustness. We trained a voting classifier, but this didn't improve results as the stars correctly identified were the same for all the models, so there was no combined effectiveness improvement effect. We decided to focus on the Random Forest model. Tweaking the hyperparameters with a grid search, we managed to obtain a recall of 1 on the SMOTE testing set, and of 0.8 on the original testing set (thus correctly identifying 4 stars orbitted by  an exoplanet, out of 5)."
   ]
  },
  {
   "cell_type": "markdown",
   "id": "ec4120c0-7254-4b72-a45a-c22fc6b9230c",
   "metadata": {},
   "source": [
    "## Analysis and results"
   ]
  },
  {
   "cell_type": "markdown",
   "id": "5dd89af2-c326-4c63-a4e8-a9937fe8087b",
   "metadata": {},
   "source": [
    "#### The good: results on the SMOTE test set"
   ]
  },
  {
   "cell_type": "markdown",
   "id": "4da6d15d-2e62-43ef-b365-149c339eb35a",
   "metadata": {},
   "source": [
    "Having detailed our general approach and failures above, in this section we will present results for the best model we obtained, but we won't present results for all the suboptimal models that we tried.\n",
    "\n",
    "The best results we got were obtained with an ensemble model, a Random Forest Classifier with:\n",
    "- a class weight balanced for the minority class\n",
    "- a gini criterion\n",
    "- a maximum depth of 20\n",
    "- a maximum number of features equal to the log2 of the number of features in the dataset\n",
    "- a minimum number of samples required to be at a leaf node set at 10\n",
    "- a number of trees in the forest set to 45\n",
    "\n",
    "Training this model on the SMOTE training data, and testing it on the SMOTE testing data, we obtained both very good recall and specificity:"
   ]
  },
  {
   "cell_type": "markdown",
   "id": "130f593f-a271-4f5b-a4c6-350066455ccb",
   "metadata": {},
   "source": [
    "![random_forest_smote_test](./assets/random_forest_smote_test.png)"
   ]
  },
  {
   "cell_type": "markdown",
   "id": "7469fad5-eefc-4e86-80d9-b96b67edb2ac",
   "metadata": {},
   "source": [
    "This looks really great:\n",
    "- the model correctly identifies almost all stars orbitted by an exoplanet correctly (recall score of 99.63%)\n",
    "- the model correctly identifies almost all stars not orbitted by an exoplanet correcly (specificity score of 99.88%)"
   ]
  },
  {
   "cell_type": "markdown",
   "id": "b2bf9e2b-5dc1-4a72-a0d3-4ae6d9f12bf6",
   "metadata": {},
   "source": [
    "#### The bad: results on the original test set"
   ]
  },
  {
   "cell_type": "markdown",
   "id": "cde6fcf6-3fb5-4358-a75d-6ad2d2df5264",
   "metadata": {},
   "source": [
    "This is where the whole performance unfortunately deteriorates. Testing the model above on the test set, we obtain terrible results.\n",
    "\n",
    "Basically, using the model above, that seemed to perform so well, on the training set, we get a recall of 0. We fail to identify any of the actual exoplanets. This was a surprise for us as we expected the model to have picked up a pattern, and to identify the exoplanets as all the positive examples in SMOTE were derive from the 5 original exoplanets."
   ]
  },
  {
   "cell_type": "markdown",
   "id": "afc876a1-9aeb-4099-823a-1c6b000f4b5a",
   "metadata": {},
   "source": [
    "#### The ugly: lowering our expectations"
   ]
  },
  {
   "cell_type": "markdown",
   "id": "0cda5cf8-8435-43e6-aa76-a4148cbb8829",
   "metadata": {},
   "source": [
    "We retrained the random forest model, optimizing for recall but allowing for a low specificity. The objective of such a manipulation, in light of our failure to generalize our model and to hand off a certain selection of all exoplanets (and just that), is to provide a model that can reduce the sample and eliminate stars that are certainly not orbitted by an exoplanet.\n",
    "\n",
    "We used the following model, a Random Forest Classifier with:\n",
    "- a class weight of 1 for the negative class (absence of exoplanet)\n",
    "- a class weight of 1 for the positive class (presence of exoplanet)\n",
    "- a gini criterion\n",
    "- a maximum depth of 50\n",
    "- a maximum number of features equal to the log2 of the number of features in the dataset\n",
    "- a minimum number of samples required to be at a leaf node set at 40\n",
    "- a number of trees in the forest set to 60\n",
    "\n",
    "Doing so, we don't miss out on any exoplanets (no False Negatives). We end up with 210 True Negatives, and 355 False Positives. This is far from our ideal result, but the good news is that we can rule out 36.8% of the observations (True Negatives). So we our model at least has the advantage, if not to identify exoplanets, at least to rule out a non-negligible amount of observations and to reduce the amount of data that should be analyzed. This reduced data can then be reviewed by human experts, which would still save time compared to the original dataset, or to provide a reduced dataset with decreased imbalance for training further models."
   ]
  },
  {
   "cell_type": "markdown",
   "id": "7c57aea6-f62d-4450-8a08-9b09955bfbdc",
   "metadata": {},
   "source": [
    "## Conclusion"
   ]
  },
  {
   "cell_type": "markdown",
   "id": "9d87153b-4dd7-4f3a-9ef5-f0ceea58ffe3",
   "metadata": {},
   "source": [
    "### Possible future work"
   ]
  },
  {
   "cell_type": "markdown",
   "id": "e8c6d387-86b6-461a-866f-f04fd055dae6",
   "metadata": {},
   "source": [
    "#### Adding more observations\n",
    "The dataset provided by Winter Delta counts 5,657 star observations in total, but the Kepler mission\n",
    "monitored over 100,000 stars over its course. The whole data for the Kepler mission is available\n",
    "on the [Mikulski Archive for Space Telescopes website](https://archive.stsci.edu/missions-and-data/kepler), so the integrality of the data could be used. More qualified data would most likely help improve the model. Doing so would require some additional data preprocessing effort on the light curves data to match the structure of the Winter Delta dataset, and to convert `.fits` data to the `.csv` format. We could rely on the [Kepler Data Processing Handbook](https://archive.stsci.edu/files/live/sites/mast/files/home/missions-and-data/kepler/_documents/KSCI-19081-002-KDPH.pdf) for this effort. The data might also be enriched with K2 campaign data, K2 being the mission that followed into\n",
    "the Kepler mission footsteps.\n",
    "\n",
    "#### Leveraging image data\n",
    "More data could also be be added on top of the simple light intensity observations to feed more features to our model (full frame images, target pixel files...). Image analysis and computer vision techniques could then be leveraged, but might prove computing intensive or costly.\n",
    "\n",
    "#### Adding more variables\n",
    "In this project, we rely on a unique variable: light intensity. More features could prove useful for identification, for example orbital period, transit epoch, eccentricity value, longitude of periastron, transition period, transit depth, object radius... All of this data can be gathered if we suspect the star is orbitted by an object. Such data is already gathered by NASA in the [Kepler Objects of Interest Table](https://exoplanetarchive.ipac.caltech.edu/docs/API_kepcandidate_columns.html).\n",
    "\n",
    "#### Improving model understanding of exoplanets\n",
    "There is an [open catalogue of identified exoplanets](http://openexoplanetcatalogue.com/) that is maintained and updated on a [GitHub repository](https://github.com/OpenExoplanetCatalogue/open_exoplanet_catalogue) by Hanno Rein, an astrophysics professor at the univeristy of Toronto. A model could be trained on such a dataset to better learn and memorize the characteristics of exoplanets, and improve identification results, especially if coupled with the addition of features as suggested above.\n",
    "\n",
    "#### Experimenting with neural networks\n",
    "We tried a simple neural network which didn't yield encouraging results, but it's possible that a well-tuned neural network could outperform our current model. It's worth a try."
   ]
  },
  {
   "cell_type": "markdown",
   "id": "f07d7f56-e772-4ff4-b1d1-3dc7066cfc10",
   "metadata": {},
   "source": [
    "### Lessons learned"
   ]
  },
  {
   "cell_type": "markdown",
   "id": "9f91ebd3-8912-4c86-8813-e851a7283811",
   "metadata": {},
   "source": [
    "This dataset being a time series, in retrospect it may not have been the best choice as a final project for this course, which among other things offered techniques about variable selection which could not be implemented in this project.\n",
    "\n",
    "It's also a heavily imbalanced dataset on an expert scientific topic, and although it's a fascinating topic to work on in our opinion, it might have been a little ambitious to believe we would be able to offer a really good solution to the problem of identifying exoplanets. A training set with 37 observations and a testing set with only 5 observations corresponding to our item of interest might simply be too low and insufficient for our initial objective."
   ]
  },
  {
   "cell_type": "markdown",
   "id": "0ab6c160-92b3-4892-b593-1aabd923973b",
   "metadata": {},
   "source": [
    "## Appendix"
   ]
  },
  {
   "cell_type": "markdown",
   "id": "daily-presence",
   "metadata": {},
   "source": [
    "### Setup"
   ]
  },
  {
   "cell_type": "code",
   "execution_count": 1,
   "id": "italic-publication",
   "metadata": {},
   "outputs": [],
   "source": [
    "import pandas as pd\n",
    "import matplotlib.pyplot as plt\n",
    "import seaborn as sns\n",
    "import numpy as np\n",
    "\n",
    "from sklearn.ensemble import AdaBoostClassifier, \\\n",
    "                             RandomForestClassifier, \\\n",
    "                             VotingClassifier\n",
    "\n",
    "from sklearn.discriminant_analysis import QuadraticDiscriminantAnalysis\n",
    "from sklearn.linear_model import LogisticRegression\n",
    "from sklearn.naive_bayes import CategoricalNB\n",
    "from sklearn.neighbors import KNeighborsClassifier\n",
    "from sklearn.neural_network import MLPClassifier\n",
    "from sklearn.svm import SVC\n",
    "from sklearn.tree import DecisionTreeClassifier\n",
    "\n",
    "from imblearn.over_sampling import SMOTE\n",
    "from sklearn.metrics import accuracy_score, \\\n",
    "                            classification_report, \\\n",
    "                            confusion_matrix, \\\n",
    "                            ConfusionMatrixDisplay, \\\n",
    "                            f1_score, \\\n",
    "                            make_scorer, \\\n",
    "                            recall_score, \\\n",
    "                            roc_curve, \\\n",
    "                            precision_score\n",
    "\n",
    "from sklearn.model_selection import cross_val_score, \\\n",
    "                                    train_test_split, \\\n",
    "                                    GridSearchCV\n",
    "\n",
    "\n",
    "teal = '#007791'\n",
    "pd.set_option('display.max_columns', 9)"
   ]
  },
  {
   "cell_type": "markdown",
   "id": "imperial-discipline",
   "metadata": {},
   "source": [
    "### Data"
   ]
  },
  {
   "cell_type": "code",
   "execution_count": 2,
   "id": "numerous-scheme",
   "metadata": {},
   "outputs": [],
   "source": [
    "train = pd.read_csv('data/exoTrain.csv')\n",
    "test = pd.read_csv('data/exoTest.csv')"
   ]
  },
  {
   "cell_type": "code",
   "execution_count": 3,
   "id": "blessed-james",
   "metadata": {},
   "outputs": [
    {
     "data": {
      "text/plain": [
       "5087"
      ]
     },
     "execution_count": 3,
     "metadata": {},
     "output_type": "execute_result"
    }
   ],
   "source": [
    "len(train)"
   ]
  },
  {
   "cell_type": "code",
   "execution_count": 4,
   "id": "configured-difference",
   "metadata": {},
   "outputs": [
    {
     "data": {
      "text/plain": [
       "570"
      ]
     },
     "execution_count": 4,
     "metadata": {},
     "output_type": "execute_result"
    }
   ],
   "source": [
    "len(test)"
   ]
  },
  {
   "cell_type": "code",
   "execution_count": 5,
   "id": "searching-electron",
   "metadata": {},
   "outputs": [],
   "source": [
    "mapping = {1: 0, 2: 1}\n",
    "train['LABEL'] = train['LABEL'].map(mapping)\n",
    "test['LABEL'] = test['LABEL'].map(mapping)"
   ]
  },
  {
   "cell_type": "code",
   "execution_count": 6,
   "id": "tough-flooring",
   "metadata": {},
   "outputs": [],
   "source": [
    "train_x, train_y = train.drop('LABEL', axis=1), train.LABEL\n",
    "test_x, test_y = test.drop('LABEL', axis=1), test.LABEL"
   ]
  },
  {
   "cell_type": "code",
   "execution_count": 7,
   "id": "about-proceeding",
   "metadata": {},
   "outputs": [],
   "source": [
    "#train.head()"
   ]
  },
  {
   "cell_type": "code",
   "execution_count": 8,
   "id": "horizontal-religious",
   "metadata": {},
   "outputs": [],
   "source": [
    "#train.describe()"
   ]
  },
  {
   "cell_type": "code",
   "execution_count": 9,
   "id": "occupied-status",
   "metadata": {},
   "outputs": [
    {
     "data": {
      "text/plain": [
       "0    5050\n",
       "1      37\n",
       "Name: LABEL, dtype: int64"
      ]
     },
     "execution_count": 9,
     "metadata": {},
     "output_type": "execute_result"
    }
   ],
   "source": [
    "train['LABEL'].value_counts()"
   ]
  },
  {
   "cell_type": "code",
   "execution_count": 10,
   "id": "incident-child",
   "metadata": {},
   "outputs": [
    {
     "data": {
      "text/plain": [
       "0"
      ]
     },
     "execution_count": 10,
     "metadata": {},
     "output_type": "execute_result"
    }
   ],
   "source": [
    "train.isnull().sum().sum()"
   ]
  },
  {
   "cell_type": "code",
   "execution_count": 11,
   "id": "tight-escape",
   "metadata": {},
   "outputs": [],
   "source": [
    "#test.head()"
   ]
  },
  {
   "cell_type": "code",
   "execution_count": 12,
   "id": "uniform-michigan",
   "metadata": {},
   "outputs": [],
   "source": [
    "#test.describe()"
   ]
  },
  {
   "cell_type": "code",
   "execution_count": 13,
   "id": "impressive-release",
   "metadata": {},
   "outputs": [
    {
     "data": {
      "text/plain": [
       "0    565\n",
       "1      5\n",
       "Name: LABEL, dtype: int64"
      ]
     },
     "execution_count": 13,
     "metadata": {},
     "output_type": "execute_result"
    }
   ],
   "source": [
    "test['LABEL'].value_counts()"
   ]
  },
  {
   "cell_type": "code",
   "execution_count": 14,
   "id": "capital-pasta",
   "metadata": {},
   "outputs": [
    {
     "data": {
      "text/plain": [
       "0"
      ]
     },
     "execution_count": 14,
     "metadata": {},
     "output_type": "execute_result"
    }
   ],
   "source": [
    "test.isnull().sum().sum()"
   ]
  },
  {
   "cell_type": "code",
   "execution_count": 15,
   "id": "frozen-enclosure",
   "metadata": {},
   "outputs": [
    {
     "data": {
      "text/plain": [
       "5050"
      ]
     },
     "execution_count": 15,
     "metadata": {},
     "output_type": "execute_result"
    }
   ],
   "source": [
    "train_none = train[train['LABEL'] == 0].drop('LABEL', axis=1)\n",
    "len(train_none)"
   ]
  },
  {
   "cell_type": "markdown",
   "id": "fancy-absorption",
   "metadata": {},
   "source": [
    "### Baseline model"
   ]
  },
  {
   "cell_type": "code",
   "execution_count": 16,
   "id": "unlikely-robert",
   "metadata": {},
   "outputs": [
    {
     "data": {
      "text/plain": [
       "0.9912280701754386"
      ]
     },
     "execution_count": 16,
     "metadata": {},
     "output_type": "execute_result"
    }
   ],
   "source": [
    "baseline = pd.DataFrame(0, index=np.arange(len(test)), columns=['LABEL'])\n",
    "comparison = baseline.LABEL == test.LABEL\n",
    "comparison.sum() / len(comparison)"
   ]
  },
  {
   "cell_type": "markdown",
   "id": "d029871b-6623-497c-b07b-23cfc7177641",
   "metadata": {},
   "source": [
    "### Normalize and standardize"
   ]
  },
  {
   "cell_type": "code",
   "execution_count": 17,
   "id": "c1153f31-4460-4f80-b211-181f8e982b24",
   "metadata": {},
   "outputs": [],
   "source": [
    "train_label = train[['LABEL']]\n",
    "\n",
    "min = train.drop(['LABEL'], axis=1).min().min()\n",
    "max = train.drop(['LABEL'], axis=1).max().max()\n",
    "norm_train = (train.drop(['LABEL'], axis=1) - min) / (max - min)\n",
    "norm_train = pd.concat([train_label, norm_train], axis=1)\n",
    "#norm_train.head()"
   ]
  },
  {
   "cell_type": "code",
   "execution_count": 18,
   "id": "c0754fd3-e466-4944-8344-50246e3964b1",
   "metadata": {},
   "outputs": [],
   "source": [
    "test_label = test[['LABEL']]\n",
    "\n",
    "min = test.drop(['LABEL'], axis=1).min().min()\n",
    "max = test.drop(['LABEL'], axis=1).max().max()\n",
    "norm_test = (test.drop(['LABEL'], axis=1) - min) / (max - min)\n",
    "norm_test = pd.concat([test_label, norm_test], axis=1)\n",
    "#norm_test.head()"
   ]
  },
  {
   "cell_type": "code",
   "execution_count": 19,
   "id": "bfb4d803-f9c1-4864-a731-845d82358996",
   "metadata": {},
   "outputs": [],
   "source": [
    "norm_train_x, norm_train_y = norm_train.drop('LABEL', axis=1), norm_train.LABEL\n",
    "norm_test_x, norm_test_y = norm_test.drop('LABEL', axis=1), norm_test.LABEL"
   ]
  },
  {
   "cell_type": "markdown",
   "id": "dirty-trade",
   "metadata": {},
   "source": [
    "### Class imbalance"
   ]
  },
  {
   "cell_type": "code",
   "execution_count": 20,
   "id": "sublime-pound",
   "metadata": {},
   "outputs": [
    {
     "data": {
      "text/plain": [
       "<matplotlib.legend.Legend at 0x11b4262e0>"
      ]
     },
     "execution_count": 20,
     "metadata": {},
     "output_type": "execute_result"
    },
    {
     "data": {
      "image/png": "[encoded data removed]",
      "text/plain": [
       "<Figure size 432x288 with 1 Axes>"
      ]
     },
     "metadata": {
      "needs_background": "light"
     },
     "output_type": "display_data"
    }
   ],
   "source": [
    "norm_train['LABEL'].value_counts() \\\n",
    "              .reset_index()  \\\n",
    "              .plot(kind='bar', x='index', y='LABEL', rot=0, color=teal, width=0.8, title='Dataset imbalance') \\\n",
    "              .legend(loc='upper right')\n",
    "#plt.savefig(fname='004', format='png', dpi=400)\n",
    "#plt.show()"
   ]
  },
  {
   "cell_type": "markdown",
   "id": "saved-sunrise",
   "metadata": {},
   "source": [
    "### SMOTE"
   ]
  },
  {
   "cell_type": "code",
   "execution_count": 21,
   "id": "sorted-banner",
   "metadata": {},
   "outputs": [],
   "source": [
    "model = SMOTE()\n",
    "smote_x, smote_y = model.fit_resample(norm_train_x, norm_train_y)\n",
    "smote_y = smote_y.astype('int')"
   ]
  },
  {
   "cell_type": "code",
   "execution_count": 22,
   "id": "chief-interaction",
   "metadata": {},
   "outputs": [
    {
     "data": {
      "text/plain": [
       "0    5050\n",
       "1    5050\n",
       "Name: LABEL, dtype: int64"
      ]
     },
     "execution_count": 22,
     "metadata": {},
     "output_type": "execute_result"
    }
   ],
   "source": [
    "smote_y.value_counts().sort_index()"
   ]
  },
  {
   "cell_type": "code",
   "execution_count": 23,
   "id": "fatal-incident",
   "metadata": {},
   "outputs": [
    {
     "data": {
      "text/plain": [
       "<matplotlib.legend.Legend at 0x11ad37400>"
      ]
     },
     "execution_count": 23,
     "metadata": {},
     "output_type": "execute_result"
    },
    {
     "data": {
      "image/png": "[encoded data removed]",
      "text/plain": [
       "<Figure size 432x288 with 1 Axes>"
      ]
     },
     "metadata": {
      "needs_background": "light"
     },
     "output_type": "display_data"
    }
   ],
   "source": [
    "smote_y.value_counts() \\\n",
    "       .sort_index()   \\\n",
    "       .plot(kind='bar', x='index', y='LABEL', rot=0, color=teal, width=0.8,\n",
    "             title='Dataset imbalance solved') \\\n",
    "       .legend(loc='upper right')\n",
    "\n",
    "#plt.savefig(fname='005', format='png', dpi=400)\n",
    "#plt.show()"
   ]
  },
  {
   "cell_type": "code",
   "execution_count": 24,
   "id": "71cd885b-36f6-4c3a-9fa5-3677984bb560",
   "metadata": {},
   "outputs": [],
   "source": [
    "smote_train_x, smote_test_x, smote_train_y, smote_test_y = train_test_split(smote_x, smote_y,\n",
    "                                                                            test_size=0.33,\n",
    "                                                                            random_state=42)"
   ]
  },
  {
   "cell_type": "markdown",
   "id": "58d61826-a6c1-4bcd-8f8e-73b408f82af7",
   "metadata": {},
   "source": [
    "### ADASYN"
   ]
  },
  {
   "cell_type": "code",
   "execution_count": 25,
   "id": "004e1c3c-e6f3-49ff-8c26-aa415fbea54e",
   "metadata": {},
   "outputs": [],
   "source": [
    "from imblearn.over_sampling import ADASYN \n",
    "\n",
    "ada = ADASYN(random_state=42)\n",
    "ada_x, ada_y = ada.fit_resample(norm_train_x, norm_train_y)\n",
    "\n",
    "ada_train_x, ada_test_x, ada_train_y, ada_test_y = train_test_split(ada_x, ada_y,\n",
    "                                                                    test_size=0.33,\n",
    "                                                                    random_state=42)"
   ]
  },
  {
   "cell_type": "markdown",
   "id": "christian-sending",
   "metadata": {},
   "source": [
    "### Modeling"
   ]
  },
  {
   "cell_type": "markdown",
   "id": "6eb02bea-be22-4cda-94a9-1064bab69364",
   "metadata": {},
   "source": [
    "#### Ensemble method on SMOTE"
   ]
  },
  {
   "cell_type": "code",
   "execution_count": 26,
   "id": "82038169-2364-488c-9ae7-6f63b88d3825",
   "metadata": {},
   "outputs": [
    {
     "name": "stdout",
     "output_type": "stream",
     "text": [
      "Ensemble accuracy (testing data) 0.40350877192982454\n",
      "Ensemble with SMOTE F-score (testing data) 0.022988505747126436\n",
      "Ensemble with SMOTE recall (testing data) 0.8\n",
      "              precision    recall  f1-score   support\n",
      "\n",
      "           0       1.00      0.40      0.57       565\n",
      "           1       0.01      0.80      0.02         5\n",
      "\n",
      "    accuracy                           0.40       570\n",
      "   macro avg       0.50      0.60      0.30       570\n",
      "weighted avg       0.99      0.40      0.57       570\n",
      "\n",
      "[[226 339]\n",
      " [  1   4]]\n"
     ]
    }
   ],
   "source": [
    "# Set seed\n",
    "seed = 42\n",
    "\n",
    "# Define function to get model results\n",
    "def get_model_results(X_train, y_train, X_test, y_test, model):\n",
    "    model.fit(X_train, y_train)\n",
    "    prediction = model.predict(X_test)\n",
    "    print('Ensemble accuracy (testing data)', accuracy_score(y_test, prediction))\n",
    "    print('Ensemble with SMOTE F-score (testing data)', f1_score(y_test, prediction))\n",
    "    print('Ensemble with SMOTE recall (testing data)', recall_score(y_test, prediction))\n",
    "    print(classification_report(y_test, prediction))\n",
    "    print(confusion_matrix(y_test, prediction))\n",
    "    \n",
    "\n",
    "# Define the classifiers to use in the ensemble\n",
    "clf1 = LogisticRegression(class_weight={0:1, 1:15}, random_state=seed)\n",
    "clf2 = MLPClassifier(max_iter=300)\n",
    "#clf2 = DecisionTreeClassifier(max_depth=5, class_weight={0: 1, 1: 12}, random_state=seed)\n",
    "clf3 = RandomForestClassifier(class_weight={0: 1, 1: 12}, criterion='gini', max_depth=13, max_features='log2',\n",
    "                              min_samples_leaf=104, n_estimators=150, n_jobs=-1, random_state=seed)\n",
    "clf4 = KNeighborsClassifier(n_neighbors=1, weights='distance')\n",
    "#clf5 = SVC(C=0.1, kernel='poly', random_state=seed)\n",
    "clf7 = QuadraticDiscriminantAnalysis()\n",
    "clf8 = AdaBoostClassifier(n_estimators=100, random_state=seed)\n",
    "\n",
    "# Combine the classifiers in the ensemble model\n",
    "ensemble_model = VotingClassifier(estimators=[#('lr', clf1),\n",
    "#                                              ('nn', clf2)],\n",
    "                                              ('rf', clf3)],\n",
    "#                                              ('knc', clf4)],\n",
    "#                                              ('svc', clf5),\n",
    "#                                              ('qda', clf7)],\n",
    "#                                              ('adb', clf8)],\n",
    "                                              voting='hard')\n",
    "\n",
    "# Get the results \n",
    "get_model_results(smote_train_x, smote_train_y, test_x, test_y, ensemble_model)"
   ]
  },
  {
   "cell_type": "code",
   "execution_count": 27,
   "id": "25c016d3-eef9-4237-a6aa-9674041af870",
   "metadata": {},
   "outputs": [],
   "source": [
    "rf = RandomForestClassifier(class_weight={0:1, 1:1}, criterion='gini', max_depth=50, max_features='log2',\n",
    "                            min_samples_leaf=40, n_estimators=60, n_jobs=-1, random_state=seed)\n",
    "\n",
    "rf.fit(smote_train_x, smote_train_y)\n",
    "prediction = rf.predict(smote_test_x)\n",
    "    \n",
    "#ConfusionMatrixDisplay.from_predictions(smote_test_y, prediction, cmap='winter')\n",
    "#plt.title('Confusion Matrix - Random Forest with SMOTE (SMOTE testing data)')\n",
    "#plt.savefig(fname='011.png', format='png', dpi=400)\n",
    "#plt.show()"
   ]
  },
  {
   "cell_type": "code",
   "execution_count": 28,
   "id": "ae40d15c-00b1-4d89-8f39-bf238f3573ee",
   "metadata": {},
   "outputs": [],
   "source": [
    "rf = RandomForestClassifier()\n",
    "\n",
    "param_grid = { \n",
    "    'class_weight': ['balanced'],\n",
    "    'n_estimators': [15,30,45,60],\n",
    "    'max_features': ['log2'],\n",
    "    'max_depth' : [10,20,30,40],\n",
    "    'min_samples_leaf': [10,20,30,40],\n",
    "    'criterion': ['gini', 'entropy'],\n",
    "    'n_jobs': [-1]\n",
    "}\n",
    "\n",
    "scorers = {'Recall': make_scorer(recall_score)}#, 'Specificity': make_scorer(recall_score, pos_label=0)}\n",
    "\n",
    "grid_rf = GridSearchCV(rf, param_grid=param_grid, scoring=scorers, cv=5, verbose=1, refit='Recall')"
   ]
  },
  {
   "cell_type": "code",
   "execution_count": 29,
   "id": "e24cf66f-9286-4340-b2f0-97f8346756b6",
   "metadata": {},
   "outputs": [
    {
     "name": "stdout",
     "output_type": "stream",
     "text": [
      "Fitting 5 folds for each of 128 candidates, totalling 640 fits\n",
      "{'class_weight': 'balanced', 'criterion': 'gini', 'max_depth': 30, 'max_features': 'log2', 'min_samples_leaf': 10, 'n_estimators': 60, 'n_jobs': -1}\n"
     ]
    }
   ],
   "source": [
    "grid_rf.fit(smote_train_x, smote_train_y)\n",
    "print(grid_rf.best_params_)\n",
    "prediction = grid_rf.predict(smote_test_x)\n",
    "    \n",
    "#ConfusionMatrixDisplay.from_predictions(smote_test_y, prediction, cmap='winter')\n",
    "#plt.title('Confusion Matrix - Random Forest with SMOTE (testing data)')\n",
    "#plt.savefig(fname='011.png', format='png', dpi=400)\n",
    "#plt.show()"
   ]
  },
  {
   "cell_type": "code",
   "execution_count": 30,
   "id": "0cb370a7-cbd4-4607-8e2b-febbf8a034a3",
   "metadata": {},
   "outputs": [],
   "source": [
    "prediction = grid_rf.predict(norm_test_x)\n",
    "\n",
    "#ConfusionMatrixDisplay.from_predictions(norm_test_y, prediction, cmap='winter')\n",
    "#plt.title('Confusion Matrix - Random Forest with SMOTE (original testing data)')\n",
    "#plt.savefig(fname='011.png', format='png', dpi=400)\n",
    "#plt.show()"
   ]
  },
  {
   "cell_type": "markdown",
   "id": "4f8ba6f1-dcdb-4fd3-b3ee-e8f34c4b821d",
   "metadata": {},
   "source": [
    "### Ensemble method on ADASYN"
   ]
  },
  {
   "cell_type": "code",
   "execution_count": 31,
   "id": "3dee932b-2ce1-45fc-b8a8-bec1fbc08d4e",
   "metadata": {},
   "outputs": [
    {
     "name": "stdout",
     "output_type": "stream",
     "text": [
      "Fitting 5 folds for each of 128 candidates, totalling 640 fits\n",
      "{'class_weight': 'balanced', 'criterion': 'gini', 'max_depth': 20, 'max_features': 'log2', 'min_samples_leaf': 10, 'n_estimators': 45, 'n_jobs': -1}\n"
     ]
    }
   ],
   "source": [
    "rf = RandomForestClassifier()\n",
    "\n",
    "param_grid = { \n",
    "    'class_weight': ['balanced'],\n",
    "    'n_estimators': [15,30,45,60],\n",
    "    'max_features': ['log2'],\n",
    "    'max_depth' : [10,20,30,40],\n",
    "    'min_samples_leaf': [10,20,30,40],\n",
    "    'criterion': ['gini', 'entropy'],\n",
    "    'n_jobs': [-1]\n",
    "}\n",
    "\n",
    "scorers = {'Recall': make_scorer(recall_score), 'Specificity': make_scorer(recall_score, pos_label=0)}\n",
    "\n",
    "grid_rf = GridSearchCV(rf, param_grid=param_grid, scoring=scorers, cv=5, verbose=1, refit='Recall')\n",
    "\n",
    "grid_rf.fit(ada_train_x, ada_train_y)\n",
    "\n",
    "print(grid_rf.best_params_)\n",
    "\n",
    "prediction = grid_rf.predict(ada_test_x)\n",
    "\n",
    "#ConfusionMatrixDisplay.from_predictions(ada_test_y, prediction, cmap='winter')\n",
    "#plt.title('Confusion Matrix - Random Forest with SMOTE (SMOTE testing data)')\n",
    "#plt.savefig(fname='011.png', format='png', dpi=400)\n",
    "#plt.show()"
   ]
  },
  {
   "cell_type": "code",
   "execution_count": 32,
   "id": "4899d5f5-5b24-40c2-b922-09441f7b3ef5",
   "metadata": {},
   "outputs": [],
   "source": [
    "prediction = grid_rf.predict(norm_test_x)\n",
    "    \n",
    "#ConfusionMatrixDisplay.from_predictions(norm_test_y, prediction, cmap='winter')\n",
    "#plt.title('Confusion Matrix - Random Forest with SMOTE (original testing data)')\n",
    "#plt.savefig(fname='011.png', format='png', dpi=400)\n",
    "#plt.show()"
   ]
  },
  {
   "cell_type": "markdown",
   "id": "9233246d-cc38-4da8-91f1-112d580dc261",
   "metadata": {},
   "source": [
    "## Bibliography"
   ]
  },
  {
   "cell_type": "markdown",
   "id": "64d164b7-69d1-40e5-80aa-283fae787eac",
   "metadata": {},
   "source": [
    "- “Drake Equation.” Wikipedia. Wikimedia Foundation, November 25, 2021. https://en.wikipedia.org/wiki/Drake_equation. \n",
    "- Chawla, N. V., K. W. Bowyer, L. O. Hall, and W. P. Kegelmeyer. “Smote: Synthetic Minority over-Sampling Technique.” Journal of Artificial Intelligence Research 16 (2002): 321–57. https://doi.org/10.1613/jair.953.\n",
    "- Xiaoharper. “ML Studio (Classic): Smote - Azure.” ML Studio (classic): SMOTE - Azure | Microsoft Docs. Accessed December 2, 2021. https://docs.microsoft.com/en-us/azure/machine-learning/studio-module-reference/smote.\n",
    "- Haibo He, Yang Bai, Edwardo A. Garcia, and Shutao Li. “Adasyn: Adaptive Synthetic Sampling Approach for Imbalanced Learning.” 2008 IEEE International Joint Conference on Neural Networks (IEEE World Congress on Computational Intelligence), 2008. https://doi.org/10.1109/ijcnn.2008.4633969. \n",
    "- “Kepler.” MAST. Accessed December 2, 2021. https://archive.stsci.edu/missions-and-data/kepler.\n",
    "- Jenkins, J. M., (ed.) 2017. Kepler Data Processing Handbook: KSCI-19081-002\n",
    "- “Data Columns in Kepler Objects of Interest Table.” Data columns in Kepler Objects of Interest Table. Accessed December 2, 2021. https://exoplanetarchive.ipac.caltech.edu/docs/API_kepcandidate_columns.html. \n",
    "- “Open Exoplanet Catalogue.” Open Exoplanet Catalogue. Accessed December 2, 2021. http://openexoplanetcatalogue.com/. \n",
    "- OpenExoplanetCatalogue. “OpenExoplanetCatalogue/open_exoplanet_catalogue: The Main Data Repository for the Open Exoplanet Catalogue.” GitHub. Accessed December 2, 2021. https://github.com/OpenExoplanetCatalogue/open_exoplanet_catalogue. \n",
    "- “Precision and Recall.” Wikipedia. Wikimedia Foundation, October 18, 2021. https://en.wikipedia.org/wiki/Precision_and_recall. \n",
    "- “Sensitivity and Specificity.” Wikipedia. Wikimedia Foundation, November 23, 2021. https://en.wikipedia.org/wiki/Sensitivity_and_specificity. "
   ]
  }
 ],
 "metadata": {
  "kernelspec": {
   "display_name": "Python 3",
   "language": "python",
   "name": "python3"
  },
  "language_info": {
   "codemirror_mode": {
    "name": "ipython",
    "version": 3
   },
   "file_extension": ".py",
   "mimetype": "text/x-python",
   "name": "python",
   "nbconvert_exporter": "python",
   "pygments_lexer": "ipython3",
   "version": "3.9.6"
  }
 },
 "nbformat": 4,
 "nbformat_minor": 5
}
