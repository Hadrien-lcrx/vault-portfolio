{
 "cells": [
  {
   "cell_type": "markdown",
   "metadata": {},
   "source": [
    "# Enron POI Identification"
   ]
  },
  {
   "cell_type": "markdown",
   "metadata": {},
   "source": [
    "## Introduction"
   ]
  },
  {
   "cell_type": "markdown",
   "metadata": {},
   "source": [
    "Enron, one of the largest US companies, collapsed into bankruptcy in 2002 due to widespread corporate fraud. As a result of the federal investigation, confidential information was made public, including emails and financial data for executives.  \n",
    "\n",
    "We will build a POI (Person of Interest) identifier to extract individuals involved in the fraud from the data. We will use machine learning and `sklearn` to do so."
   ]
  },
  {
   "cell_type": "markdown",
   "metadata": {},
   "source": [
    "## Resources"
   ]
  },
  {
   "cell_type": "markdown",
   "metadata": {},
   "source": [
    "We will have a few resources to ease the process:\n",
    "- `final_project_dataset.pkl` is the dataset we're going to investigate\n",
    "- **Starter code and helper functions are provided**: it reads in the data, takes our features of choice, then puts them into a numpy array (the format sklearn functions assume). We just have to engineer the features, pick and tune an algorithm, and to test and evaluate our identifier. For example:\n",
    "    - `featureFormat()` to convert the dictionary into a numpy array of features: this is the only way we can make it work with Scickit Learn.\n",
    "    - `targetFeatureSplit()`, to separate the feature (returned by `featureFormat()`) we want to predict from the others.\n",
    "- **Data is preprocessed**: Enron email and financial data are combined into a dictionary, where each key-value pair in the dictionary corresponds to one person. The dictionary key is the person's name, and the value is another dictionary, which contains the names of all the features and their values for that person. The features in the data fall into three major types, namely financial features, email features and POI labels.\n",
    "    - **financial features**: `['salary', 'deferral_payments', 'total_payments', 'loan_advances', 'bonus', 'restricted_stock_deferred', 'deferred_income', 'total_stock_value', 'expenses', 'exercised_stock_options', 'other', 'long_term_incentive', 'restricted_stock', 'director_fees']` (all units are in US dollars)\n",
    "\n",
    "    - **email features**: `['to_messages', 'email_address', 'from_poi_to_this_person', 'from_messages', 'from_this_person_to_poi', 'shared_receipt_with_poi']` (units are generally number of emails messages; notable exception is ‘email_address’, which is a text string)\n",
    "\n",
    "    - **POI label**: `[‘poi’]` (boolean, represented as integer)"
   ]
  },
  {
   "cell_type": "markdown",
   "metadata": {},
   "source": [
    "## Method\n",
    "\n",
    "Machine learning will prove extremely useful in investigating the Enron case. We're dealing with a large dataset with a lot of different features. Our goal is simple: identifying POIs. This means that we're going to end up classifying the individuals in the dataset, between POIs and non-POIs. Machine learning will help us discover hidden patterns in the data and extract valuable information, inferring classes from observations.\n",
    "\n",
    "- We will first **read in** the data.\n",
    "- We will **visualize** it, plotting salary on the x axis and the other features on the y axis.\n",
    "- We will then **detect outliers**.\n",
    "- We will **create** new, better **features**.\n",
    "- Then, we will select the features we will use for classification. We'll just throw in all the features, **use cross validation** to determine the features that will best generalize and use them in the classifier. \n",
    "- We will then **try different classifiers**, tune them and try to achieve the **best prediction and recall rates** without overfitting.\n",
    "- Finally, we will make the classifier, the dataset and the list of features available to anyone who wants to use them."
   ]
  },
  {
   "cell_type": "markdown",
   "metadata": {},
   "source": [
    "## Reading in the data"
   ]
  },
  {
   "cell_type": "code",
   "execution_count": 1,
   "metadata": {},
   "outputs": [
    {
     "name": "stderr",
     "output_type": "stream",
     "text": [
      "/Users/hadrien/anaconda3/lib/python3.6/site-packages/sklearn/cross_validation.py:44: DeprecationWarning: This module was deprecated in version 0.18 in favor of the model_selection module into which all the refactored classes and functions are moved. Also note that the interface of the new CV iterators are different from that of this module. This module will be removed in 0.20.\n",
      "  \"This module will be removed in 0.20.\", DeprecationWarning)\n"
     ]
    }
   ],
   "source": [
    "import sys\n",
    "import pickle\n",
    "sys.path.append(\"../tools/\")\n",
    "\n",
    "from feature_format import featureFormat, targetFeatureSplit\n",
    "from tester import dump_classifier_and_data\n",
    "\n",
    "import warnings\n",
    "warnings.filterwarnings('ignore')\n",
    "\n",
    "### Task 1: Select what features we'll use (The first feature must be \"poi\")\n",
    "features_list = ['poi','salary', 'deferral_payments', 'total_payments', 'loan_advances', 'bonus',\n",
    "                 'restricted_stock_deferred', 'deferred_income', 'total_stock_value', 'expenses',\n",
    "                 'exercised_stock_options', 'other', 'long_term_incentive', 'restricted_stock', 'director_fees']\n",
    "\n",
    "### Loading the dictionary containing the dataset\n",
    "data_dict = pickle.load(open(\"final_project_dataset.pkl\", \"rb\"))\n",
    "my_dataset = data_dict"
   ]
  },
  {
   "cell_type": "markdown",
   "metadata": {},
   "source": [
    "## Getting to know the data"
   ]
  },
  {
   "cell_type": "markdown",
   "metadata": {},
   "source": [
    "We're going to use a pandas dataframe to extract basic information from our dataset, indexing it on the keys of the dictionary (the names of the individuals)."
   ]
  },
  {
   "cell_type": "code",
   "execution_count": 2,
   "metadata": {},
   "outputs": [
    {
     "data": {
      "text/html": [
       "<div>\n",
       "<style>\n",
       "    .dataframe thead tr:only-child th {\n",
       "        text-align: right;\n",
       "    }\n",
       "\n",
       "    .dataframe thead th {\n",
       "        text-align: left;\n",
       "    }\n",
       "\n",
       "    .dataframe tbody tr th {\n",
       "        vertical-align: top;\n",
       "    }\n",
       "</style>\n",
       "<table border=\"1\" class=\"dataframe\">\n",
       "  <thead>\n",
       "    <tr style=\"text-align: right;\">\n",
       "      <th></th>\n",
       "      <th>salary</th>\n",
       "      <th>to_messages</th>\n",
       "      <th>deferral_payments</th>\n",
       "      <th>total_payments</th>\n",
       "      <th>loan_advances</th>\n",
       "      <th>bonus</th>\n",
       "      <th>email_address</th>\n",
       "      <th>restricted_stock_deferred</th>\n",
       "      <th>deferred_income</th>\n",
       "      <th>total_stock_value</th>\n",
       "      <th>...</th>\n",
       "      <th>from_poi_to_this_person</th>\n",
       "      <th>exercised_stock_options</th>\n",
       "      <th>from_messages</th>\n",
       "      <th>other</th>\n",
       "      <th>from_this_person_to_poi</th>\n",
       "      <th>poi</th>\n",
       "      <th>long_term_incentive</th>\n",
       "      <th>shared_receipt_with_poi</th>\n",
       "      <th>restricted_stock</th>\n",
       "      <th>director_fees</th>\n",
       "    </tr>\n",
       "  </thead>\n",
       "  <tbody>\n",
       "    <tr>\n",
       "      <th>ALLEN PHILLIP K</th>\n",
       "      <td>201955</td>\n",
       "      <td>2902</td>\n",
       "      <td>2869717</td>\n",
       "      <td>4484442</td>\n",
       "      <td>NaN</td>\n",
       "      <td>4175000</td>\n",
       "      <td>phillip.allen@enron.com</td>\n",
       "      <td>-126027</td>\n",
       "      <td>-3081055</td>\n",
       "      <td>1729541</td>\n",
       "      <td>...</td>\n",
       "      <td>47</td>\n",
       "      <td>1729541</td>\n",
       "      <td>2195</td>\n",
       "      <td>152</td>\n",
       "      <td>65</td>\n",
       "      <td>False</td>\n",
       "      <td>304805</td>\n",
       "      <td>1407</td>\n",
       "      <td>126027</td>\n",
       "      <td>NaN</td>\n",
       "    </tr>\n",
       "    <tr>\n",
       "      <th>BADUM JAMES P</th>\n",
       "      <td>NaN</td>\n",
       "      <td>NaN</td>\n",
       "      <td>178980</td>\n",
       "      <td>182466</td>\n",
       "      <td>NaN</td>\n",
       "      <td>NaN</td>\n",
       "      <td>NaN</td>\n",
       "      <td>NaN</td>\n",
       "      <td>NaN</td>\n",
       "      <td>257817</td>\n",
       "      <td>...</td>\n",
       "      <td>NaN</td>\n",
       "      <td>257817</td>\n",
       "      <td>NaN</td>\n",
       "      <td>NaN</td>\n",
       "      <td>NaN</td>\n",
       "      <td>False</td>\n",
       "      <td>NaN</td>\n",
       "      <td>NaN</td>\n",
       "      <td>NaN</td>\n",
       "      <td>NaN</td>\n",
       "    </tr>\n",
       "    <tr>\n",
       "      <th>BANNANTINE JAMES M</th>\n",
       "      <td>477</td>\n",
       "      <td>566</td>\n",
       "      <td>NaN</td>\n",
       "      <td>916197</td>\n",
       "      <td>NaN</td>\n",
       "      <td>NaN</td>\n",
       "      <td>james.bannantine@enron.com</td>\n",
       "      <td>-560222</td>\n",
       "      <td>-5104</td>\n",
       "      <td>5243487</td>\n",
       "      <td>...</td>\n",
       "      <td>39</td>\n",
       "      <td>4046157</td>\n",
       "      <td>29</td>\n",
       "      <td>864523</td>\n",
       "      <td>0</td>\n",
       "      <td>False</td>\n",
       "      <td>NaN</td>\n",
       "      <td>465</td>\n",
       "      <td>1757552</td>\n",
       "      <td>NaN</td>\n",
       "    </tr>\n",
       "    <tr>\n",
       "      <th>BAXTER JOHN C</th>\n",
       "      <td>267102</td>\n",
       "      <td>NaN</td>\n",
       "      <td>1295738</td>\n",
       "      <td>5634343</td>\n",
       "      <td>NaN</td>\n",
       "      <td>1200000</td>\n",
       "      <td>NaN</td>\n",
       "      <td>NaN</td>\n",
       "      <td>-1386055</td>\n",
       "      <td>10623258</td>\n",
       "      <td>...</td>\n",
       "      <td>NaN</td>\n",
       "      <td>6680544</td>\n",
       "      <td>NaN</td>\n",
       "      <td>2660303</td>\n",
       "      <td>NaN</td>\n",
       "      <td>False</td>\n",
       "      <td>1586055</td>\n",
       "      <td>NaN</td>\n",
       "      <td>3942714</td>\n",
       "      <td>NaN</td>\n",
       "    </tr>\n",
       "    <tr>\n",
       "      <th>BAY FRANKLIN R</th>\n",
       "      <td>239671</td>\n",
       "      <td>NaN</td>\n",
       "      <td>260455</td>\n",
       "      <td>827696</td>\n",
       "      <td>NaN</td>\n",
       "      <td>400000</td>\n",
       "      <td>frank.bay@enron.com</td>\n",
       "      <td>-82782</td>\n",
       "      <td>-201641</td>\n",
       "      <td>63014</td>\n",
       "      <td>...</td>\n",
       "      <td>NaN</td>\n",
       "      <td>NaN</td>\n",
       "      <td>NaN</td>\n",
       "      <td>69</td>\n",
       "      <td>NaN</td>\n",
       "      <td>False</td>\n",
       "      <td>NaN</td>\n",
       "      <td>NaN</td>\n",
       "      <td>145796</td>\n",
       "      <td>NaN</td>\n",
       "    </tr>\n",
       "  </tbody>\n",
       "</table>\n",
       "<p>5 rows × 21 columns</p>\n",
       "</div>"
      ],
      "text/plain": [
       "                    salary to_messages deferral_payments total_payments  \\\n",
       "ALLEN PHILLIP K     201955        2902           2869717        4484442   \n",
       "BADUM JAMES P          NaN         NaN            178980         182466   \n",
       "BANNANTINE JAMES M     477         566               NaN         916197   \n",
       "BAXTER JOHN C       267102         NaN           1295738        5634343   \n",
       "BAY FRANKLIN R      239671         NaN            260455         827696   \n",
       "\n",
       "                   loan_advances    bonus               email_address  \\\n",
       "ALLEN PHILLIP K              NaN  4175000     phillip.allen@enron.com   \n",
       "BADUM JAMES P                NaN      NaN                         NaN   \n",
       "BANNANTINE JAMES M           NaN      NaN  james.bannantine@enron.com   \n",
       "BAXTER JOHN C                NaN  1200000                         NaN   \n",
       "BAY FRANKLIN R               NaN   400000         frank.bay@enron.com   \n",
       "\n",
       "                   restricted_stock_deferred deferred_income  \\\n",
       "ALLEN PHILLIP K                      -126027        -3081055   \n",
       "BADUM JAMES P                            NaN             NaN   \n",
       "BANNANTINE JAMES M                   -560222           -5104   \n",
       "BAXTER JOHN C                            NaN        -1386055   \n",
       "BAY FRANKLIN R                        -82782         -201641   \n",
       "\n",
       "                   total_stock_value      ...      from_poi_to_this_person  \\\n",
       "ALLEN PHILLIP K              1729541      ...                           47   \n",
       "BADUM JAMES P                 257817      ...                          NaN   \n",
       "BANNANTINE JAMES M           5243487      ...                           39   \n",
       "BAXTER JOHN C               10623258      ...                          NaN   \n",
       "BAY FRANKLIN R                 63014      ...                          NaN   \n",
       "\n",
       "                   exercised_stock_options from_messages    other  \\\n",
       "ALLEN PHILLIP K                    1729541          2195      152   \n",
       "BADUM JAMES P                       257817           NaN      NaN   \n",
       "BANNANTINE JAMES M                 4046157            29   864523   \n",
       "BAXTER JOHN C                      6680544           NaN  2660303   \n",
       "BAY FRANKLIN R                         NaN           NaN       69   \n",
       "\n",
       "                   from_this_person_to_poi    poi  long_term_incentive  \\\n",
       "ALLEN PHILLIP K                         65  False               304805   \n",
       "BADUM JAMES P                          NaN  False                  NaN   \n",
       "BANNANTINE JAMES M                       0  False                  NaN   \n",
       "BAXTER JOHN C                          NaN  False              1586055   \n",
       "BAY FRANKLIN R                         NaN  False                  NaN   \n",
       "\n",
       "                   shared_receipt_with_poi restricted_stock director_fees  \n",
       "ALLEN PHILLIP K                       1407           126027           NaN  \n",
       "BADUM JAMES P                          NaN              NaN           NaN  \n",
       "BANNANTINE JAMES M                     465          1757552           NaN  \n",
       "BAXTER JOHN C                          NaN          3942714           NaN  \n",
       "BAY FRANKLIN R                         NaN           145796           NaN  \n",
       "\n",
       "[5 rows x 21 columns]"
      ]
     },
     "execution_count": 2,
     "metadata": {},
     "output_type": "execute_result"
    }
   ],
   "source": [
    "import pandas as pd\n",
    "df = pd.DataFrame.from_dict(data_dict, orient='index')\n",
    "df.head()"
   ]
  },
  {
   "cell_type": "markdown",
   "metadata": {},
   "source": [
    "We can already see that we have `NaN` values in our dataset. We will deal with this later.  \n",
    "\n",
    "Right now, let's get a little more information about the dataset."
   ]
  },
  {
   "cell_type": "code",
   "execution_count": 3,
   "metadata": {},
   "outputs": [
    {
     "name": "stdout",
     "output_type": "stream",
     "text": [
      "<class 'pandas.core.frame.DataFrame'>\n",
      "Index: 146 entries, ALLEN PHILLIP K to YEAP SOON\n",
      "Data columns (total 21 columns):\n",
      "salary                       146 non-null object\n",
      "to_messages                  146 non-null object\n",
      "deferral_payments            146 non-null object\n",
      "total_payments               146 non-null object\n",
      "loan_advances                146 non-null object\n",
      "bonus                        146 non-null object\n",
      "email_address                146 non-null object\n",
      "restricted_stock_deferred    146 non-null object\n",
      "deferred_income              146 non-null object\n",
      "total_stock_value            146 non-null object\n",
      "expenses                     146 non-null object\n",
      "from_poi_to_this_person      146 non-null object\n",
      "exercised_stock_options      146 non-null object\n",
      "from_messages                146 non-null object\n",
      "other                        146 non-null object\n",
      "from_this_person_to_poi      146 non-null object\n",
      "poi                          146 non-null bool\n",
      "long_term_incentive          146 non-null object\n",
      "shared_receipt_with_poi      146 non-null object\n",
      "restricted_stock             146 non-null object\n",
      "director_fees                146 non-null object\n",
      "dtypes: bool(1), object(20)\n",
      "memory usage: 24.1+ KB\n"
     ]
    }
   ],
   "source": [
    "df.info()"
   ]
  },
  {
   "cell_type": "markdown",
   "metadata": {},
   "source": [
    "From this, we know that there are 146 entries in the dataset, defined by 21 variables. Our `POI` variable is a boolean, so we can easily know how many persons of interests are in the dataset."
   ]
  },
  {
   "cell_type": "code",
   "execution_count": 4,
   "metadata": {},
   "outputs": [
    {
     "data": {
      "text/plain": [
       "18"
      ]
     },
     "execution_count": 4,
     "metadata": {},
     "output_type": "execute_result"
    }
   ],
   "source": [
    "sum(df['poi'])"
   ]
  },
  {
   "cell_type": "markdown",
   "metadata": {},
   "source": [
    "There are 18 declared persons of interest in the dataset. There should be more (Katie identified 35 from [press documents](http://usatoday30.usatoday.com/money/industries/energy/2005-12-28-enron-participants_x.htm\n",
    ")), but only 18 appear in this dataset. This could be due to various reasons: maybe these persons were declared innocent in the end, maybe we only have a portion of the dataset where the 18 should be used to train a classifier to identify the 17 left...  \n",
    "\n",
    "It would be interesting to do a little digging, but for the purpose of this project, **the dataset with 18 POIs is the one we will work with**."
   ]
  },
  {
   "cell_type": "markdown",
   "metadata": {},
   "source": [
    "## Visualizing the data"
   ]
  },
  {
   "cell_type": "markdown",
   "metadata": {},
   "source": [
    "Now that we have a dataframe, we can easily visualize all of our features as a scatter plot. For example we can plot salary on x  against another feature on y. We will not define a function to plot the features: pandas dataframe coupled with matplotlib will be enough.  \n",
    "\n",
    "Now is also a good time to get rid of `NaN` values, otherwise we will get errors while plotting. We will start with this. We will use `np.nan` to deal with the `NaN` values, since this will allow us to perform vectorized operations."
   ]
  },
  {
   "cell_type": "code",
   "execution_count": 5,
   "metadata": {
    "collapsed": true
   },
   "outputs": [],
   "source": [
    "import numpy as np\n",
    "\n",
    "df = df.replace('NaN', np.nan)"
   ]
  },
  {
   "cell_type": "markdown",
   "metadata": {},
   "source": [
    "Let's take another quick look at our dataset to see how it was affected, before visualizing our variables."
   ]
  },
  {
   "cell_type": "code",
   "execution_count": 6,
   "metadata": {
    "scrolled": true
   },
   "outputs": [
    {
     "name": "stdout",
     "output_type": "stream",
     "text": [
      "<class 'pandas.core.frame.DataFrame'>\n",
      "Index: 146 entries, ALLEN PHILLIP K to YEAP SOON\n",
      "Data columns (total 21 columns):\n",
      "salary                       95 non-null float64\n",
      "to_messages                  86 non-null float64\n",
      "deferral_payments            39 non-null float64\n",
      "total_payments               125 non-null float64\n",
      "loan_advances                4 non-null float64\n",
      "bonus                        82 non-null float64\n",
      "email_address                111 non-null object\n",
      "restricted_stock_deferred    18 non-null float64\n",
      "deferred_income              49 non-null float64\n",
      "total_stock_value            126 non-null float64\n",
      "expenses                     95 non-null float64\n",
      "from_poi_to_this_person      86 non-null float64\n",
      "exercised_stock_options      102 non-null float64\n",
      "from_messages                86 non-null float64\n",
      "other                        93 non-null float64\n",
      "from_this_person_to_poi      86 non-null float64\n",
      "poi                          146 non-null bool\n",
      "long_term_incentive          66 non-null float64\n",
      "shared_receipt_with_poi      86 non-null float64\n",
      "restricted_stock             110 non-null float64\n",
      "director_fees                17 non-null float64\n",
      "dtypes: bool(1), float64(19), object(1)\n",
      "memory usage: 24.1+ KB\n"
     ]
    }
   ],
   "source": [
    "df.info()"
   ]
  },
  {
   "cell_type": "markdown",
   "metadata": {},
   "source": [
    "The only unaffected variable is the POI one. The others have been more or less expurgated: `director_fees` now has 17 usable entries, and loan_advances only 4.\n",
    "\n",
    "Let's now visualize our data. We will focus on `salary` and `bonus` for now."
   ]
  },
  {
   "cell_type": "code",
   "execution_count": 7,
   "metadata": {},
   "outputs": [
    {
     "data": {
      "image/png": "[encoded data removed]",
      "text/plain": [
       "<matplotlib.figure.Figure at 0x1149fc748>"
      ]
     },
     "metadata": {},
     "output_type": "display_data"
    }
   ],
   "source": [
    "import matplotlib.pyplot as plt\n",
    "import seaborn as sns\n",
    "%matplotlib inline\n",
    "\n",
    "features = ['salary', 'bonus']\n",
    "data = featureFormat(my_dataset, features)\n",
    "\n",
    "for person in data:\n",
    "    salary = person[0]\n",
    "    bonus = person[1]\n",
    "    plt.scatter(salary, bonus)\n",
    "    plt.title('Salary vs Bonus')"
   ]
  },
  {
   "cell_type": "markdown",
   "metadata": {},
   "source": [
    "It looks like we have an outlier. Let's dig in."
   ]
  },
  {
   "cell_type": "code",
   "execution_count": 8,
   "metadata": {},
   "outputs": [
    {
     "name": "stdout",
     "output_type": "stream",
     "text": [
      "[ 26704229.  97343619.]\n",
      "TOTAL\n"
     ]
    }
   ],
   "source": [
    "outlier = max(data,key=lambda item:item[1])\n",
    "print (outlier)\n",
    "\n",
    "for person in my_dataset:\n",
    "    if my_dataset[person]['salary'] == outlier[0] and my_dataset[person]['bonus'] == outlier[1]:\n",
    "        print (person)"
   ]
  },
  {
   "cell_type": "markdown",
   "metadata": {},
   "source": [
    "Our outlier is simply the total of all other individuals. It is not useful for what we want to do: let's get rid of it. As long as we're visualizing, we'll have to modify both the dictionary and the dataframe. Once we get to the classification, we will focus on the dictionary."
   ]
  },
  {
   "cell_type": "code",
   "execution_count": 9,
   "metadata": {
    "collapsed": true
   },
   "outputs": [],
   "source": [
    "my_dataset.pop('TOTAL', 0)\n",
    "data = featureFormat(my_dataset, features)"
   ]
  },
  {
   "cell_type": "code",
   "execution_count": 10,
   "metadata": {},
   "outputs": [
    {
     "data": {
      "text/plain": [
       "145"
      ]
     },
     "execution_count": 10,
     "metadata": {},
     "output_type": "execute_result"
    }
   ],
   "source": [
    "len(my_dataset)"
   ]
  },
  {
   "cell_type": "markdown",
   "metadata": {},
   "source": [
    "Our `TOTAL` entry was removed as expected. Let's plot it again, making sure to redefine our dataframe first:"
   ]
  },
  {
   "cell_type": "code",
   "execution_count": 11,
   "metadata": {},
   "outputs": [
    {
     "data": {
      "image/png": "[encoded data removed]",
      "text/plain": [
       "<matplotlib.figure.Figure at 0x115af34a8>"
      ]
     },
     "metadata": {},
     "output_type": "display_data"
    }
   ],
   "source": [
    "for person in data:\n",
    "    salary = person[0]\n",
    "    bonus = person[1]\n",
    "    plt.scatter(salary, bonus)\n",
    "    plt.title('Salary vs Bonus')"
   ]
  },
  {
   "cell_type": "markdown",
   "metadata": {},
   "source": [
    "This looks much better. We are now going to identify other outliers, on arbitrary basis: we will define an outlier as someone whose salary was superior to <br />\\$ 1,000,000 **AND** whose bonus was superior to \\$ 5,000,000."
   ]
  },
  {
   "cell_type": "code",
   "execution_count": 12,
   "metadata": {},
   "outputs": [
    {
     "name": "stdout",
     "output_type": "stream",
     "text": [
      "LAY KENNETH L Salary: 1072321 Bonus: 7000000\n",
      "SKILLING JEFFREY K Salary: 1111258 Bonus: 5600000\n"
     ]
    }
   ],
   "source": [
    "for person in my_dataset:\n",
    "    if my_dataset[person]['salary'] != 'NaN' and my_dataset[person]['bonus'] != 'NaN' and my_dataset[person]['salary'] >= 1000000 and my_dataset[person]['bonus'] >= 5000000:\n",
    "        print (person, 'Salary:', my_dataset[person]['salary'], 'Bonus:', my_dataset[person]['bonus'])"
   ]
  },
  {
   "cell_type": "markdown",
   "metadata": {},
   "source": [
    "Two persons correspond to our investigation:\n",
    "- **Kenneth L. Lay**, CEO and then Chairman of Enron Corporation\n",
    "- **Jeffrey K. Skilling**, COO and then CEO of Enron Corporation"
   ]
  },
  {
   "cell_type": "markdown",
   "metadata": {},
   "source": [
    "## Creating new features\n",
    "\n",
    "> What features did you end up using in your POI identifier, and what selection process did you use to pick them? Did you have to do any scaling? Why or why not? As part of the assignment, you should attempt to engineer your own feature that does not come ready-made in the dataset -- explain what feature you tried to make, and the rationale behind it. (You do not necessarily have to use it in the final analysis, only engineer and test it.) In your feature selection step, if you used an algorithm like a decision tree, please also give the feature importances of the features that you use, and if you used an automated feature selection function like SelectKBest, please report the feature scores and reasons for your choice of parameter values.  [relevant rubric items: “create new features”, “intelligently select features”, “properly scale features”]"
   ]
  },
  {
   "cell_type": "markdown",
   "metadata": {},
   "source": [
    "We could create new interesting features from the ones we already have. For example, we can assume that POIs\n",
    "exchange send more emails to other POIs than non-POIs. Let's create features that hold these ratios."
   ]
  },
  {
   "cell_type": "code",
   "execution_count": 13,
   "metadata": {
    "collapsed": true
   },
   "outputs": [],
   "source": [
    "for person in my_dataset:\n",
    "    if my_dataset[person]['from_poi_to_this_person'] != 'NaN' and my_dataset[person]['from_this_person_to_poi'] != 'NaN':\n",
    "        my_dataset[person]['from_poi_ratio'] = my_dataset[person]['from_poi_to_this_person'] / my_dataset[person]['to_messages']\n",
    "        my_dataset[person]['to_poi_ratio'] = my_dataset[person]['from_this_person_to_poi'] / my_dataset[person]['from_messages']\n",
    "    else:\n",
    "        my_dataset[person]['from_poi_ratio'] = 'NaN'\n",
    "        my_dataset[person]['to_poi_ratio'] = 'NaN'"
   ]
  },
  {
   "cell_type": "markdown",
   "metadata": {},
   "source": [
    "Let's now generate a scatter plot distinguishing between POIs and non-POIs, and check if our assumptions were right."
   ]
  },
  {
   "cell_type": "code",
   "execution_count": 14,
   "metadata": {},
   "outputs": [
    {
     "data": {
      "text/plain": [
       "<matplotlib.text.Text at 0x115d71278>"
      ]
     },
     "execution_count": 14,
     "metadata": {},
     "output_type": "execute_result"
    },
    {
     "data": {
      "image/png": "[encoded data removed]",
      "text/plain": [
       "<matplotlib.figure.Figure at 0x115d6b0f0>"
      ]
     },
     "metadata": {},
     "output_type": "display_data"
    }
   ],
   "source": [
    "features = ['poi', 'from_poi_ratio', 'to_poi_ratio']\n",
    "data = featureFormat(my_dataset, features)\n",
    "\n",
    "for person in data:\n",
    "    x = person[1]\n",
    "    y = person[2]\n",
    "    if person[0] == 0:\n",
    "        plt.scatter(x, y, color='black', alpha=0.5)\n",
    "    else:\n",
    "        plt.scatter(x, y, color='r')\n",
    "        \n",
    "plt.xlabel('Fraction of emails received from POIs')\n",
    "plt.ylabel('Fraction of emails sent to POIs')"
   ]
  },
  {
   "cell_type": "markdown",
   "metadata": {},
   "source": [
    "It's hard to conclude anything from this. Although it appears that POIs do exchange a lot of emails, it seems hasty to conclude that it can be confidently used as a predictive feature.  \n",
    "\n",
    "In the next part, we're actually going to use feature selection and dimension reduction to select the strongest variables to do the job."
   ]
  },
  {
   "cell_type": "markdown",
   "metadata": {},
   "source": [
    "## Testing classifiers"
   ]
  },
  {
   "cell_type": "code",
   "execution_count": 15,
   "metadata": {
    "collapsed": true
   },
   "outputs": [],
   "source": [
    "features_list = ['poi', 'salary', 'bonus', 'deferral_payments', 'total_payments', 'loan_advances', \n",
    "                 'restricted_stock_deferred', 'deferred_income', 'total_stock_value', 'expenses', \n",
    "                 'exercised_stock_options', 'long_term_incentive', 'restricted_stock', 'director_fees',\n",
    "                 'shared_receipt_with_poi', 'from_poi_ratio', 'to_poi_ratio']\n",
    "\n",
    "data = featureFormat(my_dataset, features_list)\n",
    "labels, features = targetFeatureSplit(data)"
   ]
  },
  {
   "cell_type": "markdown",
   "metadata": {},
   "source": [
    "We took care of putting `poi` first, because that's what the algorithm expects to recognize it as the label. We also got rid of non-numercial values. Now that the preparation is done, we're ready to test different classifiers."
   ]
  },
  {
   "cell_type": "code",
   "execution_count": 16,
   "metadata": {},
   "outputs": [
    {
     "name": "stdout",
     "output_type": "stream",
     "text": [
      "GaussianNB accuracy: 0.227272727273\n",
      "GaussianNB precision: 0.108108108108\n",
      "GaussianNB recall: 0.8 \n",
      "\n",
      "Decision Tree accuracy: 0.704545454545\n",
      "Decision Tree precision: 0.214285714286\n",
      "Decision Tree recall: 0.6 \n",
      "\n",
      "SVC accuracy: 0.886363636364\n",
      "SVC precision: 0.0\n",
      "SVC recall: 0.0 \n",
      "\n",
      "Random Forest accuracy: 0.886363636364\n",
      "Random Forest precision: 0.5\n",
      "Random Forest recall: 0.2 \n",
      "\n",
      "K Neighbors accuracy: 0.886363636364\n",
      "K Neighbors precision: 0.5\n",
      "K Neighbors recall: 0.2 \n",
      "\n"
     ]
    }
   ],
   "source": [
    "from sklearn.metrics import precision_score, recall_score\n",
    "from sklearn.model_selection import train_test_split\n",
    "\n",
    "features_train, features_test, labels_train, labels_test = train_test_split(features, labels,\n",
    "                                                                            test_size=0.3, random_state=42)\n",
    "from sklearn.naive_bayes import GaussianNB\n",
    "clf = GaussianNB()\n",
    "clf.fit(features_train, labels_train)\n",
    "gnb_pred = clf.predict(features_test)\n",
    "gnb_score = clf.score(features_test, labels_test)\n",
    "gnb_precision = precision_score(labels_test, gnb_pred)\n",
    "gnb_recall = recall_score(labels_test, gnb_pred)\n",
    "print ('GaussianNB accuracy:', gnb_score)\n",
    "print ('GaussianNB precision:', gnb_precision)\n",
    "print ('GaussianNB recall:', gnb_recall, '\\n')\n",
    "\n",
    "\n",
    "from sklearn.tree import DecisionTreeClassifier\n",
    "clf = DecisionTreeClassifier(random_state=0)\n",
    "fit = clf.fit(features_train, labels_train)\n",
    "dt_pred = clf.predict(features_test, labels_test)\n",
    "dt_score = clf.score(features_test, labels_test)\n",
    "dt_precision = precision_score(labels_test, dt_pred)\n",
    "dt_recall = recall_score(labels_test, dt_pred)\n",
    "print ('Decision Tree accuracy:', dt_score)\n",
    "print ('Decision Tree precision:', dt_precision)\n",
    "print ('Decision Tree recall:', dt_recall, '\\n')\n",
    "\n",
    "\n",
    "from sklearn.svm import SVC\n",
    "clf = SVC(random_state=0)\n",
    "fit = clf.fit(features_train, labels_train)\n",
    "svc_pred = clf.predict(features_test)\n",
    "svc_score = clf.score(features_test, labels_test)\n",
    "svc_precision = precision_score(labels_test, svc_pred)\n",
    "svc_recall = recall_score(labels_test, svc_pred)\n",
    "print ('SVC accuracy:', svc_score)\n",
    "print ('SVC precision:', svc_precision)\n",
    "print ('SVC recall:', svc_recall, '\\n')\n",
    "\n",
    "\n",
    "from sklearn.ensemble import RandomForestClassifier\n",
    "clf = RandomForestClassifier(random_state=0)\n",
    "fit = clf.fit(features_train, labels_train)\n",
    "rf_pred = clf.predict(features_test)\n",
    "rf_score = clf.score(features_test, labels_test)\n",
    "rf_precision = precision_score(labels_test, rf_pred)\n",
    "rf_recall = recall_score(labels_test, rf_pred)\n",
    "print ('Random Forest accuracy:', rf_score)\n",
    "print ('Random Forest precision:', rf_precision)\n",
    "print ('Random Forest recall:', rf_recall, '\\n')\n",
    "\n",
    "\n",
    "from sklearn.neighbors import KNeighborsClassifier\n",
    "clf = KNeighborsClassifier()\n",
    "fit = clf.fit(features_train, labels_train)\n",
    "kn_pred = clf.predict(features_test)\n",
    "kn_score = clf.score(features_test, labels_test)\n",
    "kn_precision = precision_score(labels_test, kn_pred)\n",
    "kn_recall = recall_score(labels_test, kn_pred)\n",
    "print ('K Neighbors accuracy:', kn_score)\n",
    "print ('K Neighbors precision:', kn_precision)\n",
    "print ('K Neighbors recall:', kn_recall, '\\n')"
   ]
  },
  {
   "cell_type": "markdown",
   "metadata": {},
   "source": [
    "## Chosing and optimizing an algorithm "
   ]
  },
  {
   "cell_type": "markdown",
   "metadata": {},
   "source": [
    "We're going to go with the Decision Tree algorithm because it seems to have a good, consistent performance overall.\n",
    "This algorithm also has a few advantages:\n",
    "- it completes feature selection automatically\n",
    "- it doesn't require feature scaling (variable transformation or normalization)\n",
    "- it is not impacted by missing values (and we have a lot of these)\n",
    "- it is robust to non-linear relationships\n",
    "- they are intuitive and easy to explain when communicating results and insights"
   ]
  },
  {
   "cell_type": "markdown",
   "metadata": {},
   "source": [
    "## Feature selection"
   ]
  },
  {
   "cell_type": "code",
   "execution_count": 17,
   "metadata": {},
   "outputs": [
    {
     "name": "stdout",
     "output_type": "stream",
     "text": [
      "Decision Tree accuracy: 0.704545454545\n",
      "Decision Tree precision: 0.214285714286\n",
      "Decision Tree recall: 0.6 \n",
      "\n",
      "salary importance: 0.0\n",
      "bonus importance: 0.363998070895\n",
      "deferral_payments importance: 0.0\n",
      "total_payments importance: 0.0736811081639\n",
      "loan_advances importance: 0.0\n",
      "restricted_stock_deferred importance: 0.0\n",
      "deferred_income importance: 0.0\n",
      "total_stock_value importance: 0.0\n",
      "expenses importance: 0.0208931361506\n",
      "exercised_stock_options importance: 0.212249881456\n",
      "long_term_incentive importance: 0.0663129973475\n",
      "restricted_stock importance: 0.0\n",
      "director_fees importance: 0.0\n",
      "shared_receipt_with_poi importance: 0.178534992859\n",
      "from_poi_ratio importance: 0.0\n",
      "to_poi_ratio importance: 0.0843298131289\n"
     ]
    }
   ],
   "source": [
    "clf = DecisionTreeClassifier(random_state=0)\n",
    "fit = clf.fit(features_train, labels_train)\n",
    "dt_pred = clf.predict(features_test, labels_test)\n",
    "dt_score = clf.score(features_test, labels_test)\n",
    "dt_precision = precision_score(labels_test, dt_pred)\n",
    "dt_recall = recall_score(labels_test, dt_pred)\n",
    "importance = clf.feature_importances_\n",
    "print ('Decision Tree accuracy:', dt_score)\n",
    "print ('Decision Tree precision:', dt_precision)\n",
    "print ('Decision Tree recall:', dt_recall, '\\n')\n",
    "\n",
    "for i in range(len(importance)):\n",
    "    print(features_list[i+1], 'importance:', importance[i])"
   ]
  },
  {
   "cell_type": "markdown",
   "metadata": {},
   "source": [
    "We're going to use `SelectKBest` to choose which features we're going to include in our final list. SelectKBest simply removes all but the k highest scoring features."
   ]
  },
  {
   "cell_type": "code",
   "execution_count": 18,
   "metadata": {},
   "outputs": [
    {
     "name": "stdout",
     "output_type": "stream",
     "text": [
      "(100, 5)\n",
      "Features selected by SelectKBest:\n",
      "['bonus', 'total_stock_value', 'expenses', 'exercised_stock_options', 'to_poi_ratio']\n"
     ]
    }
   ],
   "source": [
    "from sklearn.feature_selection import SelectKBest, f_classif\n",
    "\n",
    "kbest = SelectKBest(f_classif, k=5)\n",
    "features_selected = kbest.fit_transform(features_train, labels_train)\n",
    "print(features_selected.shape)\n",
    "\n",
    "final_features = [features_list[i+1] for i in kbest.get_support(indices=True)]\n",
    "print ('Features selected by SelectKBest:')\n",
    "print (final_features)"
   ]
  },
  {
   "cell_type": "markdown",
   "metadata": {},
   "source": [
    "According to our results, the top 5 features we should use are `['bonus', 'total_stock_value', 'expenses', 'exercised_stock_options', 'to_poi_ratio']`"
   ]
  },
  {
   "cell_type": "markdown",
   "metadata": {},
   "source": [
    "We're going to test different classifiers on our selected features once again."
   ]
  },
  {
   "cell_type": "code",
   "execution_count": 19,
   "metadata": {},
   "outputs": [
    {
     "name": "stdout",
     "output_type": "stream",
     "text": [
      "GaussianNB accuracy: 0.857142857143\n",
      "GaussianNB precision: 0.666666666667\n",
      "GaussianNB recall: 0.5 \n",
      "\n",
      "K Neighbors accuracy: 0.833333333333\n",
      "K Neighbors precision: 1.0\n",
      "K Neighbors recall: 0.125 \n",
      "\n",
      "Decision Tree accuracy: 0.809523809524\n",
      "Decision Tree precision: 0.5\n",
      "Decision Tree recall: 0.125 \n",
      "\n"
     ]
    }
   ],
   "source": [
    "features_select = ['poi', 'bonus', 'total_stock_value', 'expenses', 'exercised_stock_options', 'to_poi_ratio']\n",
    "data = featureFormat(my_dataset, features_select)\n",
    "labels, features = targetFeatureSplit(data)\n",
    "features_train, features_test, labels_train, labels_test = train_test_split(features, labels,\n",
    "                                                                            test_size=0.3, random_state=42)\n",
    "\n",
    "from sklearn.naive_bayes import GaussianNB\n",
    "clf = GaussianNB()\n",
    "clf.fit(features_train, labels_train)\n",
    "gnb_pred = clf.predict(features_test)\n",
    "gnb_score = clf.score(features_test, labels_test)\n",
    "gnb_precision = precision_score(labels_test, gnb_pred)\n",
    "gnb_recall = recall_score(labels_test, gnb_pred)\n",
    "print ('GaussianNB accuracy:', gnb_score)\n",
    "print ('GaussianNB precision:', gnb_precision)\n",
    "print ('GaussianNB recall:', gnb_recall, '\\n')\n",
    "\n",
    "from sklearn.neighbors import KNeighborsClassifier\n",
    "clf = KNeighborsClassifier()\n",
    "fit = clf.fit(features_train, labels_train)\n",
    "kn_pred = clf.predict(features_test)\n",
    "kn_score = clf.score(features_test, labels_test)\n",
    "kn_precision = precision_score(labels_test, kn_pred)\n",
    "kn_recall = recall_score(labels_test, kn_pred)\n",
    "print ('K Neighbors accuracy:', kn_score)\n",
    "print ('K Neighbors precision:', kn_precision)\n",
    "print ('K Neighbors recall:', kn_recall, '\\n')\n",
    "\n",
    "clf = DecisionTreeClassifier(random_state=0)\n",
    "fit = clf.fit(features_train, labels_train)\n",
    "dt_pred = clf.predict(features_test, labels_test)\n",
    "dt_score = clf.score(features_test, labels_test)\n",
    "dt_precision = precision_score(labels_test, dt_pred)\n",
    "dt_recall = recall_score(labels_test, dt_pred)\n",
    "print ('Decision Tree accuracy:', dt_score)\n",
    "print ('Decision Tree precision:', dt_precision)\n",
    "print ('Decision Tree recall:', dt_recall, '\\n')"
   ]
  },
  {
   "cell_type": "markdown",
   "metadata": {},
   "source": [
    "Our feature selection does not seem to have an interesting impact over our classifiers. In the next phase, we will let `SelectKBest` be the judge directly during the optimization."
   ]
  },
  {
   "cell_type": "markdown",
   "metadata": {},
   "source": [
    "## Optimizing our algorithms, validating and evaluating metrics"
   ]
  },
  {
   "cell_type": "markdown",
   "metadata": {},
   "source": [
    "We are aiming to achieve a precision and recall better than .3, and in general, the best possible.\n",
    " \n",
    "We will now optimize our classifiers. We will test run them with their default parameters before trying to optimize them.\n",
    "\n",
    "First, we're going to reset our list, features and labels, and let SelectKBest do the job each time."
   ]
  },
  {
   "cell_type": "code",
   "execution_count": 20,
   "metadata": {
    "collapsed": true
   },
   "outputs": [],
   "source": [
    "features_list = ['poi', 'salary', 'bonus', 'deferral_payments', 'total_payments', 'loan_advances', \n",
    "                 'restricted_stock_deferred', 'deferred_income', 'total_stock_value', 'expenses', \n",
    "                 'exercised_stock_options', 'long_term_incentive', 'restricted_stock', 'director_fees',\n",
    "                 'shared_receipt_with_poi', 'from_poi_ratio', 'to_poi_ratio']\n",
    "data = featureFormat(my_dataset, features_list)\n",
    "labels, features = targetFeatureSplit(data)\n",
    "features_train, features_test, labels_train, labels_test = train_test_split(features, labels,\n",
    "                                                                            test_size=0.3, random_state=42)"
   ]
  },
  {
   "cell_type": "markdown",
   "metadata": {},
   "source": [
    "Validation is important in machine learning, and it needs to be executed the right way to avoid over-fitting. When this happens, our algorithm will perform extremely well on the trained data, but will be unable to generalize to the test data.\n",
    "\n",
    "We will be using `StratifiedShuffleSplit` for validation. This cross validation object returns stratified randomized folds, and fits the structure of our unbalanced data (a lot more non-POIs than POIs).\n",
    "\n",
    "We're going to use two validation metrics, **precision** and **recall**. In the context of this project:\n",
    "- precision measures how many positive predictions were actual positive observations, that is, the proportion of predicted POIs that were actually POIs\n",
    "- recall measures how many positive observations were predicted correctly, that is, the proportion of actual POIs that were predicted correctly"
   ]
  },
  {
   "cell_type": "markdown",
   "metadata": {},
   "source": [
    "We will start with a `GaussianNB` classifier: there are no parameters to select, so it will give us a good base line."
   ]
  },
  {
   "cell_type": "code",
   "execution_count": 21,
   "metadata": {
    "scrolled": false
   },
   "outputs": [
    {
     "name": "stdout",
     "output_type": "stream",
     "text": [
      "Pipeline(steps=[('scaler', MinMaxScaler(copy=True, feature_range=(0, 1))), ('feature_select', SelectKBest(k=11, score_func=<function f_classif at 0x115d8d1e0>)), ('classifier', GaussianNB(priors=None))])\n",
      "\tAccuracy: 0.84800\tPrecision: 0.40979\tRecall: 0.31800\tF1: 0.35811\tF2: 0.33291\n",
      "\tTotal predictions: 15000\tTrue positives:  636\tFalse positives:  916\tFalse negatives: 1364\tTrue negatives: 12084\n",
      "\n"
     ]
    }
   ],
   "source": [
    "from sklearn.model_selection import GridSearchCV, StratifiedShuffleSplit\n",
    "from sklearn.pipeline import Pipeline\n",
    "from sklearn.preprocessing import MinMaxScaler\n",
    "from tester import test_classifier\n",
    "\n",
    "scaler = MinMaxScaler()\n",
    "select = SelectKBest()\n",
    "gnb = GaussianNB()\n",
    "\n",
    "steps = [('scaler', scaler),\n",
    "         ('feature_select', select),\n",
    "         ('classifier', gnb)]\n",
    "\n",
    "param_grid = {'feature_select__k': range(1,17)}\n",
    "sss = StratifiedShuffleSplit(100, test_size=0.3, random_state = 0)\n",
    "pipe = Pipeline(steps)\n",
    "gs = GridSearchCV(pipe, param_grid, cv=sss, scoring='f1')\n",
    "\n",
    "gs.fit(features_train, labels_train)\n",
    "clf = gs.best_estimator_\n",
    "\n",
    "test_classifier(clf, my_dataset, features_list)"
   ]
  },
  {
   "cell_type": "markdown",
   "metadata": {},
   "source": [
    "Let's now run a `KNeighbors` classifier with its default parameters:"
   ]
  },
  {
   "cell_type": "code",
   "execution_count": 22,
   "metadata": {
    "scrolled": false
   },
   "outputs": [
    {
     "name": "stdout",
     "output_type": "stream",
     "text": [
      "Pipeline(steps=[('scaler', MinMaxScaler(copy=True, feature_range=(0, 1))), ('feature_select', SelectKBest(k=14, score_func=<function f_classif at 0x115d8d1e0>)), ('classifier', KNeighborsClassifier(algorithm='auto', leaf_size=30, metric='minkowski',\n",
      "           metric_params=None, n_jobs=1, n_neighbors=5, p=2,\n",
      "           weights='uniform'))])\n",
      "\tAccuracy: 0.85013\tPrecision: 0.17021\tRecall: 0.03200\tF1: 0.05387\tF2: 0.03820\n",
      "\tTotal predictions: 15000\tTrue positives:   64\tFalse positives:  312\tFalse negatives: 1936\tTrue negatives: 12688\n",
      "\n"
     ]
    }
   ],
   "source": [
    "kn = KNeighborsClassifier()\n",
    "\n",
    "steps = [('scaler', scaler),\n",
    "         ('feature_select', select),\n",
    "         ('classifier', kn)]\n",
    "\n",
    "param_grid = {'feature_select__k': range(1,17)}\n",
    "\n",
    "pipe = Pipeline(steps)\n",
    "gs = GridSearchCV(pipe, param_grid, cv=sss, scoring='f1')\n",
    "gs.fit(features_train, labels_train)\n",
    "gs.best_params_\n",
    "\n",
    "clf = gs.best_estimator_\n",
    "test_classifier(clf, my_dataset, features_list)"
   ]
  },
  {
   "cell_type": "markdown",
   "metadata": {},
   "source": [
    "Now let's tune the `KNeighbors` parameters:"
   ]
  },
  {
   "cell_type": "code",
   "execution_count": 23,
   "metadata": {
    "scrolled": false
   },
   "outputs": [
    {
     "name": "stdout",
     "output_type": "stream",
     "text": [
      "Pipeline(steps=[('scaler', MinMaxScaler(copy=True, feature_range=(0, 1))), ('feature_select', SelectKBest(k=3, score_func=<function f_classif at 0x115d8d1e0>)), ('classifier', KNeighborsClassifier(algorithm='ball_tree', leaf_size=30, metric='minkowski',\n",
      "           metric_params=None, n_jobs=1, n_neighbors=3, p=2,\n",
      "           weights='distance'))])\n",
      "\tAccuracy: 0.84993\tPrecision: 0.40613\tRecall: 0.27150\tF1: 0.32544\tF2: 0.29078\n",
      "\tTotal predictions: 15000\tTrue positives:  543\tFalse positives:  794\tFalse negatives: 1457\tTrue negatives: 12206\n",
      "\n"
     ]
    }
   ],
   "source": [
    "param_grid = {'feature_select__k': range(1,17),\n",
    "              'classifier__n_neighbors': np.arange(3, 10),\n",
    "              'classifier__weights': ['uniform', 'distance'],\n",
    "              'classifier__algorithm': ['ball_tree', 'kd_tree', 'brute']}\n",
    "\n",
    "pipe = Pipeline(steps)\n",
    "gs = GridSearchCV(pipe, param_grid, cv=sss, scoring='f1')\n",
    "gs.fit(features_train, labels_train)\n",
    "gs.best_params_\n",
    "\n",
    "clf = gs.best_estimator_\n",
    "test_classifier(clf, my_dataset, features_list)"
   ]
  },
  {
   "cell_type": "markdown",
   "metadata": {},
   "source": [
    "Lastly let's try a `DecisionTree` with default parameters. We will omit the scaling step since the algorithm does it automatically."
   ]
  },
  {
   "cell_type": "code",
   "execution_count": 24,
   "metadata": {},
   "outputs": [
    {
     "name": "stdout",
     "output_type": "stream",
     "text": [
      "Pipeline(steps=[('feature_select', SelectKBest(k=7, score_func=<function f_classif at 0x115d8d1e0>)), ('classifier', DecisionTreeClassifier(class_weight=None, criterion='gini', max_depth=None,\n",
      "            max_features=None, max_leaf_nodes=None,\n",
      "            min_impurity_split=1e-07, min_samples_leaf=1,\n",
      "            min_samples_split=2, min_weight_fraction_leaf=0.0,\n",
      "            presort=False, random_state=0, splitter='best'))])\n",
      "\tAccuracy: 0.81007\tPrecision: 0.27717\tRecall: 0.26400\tF1: 0.27042\tF2: 0.26653\n",
      "\tTotal predictions: 15000\tTrue positives:  528\tFalse positives: 1377\tFalse negatives: 1472\tTrue negatives: 11623\n",
      "\n"
     ]
    }
   ],
   "source": [
    "dtc = DecisionTreeClassifier(random_state=0)\n",
    "\n",
    "steps = [('feature_select', select),\n",
    "         ('classifier', dtc)]\n",
    "\n",
    "param_grid = {'feature_select__k':range(1,17)}\n",
    "\n",
    "pipe = Pipeline(steps)\n",
    "gs = GridSearchCV(pipe, param_grid, cv=sss, scoring='f1')\n",
    "gs.fit(features, labels)\n",
    "gs.best_params_\n",
    "\n",
    "clf = gs.best_estimator_\n",
    "test_classifier(clf, my_dataset, features_list)"
   ]
  },
  {
   "cell_type": "markdown",
   "metadata": {},
   "source": [
    "Now let's tune the `DecisionTree` parameters:"
   ]
  },
  {
   "cell_type": "code",
   "execution_count": 25,
   "metadata": {
    "scrolled": false
   },
   "outputs": [
    {
     "name": "stdout",
     "output_type": "stream",
     "text": [
      "Pipeline(steps=[('feature_select', SelectKBest(k=7, score_func=<function f_classif at 0x115d8d1e0>)), ('classifier', DecisionTreeClassifier(class_weight=None, criterion='gini', max_depth=None,\n",
      "            max_features=None, max_leaf_nodes=None,\n",
      "            min_impurity_split=1e-07, min_samples_leaf=1,\n",
      "            min_samples_split=2, min_weight_fraction_leaf=0.0,\n",
      "            presort=False, random_state=0, splitter='best'))])\n",
      "\tAccuracy: 0.81007\tPrecision: 0.27717\tRecall: 0.26400\tF1: 0.27042\tF2: 0.26653\n",
      "\tTotal predictions: 15000\tTrue positives:  528\tFalse positives: 1377\tFalse negatives: 1472\tTrue negatives: 11623\n",
      "\n"
     ]
    }
   ],
   "source": [
    "steps = [('feature_select', select),\n",
    "         ('classifier', dtc)]\n",
    "\n",
    "param_grid = {'feature_select__k':range(1,17),\n",
    "              'classifier__max_depth': np.arange(3, 10),\n",
    "              'classifier__presort': [True, False],\n",
    "              'classifier__min_samples_split': np.arange(3, 10)}\n",
    "\n",
    "pipe = Pipeline(steps)\n",
    "gs = GridSearchCV(pipe, param_grid, cv=sss, scoring='f1')\n",
    "\n",
    "gs.fit(features, labels)\n",
    "gs.best_params_\n",
    "\n",
    "gs.best_estimator_\n",
    "test_classifier(clf, my_dataset, features_list)"
   ]
  },
  {
   "cell_type": "markdown",
   "metadata": {},
   "source": [
    "We know now which parameters we should use with each classifier to obtain the best performance possible.  \n",
    "\n",
    "It seems like our Gaussian Naive Bayes classifier performs best, so we will go with this one."
   ]
  },
  {
   "cell_type": "code",
   "execution_count": 26,
   "metadata": {},
   "outputs": [
    {
     "name": "stdout",
     "output_type": "stream",
     "text": [
      "Pipeline(steps=[('scaler', MinMaxScaler(copy=True, feature_range=(0, 1))), ('feature_select', SelectKBest(k=11, score_func=<function f_classif at 0x115d8d1e0>)), ('classifier', GaussianNB(priors=None))])\n",
      "\tAccuracy: 0.84800\tPrecision: 0.40979\tRecall: 0.31800\tF1: 0.35811\tF2: 0.33291\n",
      "\tTotal predictions: 15000\tTrue positives:  636\tFalse positives:  916\tFalse negatives: 1364\tTrue negatives: 12084\n",
      "\n"
     ]
    }
   ],
   "source": [
    "from sklearn.metrics import accuracy_score\n",
    "\n",
    "score_list = []\n",
    "\n",
    "scaler = MinMaxScaler()\n",
    "select = SelectKBest()\n",
    "gnb = GaussianNB()\n",
    "\n",
    "steps = [('scaler', scaler),\n",
    "         ('feature_select', select),\n",
    "         ('classifier', gnb)]\n",
    "\n",
    "param_grid = {'feature_select__k': range(1,17)}\n",
    "sss = StratifiedShuffleSplit(100, test_size=0.3, random_state = 0)\n",
    "pipe = Pipeline(steps)\n",
    "gs = GridSearchCV(pipe, param_grid, cv=sss, scoring='f1')\n",
    "\n",
    "gs.fit(features_train, labels_train)\n",
    "clf = gs.best_estimator_\n",
    "\n",
    "test_classifier(clf, my_dataset, features_list)"
   ]
  },
  {
   "cell_type": "markdown",
   "metadata": {},
   "source": [
    "## Dumping the classifier, dataset and feature_list"
   ]
  },
  {
   "cell_type": "code",
   "execution_count": 27,
   "metadata": {
    "collapsed": true
   },
   "outputs": [],
   "source": [
    "from tester import dump_classifier_and_data\n",
    "\n",
    "dump_classifier_and_data(clf, my_dataset, features_list)"
   ]
  },
  {
   "cell_type": "markdown",
   "metadata": {},
   "source": [
    "# Conclusions\n",
    "\n",
    "We need to keep in mind that we dealt with a small, unbalanced dataset (an overwhelming majority of the dataset is comprised of non-POIs). This should make us cautious of our conclusions.\n",
    "\n",
    "Still, now we have a classifier that can help us identify POIs. Basically, we have a 84.8% chance that a person identified as a POI by the classifier is actually a POI, and 1 chance out of 3 of catching a POI.\n",
    "\n",
    "These scores are still pretty low. This analysis focused on financial data, but we also have a huge corpus of emails at our disposal. Analyzing this corpus to uncover patterns would at least help, and probably give us more material to detect and correctly flag POIs.\n",
    "\n",
    "Another possible approach would be to use deep learning. Maybe this would help reveal associations we didn't think about. "
   ]
  },
  {
   "cell_type": "markdown",
   "metadata": {},
   "source": [
    "## Possible improvements\n",
    "\n",
    "- There are other outliers that could be removed:\n",
    "    - There's an observation that has no non NaN values\n",
    "    - There's an observation that isn't a real person\n",
    "- Features like `from_poi_to_this_person` and `from_this_person_to_poi`, `shared_receipt_with_poi` can potentially create a [data leakage](https://www.kaggle.com/wiki/Leakage) (the creation of unexpected additional information in the training data, allowing a model or machine learning algorithm to make unrealistically good predictions). This can hamper the model's ability to generalize on unseen data and can give the false effect that the model performs really well. These features contain information that is used to create the feature, while also containing information about the target (POI/Non-POI)."
   ]
  },
  {
   "cell_type": "code",
   "execution_count": null,
   "metadata": {
    "collapsed": true
   },
   "outputs": [],
   "source": []
  }
 ],
 "metadata": {
  "kernelspec": {
   "display_name": "Python 3",
   "language": "python",
   "name": "python3"
  },
  "language_info": {
   "codemirror_mode": {
    "name": "ipython",
    "version": 3
   },
   "file_extension": ".py",
   "mimetype": "text/x-python",
   "name": "python",
   "nbconvert_exporter": "python",
   "pygments_lexer": "ipython3",
   "version": "3.6.0"
  }
 },
 "nbformat": 4,
 "nbformat_minor": 2
}
